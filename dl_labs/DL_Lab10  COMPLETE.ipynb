{
  "nbformat": 4,
  "nbformat_minor": 0,
  "metadata": {
    "accelerator": "GPU",
    "colab": {
      "name": "DL_Lab10.ipynb",
      "provenance": [],
      "collapsed_sections": [
        "sBOvJdJfkXIL",
        "kFoEeTYHDq2s",
        "7z6g7a_Y84n0",
        "TBigIUFTukeJ",
        "zcz0JGXjxFGe",
        "2vJVbYcAJAf2",
        "gMOzGDND9FD1",
        "eOtl8z8G9wbr",
        "2Krh0eYy18R9",
        "aEDv_-H7BvM0",
        "YH5mQBaa-_0b",
        "XMKRI77_-8nc",
        "qBT5jgifC7Im",
        "_K7F19SPQo6U",
        "9YLXvK51RnuL",
        "AHmjSVf_FNHv",
        "gPXJkNubFyY6",
        "iD45m3IwF9hh",
        "usQE-rSPZq_X",
        "IoA0tZZCa_1k",
        "8pa5vFJ5EUjv"
      ]
    },
    "kernelspec": {
      "display_name": "Python 3",
      "language": "python",
      "name": "python3"
    },
    "language_info": {
      "codemirror_mode": {
        "name": "ipython",
        "version": 3
      },
      "file_extension": ".py",
      "mimetype": "text/x-python",
      "name": "python",
      "nbconvert_exporter": "python",
      "pygments_lexer": "ipython3",
      "version": "3.7.1"
    }
  },
  "cells": [
    {
      "cell_type": "markdown",
      "metadata": {
        "id": "rEwpv0GZ_CrT"
      },
      "source": [
        "<a \n",
        "href=\"https://colab.research.google.com/github/wingated/cs474_labs_f2019/blob/master/DL_Lab10.ipynb\"\n",
        "  target=\"_parent\">\n",
        "  <img\n",
        "    src=\"https://colab.research.google.com/assets/colab-badge.svg\"\n",
        "    alt=\"Open In Colab\"/>\n",
        "</a>"
      ]
    },
    {
      "cell_type": "markdown",
      "metadata": {
        "id": "xnoEhAVvBcMj"
      },
      "source": [
        "# Lab 10: Transfer Learning/Fine-Tuning"
      ]
    },
    {
      "cell_type": "markdown",
      "metadata": {
        "id": "sBOvJdJfkXIL"
      },
      "source": [
        "## Description"
      ]
    },
    {
      "cell_type": "markdown",
      "metadata": {
        "id": "GiuvTUWOjtBC"
      },
      "source": [
        "### Objective\n",
        "\n",
        "- Gain experience fine-tuning pre-trained models to domain-specific applications.\n",
        "\n",
        "### Deliverable\n",
        "\n",
        "For this lab you will submit an IPython notebook via Learning Suite. The bulk of the work is in modifying fine-tuning a pre-trained ResNet. Fine-tuning the GPT-2 language model is pretty easy. The provided code works as is; you will just have to swap in your own text dataset.\n",
        "\n",
        "### Grading\n",
        "\n",
        "- 35% Create a dataset class for your own dataset\n",
        "- 35% Create a network class that wraps a pretrained ResNet\n",
        "- 20% Implement unfreezing in the network class\n",
        "- 10% Fine-tune GPT-2 on your own dataset\n",
        "\n",
        "### Tips\n",
        "- Your life will be better if you download a dataset that already has the data in the expected format for ImageFolder (make sure to read the documentation!). The datasets recommended below are in the correct format.\n",
        "- Get the CNN working on the provided dataset (bird species classification) before swapping in your own.\n",
        "- For reference on freezing/unfreezing network weights, see [this github gist](https://gist.github.com/jcjohnson/6e41e8512c17eae5da50aebef3378a4c)\n",
        "- Check PyTorch's documentation to learn the difference between `requires_grad=False` and `requires_grad_(False)`.\n",
        "- For training GPT-2, first try the medium-size (355M parameter) model. If your Colab instance doesn't have enough GPU space, you may need to switch to the small-size (124M parameter) model, but the results will be less impressive."
      ]
    },
    {
      "cell_type": "code",
      "metadata": {
        "id": "dKzRORuLBNLR"
      },
      "source": [
        "from torchvision.models import resnet152\n",
        "from torchvision import transforms, datasets\n",
        "from torch.utils.data import DataLoader, Dataset\n",
        "import torch\n",
        "from torch import optim, nn\n",
        "import zipfile\n",
        "from google.colab import files\n",
        "import os\n",
        "import sys\n",
        "from PIL import Image, ImageOps\n",
        "from tqdm import tqdm\n",
        "import numpy as np\n",
        "from matplotlib import pyplot as plt"
      ],
      "execution_count": 1,
      "outputs": []
    },
    {
      "cell_type": "markdown",
      "metadata": {
        "id": "S4R3D8Mr8b54"
      },
      "source": [
        "## 1 Fine-tune a ResNet for image classification"
      ]
    },
    {
      "cell_type": "markdown",
      "metadata": {
        "id": "kFoEeTYHDq2s"
      },
      "source": [
        "### 1.1 Find a dataset to fine-tune on, and make a Dataset class (1 hr.)"
      ]
    },
    {
      "cell_type": "markdown",
      "metadata": {
        "id": "7z6g7a_Y84n0"
      },
      "source": [
        "#### TODO:"
      ]
    },
    {
      "cell_type": "markdown",
      "metadata": {
        "id": "P8NtFZRd5hcm"
      },
      "source": [
        "- Inherit from torch.utils.data.Dataset\n",
        "- Use a [torchvision.datasets.ImageFolder](https://pytorch.org/docs/stable/torchvision/datasets.html#torchvision.datasets.ImageFolder)\n",
        "- Don't spend too long finding another dataset. Some suggestions that you are free to use:\n",
        " - https://www.kaggle.com/jessicali9530/stanford-dogs-dataset\n",
        " - https://www.kaggle.com/puneet6060/intel-image-classification\n"
      ]
    },
    {
      "cell_type": "markdown",
      "metadata": {
        "id": "TBigIUFTukeJ"
      },
      "source": [
        "#### Help for downloading kaggle datasets\n",
        "Downloading Kaggle datasets requires authentication, so you can't just download from a url. Here are some step-by-step instructions of how to get Kaggle datasets in Colab"
      ]
    },
    {
      "cell_type": "markdown",
      "metadata": {
        "id": "_X29UC6CvwfQ"
      },
      "source": [
        "1. Create an API key in Kaggle\n",
        "    - Click on profile photo\n",
        "    - Go to 'My Account'\n",
        "    - Scroll down to the API access section and click \"Create New API Token\"\n",
        "    - `kaggle.json` is now downloaded to your computer\n",
        "\n",
        "2. Upload the API key and install the Kaggle API client by running the next cell (run it again if it throws an error the first time). Also, `files.upload()` may not work in Firefox. One solution is to expand the Files banner (indicated by the '>' tab on the left side of the page) and use that to upload the key."
      ]
    },
    {
      "cell_type": "code",
      "metadata": {
        "colab": {
          "resources": {
            "http://localhost:8080/nbextensions/google.colab/files.js": {
              "data": "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",
              "ok": true,
              "headers": [
                [
                  "content-type",
                  "application/javascript"
                ]
              ],
              "status": 200,
              "status_text": ""
            }
          },
          "base_uri": "https://localhost:8080/",
          "height": 89
        },
        "id": "Mhjc0pM7jOoZ",
        "outputId": "0cd33ab8-0856-4100-893f-a621d94a847e"
      },
      "source": [
        "# Run this cell and select the kaggle.json file downloaded\n",
        "# from the Kaggle account settings page.\n",
        "from google.colab import files\n",
        "files.upload()\n",
        "# Next, install the Kaggle API client.\n",
        "!pip install -q kaggle\n",
        "# Let's make sure the kaggle.json file is present.\n",
        "!ls -lha kaggle.json\n",
        "# The Kaggle API client expects this file to be in ~/.kaggle,\n",
        "# so move it there.\n",
        "!mkdir -p ~/.kaggle\n",
        "!mv kaggle.json ~/.kaggle/\n",
        "# This permissions change avoids a warning on Kaggle tool startup.\n",
        "!chmod 600 ~/.kaggle/kaggle.json"
      ],
      "execution_count": 2,
      "outputs": [
        {
          "output_type": "display_data",
          "data": {
            "text/html": [
              "\n",
              "     <input type=\"file\" id=\"files-9fa677ca-2f27-4c54-8dcf-711a94015056\" name=\"files[]\" multiple disabled\n",
              "        style=\"border:none\" />\n",
              "     <output id=\"result-9fa677ca-2f27-4c54-8dcf-711a94015056\">\n",
              "      Upload widget is only available when the cell has been executed in the\n",
              "      current browser session. Please rerun this cell to enable.\n",
              "      </output>\n",
              "      <script src=\"/nbextensions/google.colab/files.js\"></script> "
            ],
            "text/plain": [
              "<IPython.core.display.HTML object>"
            ]
          },
          "metadata": {}
        },
        {
          "output_type": "stream",
          "name": "stdout",
          "text": [
            "Saving kaggle.json to kaggle.json\n",
            "-rw-r--r-- 1 root root 63 Nov  6 20:12 kaggle.json\n"
          ]
        }
      ]
    },
    {
      "cell_type": "markdown",
      "metadata": {
        "id": "AGlIa4SIwEXB"
      },
      "source": [
        "3. Copy the desired dataset locally"
      ]
    },
    {
      "cell_type": "code",
      "metadata": {
        "colab": {
          "base_uri": "https://localhost:8080/"
        },
        "id": "7HtB-XdIr1EE",
        "outputId": "b17a54da-7953-445a-a012-5b7dad175f69"
      },
      "source": [
        "# Example download command for dataset found here: https://www.kaggle.com/akash2907/bird-species-classification\n",
        "!kaggle datasets download -d akash2907/bird-species-classification"
      ],
      "execution_count": 3,
      "outputs": [
        {
          "output_type": "stream",
          "name": "stdout",
          "text": [
            "Downloading bird-species-classification.zip to /content\n",
            " 99% 1.36G/1.37G [00:09<00:00, 160MB/s]\n",
            "100% 1.37G/1.37G [00:10<00:00, 146MB/s]\n"
          ]
        }
      ]
    },
    {
      "cell_type": "code",
      "metadata": {
        "colab": {
          "base_uri": "https://localhost:8080/"
        },
        "id": "apXCsWyUeq-Q",
        "outputId": "4c68b83d-cd08-4521-cfdb-f18cfeaeee8b"
      },
      "source": [
        "!kaggle datasets download -d jessicali9530/stanford-dogs-dataset"
      ],
      "execution_count": 11,
      "outputs": [
        {
          "output_type": "stream",
          "name": "stdout",
          "text": [
            "Downloading stanford-dogs-dataset.zip to /content\n",
            " 98% 734M/750M [00:05<00:00, 153MB/s]\n",
            "100% 750M/750M [00:05<00:00, 143MB/s]\n"
          ]
        }
      ]
    },
    {
      "cell_type": "markdown",
      "metadata": {
        "id": "zcz0JGXjxFGe"
      },
      "source": [
        "#### Make the Dataset class\n",
        "See the implementation below for reference, and implement a dataset class for the dataset you choose."
      ]
    },
    {
      "cell_type": "code",
      "metadata": {
        "id": "lthPlsGeK4CX"
      },
      "source": [
        "class BirdDataset(Dataset):\n",
        "    def __init__(self, zip_file='bird-species-classification.zip', size=256, train=True, upload=False):\n",
        "        super(BirdDataset, self).__init__()\n",
        "        \n",
        "        self.train = train\n",
        "        extract_dir = os.path.splitext(zip_file)[0]\n",
        "        if not os.path.exists(extract_dir):\n",
        "            os.makedirs(extract_dir)\n",
        "            self.extract_zip(zip_file, extract_dir)\n",
        "            # Resize the images - originally they are high resolution. We could do this\n",
        "            # in the DataLoader, but it will read the full-resolution files from disk\n",
        "            # every time before resizing them, making training slow\n",
        "            self.resize(extract_dir, size=size)\n",
        "\n",
        "        postfix = 'train' if train else 'test'\n",
        "            \n",
        "        if train:\n",
        "            # The bird-species dataset mistakenly has a train_data folder inside of train_data\n",
        "            self.dataset_folder = datasets.ImageFolder(os.path.join(extract_dir, 'train_data', 'train_data'), transform=transforms.Compose([transforms.ToTensor()]))\n",
        "        else:\n",
        "            self.dataset_folder = datasets.ImageFolder(os.path.join(extract_dir, 'test_data', 'test_data'), transform=transforms.Compose([transforms.ToTensor()]))\n",
        "\n",
        "    def extract_zip(self, zip_file, extract_dir):\n",
        "        print(\"Extracting\", zip_file)\n",
        "        with zipfile.ZipFile(zip_file, 'r') as zip_ref:\n",
        "            zip_ref.extractall(extract_dir)\n",
        "\n",
        "    def resize(self, path, size=256):\n",
        "        \"\"\"Resizes all images in place\"\"\"\n",
        "        print(\"Resizing images\")\n",
        "        dirs = os.walk(path)\n",
        "        for root, dirs, files in os.walk(path):\n",
        "            for item in files:\n",
        "                name = os.path.join(root, item)\n",
        "                if os.path.isfile(name):\n",
        "                    im = Image.open(name)\n",
        "                    im = ImageOps.fit(im, (size, size))\n",
        "                    im.save(name[:-3] + 'bmp', 'BMP')\n",
        "                    os.remove(name)\n",
        "\n",
        "    def __getitem__(self, i):\n",
        "        return self.dataset_folder[i]\n",
        "\n",
        "    def __len__(self):\n",
        "        return len(self.dataset_folder)\n",
        "\n",
        "bird_data = BirdDataset()"
      ],
      "execution_count": 18,
      "outputs": []
    },
    {
      "cell_type": "code",
      "metadata": {
        "id": "5jHFdToeDtIF"
      },
      "source": [
        "#########################\n",
        "# Implement your own Dataset\n",
        "#########################\n",
        "class CustomDataset(Dataset):\n",
        "    def __init__(self, zip_file='stanford-dogs-dataset.zip', size=256, train=True, upload=False):\n",
        "        super(CustomDataset, self).__init__()\n",
        "        \n",
        "        self.train = train\n",
        "        extract_dir = os.path.splitext(zip_file)[0]\n",
        "        if not os.path.exists(extract_dir):\n",
        "            os.makedirs(extract_dir)\n",
        "            self.extract_zip(zip_file, extract_dir)\n",
        "            # Resize the images - originally they are high resolution. We could do this\n",
        "            # in the DataLoader, but it will read the full-resolution files from disk\n",
        "            # every time before resizing them, making training slow\n",
        "            self.resize(extract_dir, size=size)\n",
        "\n",
        "        postfix = 'train' if train else 'test'\n",
        "            \n",
        "        if train:\n",
        "            # The bird-species dataset mistakenly has a train_data folder inside of train_data\n",
        "            self.dataset_folder = datasets.ImageFolder(os.path.join(extract_dir, 'train_data', 'train_data'), transform=transforms.Compose([transforms.ToTensor()]))\n",
        "        else:\n",
        "            self.dataset_folder = datasets.ImageFolder(os.path.join(extract_dir, 'test_data', 'test_data'), transform=transforms.Compose([transforms.ToTensor()]))\n",
        "\n",
        "\n",
        "\n",
        "    def extract_zip(self, zip_file, extract_dir):\n",
        "        print(\"Extracting\", zip_file)\n",
        "        with zipfile.ZipFile(zip_file, 'r') as zip_ref:\n",
        "            zip_ref.extractall(extract_dir)\n",
        "\n",
        "    def resize(self, path, size=256):\n",
        "        \"\"\"Resizes all images in place\"\"\"\n",
        "        print(\"Resizing images\")\n",
        "        dirs = os.walk(path)\n",
        "        for root, dirs, files in os.walk(path):\n",
        "            for item in files:\n",
        "                name = os.path.join(root, item)\n",
        "                if os.path.isfile(name):\n",
        "                    im = Image.open(name)\n",
        "                    im = ImageOps.fit(im, (size, size))\n",
        "                    im.save(name[:-3] + 'bmp', 'BMP')\n",
        "                    os.remove(name)\n",
        "\n",
        "    def __getitem__(self, i):\n",
        "        return self.dataset_folder[i]\n",
        "\n",
        "    def __len__(self):\n",
        "        return len(self.dataset_folder)"
      ],
      "execution_count": 12,
      "outputs": []
    },
    {
      "cell_type": "markdown",
      "metadata": {
        "id": "2vJVbYcAJAf2"
      },
      "source": [
        "### 1.2 Wrap a pretrained ResNet in an `nn.Module` (30 min)"
      ]
    },
    {
      "cell_type": "markdown",
      "metadata": {
        "id": "gMOzGDND9FD1"
      },
      "source": [
        "#### TODO:"
      ]
    },
    {
      "cell_type": "markdown",
      "metadata": {
        "id": "jLvmDHbl9IyG"
      },
      "source": [
        "- Make a model class that inherits from `nn.Module`\n",
        "- Wrap a pretrained ResNet and swap out the last layer of that network with a layer that maps to the number of classes in your new dataset"
      ]
    },
    {
      "cell_type": "code",
      "metadata": {
        "colab": {
          "base_uri": "https://localhost:8080/"
        },
        "id": "V9MeV7fukLoc",
        "outputId": "2feb52c6-7134-4051-fb15-209ec5c14ea0"
      },
      "source": [
        "testModel = resnet152(pretrained=True)\n",
        "print(testModel)"
      ],
      "execution_count": 12,
      "outputs": [
        {
          "output_type": "stream",
          "name": "stdout",
          "text": [
            "ResNet(\n",
            "  (conv1): Conv2d(3, 64, kernel_size=(7, 7), stride=(2, 2), padding=(3, 3), bias=False)\n",
            "  (bn1): BatchNorm2d(64, eps=1e-05, momentum=0.1, affine=True, track_running_stats=True)\n",
            "  (relu): ReLU(inplace=True)\n",
            "  (maxpool): MaxPool2d(kernel_size=3, stride=2, padding=1, dilation=1, ceil_mode=False)\n",
            "  (layer1): Sequential(\n",
            "    (0): Bottleneck(\n",
            "      (conv1): Conv2d(64, 64, kernel_size=(1, 1), stride=(1, 1), bias=False)\n",
            "      (bn1): BatchNorm2d(64, eps=1e-05, momentum=0.1, affine=True, track_running_stats=True)\n",
            "      (conv2): Conv2d(64, 64, kernel_size=(3, 3), stride=(1, 1), padding=(1, 1), bias=False)\n",
            "      (bn2): BatchNorm2d(64, eps=1e-05, momentum=0.1, affine=True, track_running_stats=True)\n",
            "      (conv3): Conv2d(64, 256, kernel_size=(1, 1), stride=(1, 1), bias=False)\n",
            "      (bn3): BatchNorm2d(256, eps=1e-05, momentum=0.1, affine=True, track_running_stats=True)\n",
            "      (relu): ReLU(inplace=True)\n",
            "      (downsample): Sequential(\n",
            "        (0): Conv2d(64, 256, kernel_size=(1, 1), stride=(1, 1), bias=False)\n",
            "        (1): BatchNorm2d(256, eps=1e-05, momentum=0.1, affine=True, track_running_stats=True)\n",
            "      )\n",
            "    )\n",
            "    (1): Bottleneck(\n",
            "      (conv1): Conv2d(256, 64, kernel_size=(1, 1), stride=(1, 1), bias=False)\n",
            "      (bn1): BatchNorm2d(64, eps=1e-05, momentum=0.1, affine=True, track_running_stats=True)\n",
            "      (conv2): Conv2d(64, 64, kernel_size=(3, 3), stride=(1, 1), padding=(1, 1), bias=False)\n",
            "      (bn2): BatchNorm2d(64, eps=1e-05, momentum=0.1, affine=True, track_running_stats=True)\n",
            "      (conv3): Conv2d(64, 256, kernel_size=(1, 1), stride=(1, 1), bias=False)\n",
            "      (bn3): BatchNorm2d(256, eps=1e-05, momentum=0.1, affine=True, track_running_stats=True)\n",
            "      (relu): ReLU(inplace=True)\n",
            "    )\n",
            "    (2): Bottleneck(\n",
            "      (conv1): Conv2d(256, 64, kernel_size=(1, 1), stride=(1, 1), bias=False)\n",
            "      (bn1): BatchNorm2d(64, eps=1e-05, momentum=0.1, affine=True, track_running_stats=True)\n",
            "      (conv2): Conv2d(64, 64, kernel_size=(3, 3), stride=(1, 1), padding=(1, 1), bias=False)\n",
            "      (bn2): BatchNorm2d(64, eps=1e-05, momentum=0.1, affine=True, track_running_stats=True)\n",
            "      (conv3): Conv2d(64, 256, kernel_size=(1, 1), stride=(1, 1), bias=False)\n",
            "      (bn3): BatchNorm2d(256, eps=1e-05, momentum=0.1, affine=True, track_running_stats=True)\n",
            "      (relu): ReLU(inplace=True)\n",
            "    )\n",
            "  )\n",
            "  (layer2): Sequential(\n",
            "    (0): Bottleneck(\n",
            "      (conv1): Conv2d(256, 128, kernel_size=(1, 1), stride=(1, 1), bias=False)\n",
            "      (bn1): BatchNorm2d(128, eps=1e-05, momentum=0.1, affine=True, track_running_stats=True)\n",
            "      (conv2): Conv2d(128, 128, kernel_size=(3, 3), stride=(2, 2), padding=(1, 1), bias=False)\n",
            "      (bn2): BatchNorm2d(128, eps=1e-05, momentum=0.1, affine=True, track_running_stats=True)\n",
            "      (conv3): Conv2d(128, 512, kernel_size=(1, 1), stride=(1, 1), bias=False)\n",
            "      (bn3): BatchNorm2d(512, eps=1e-05, momentum=0.1, affine=True, track_running_stats=True)\n",
            "      (relu): ReLU(inplace=True)\n",
            "      (downsample): Sequential(\n",
            "        (0): Conv2d(256, 512, kernel_size=(1, 1), stride=(2, 2), bias=False)\n",
            "        (1): BatchNorm2d(512, eps=1e-05, momentum=0.1, affine=True, track_running_stats=True)\n",
            "      )\n",
            "    )\n",
            "    (1): Bottleneck(\n",
            "      (conv1): Conv2d(512, 128, kernel_size=(1, 1), stride=(1, 1), bias=False)\n",
            "      (bn1): BatchNorm2d(128, eps=1e-05, momentum=0.1, affine=True, track_running_stats=True)\n",
            "      (conv2): Conv2d(128, 128, kernel_size=(3, 3), stride=(1, 1), padding=(1, 1), bias=False)\n",
            "      (bn2): BatchNorm2d(128, eps=1e-05, momentum=0.1, affine=True, track_running_stats=True)\n",
            "      (conv3): Conv2d(128, 512, kernel_size=(1, 1), stride=(1, 1), bias=False)\n",
            "      (bn3): BatchNorm2d(512, eps=1e-05, momentum=0.1, affine=True, track_running_stats=True)\n",
            "      (relu): ReLU(inplace=True)\n",
            "    )\n",
            "    (2): Bottleneck(\n",
            "      (conv1): Conv2d(512, 128, kernel_size=(1, 1), stride=(1, 1), bias=False)\n",
            "      (bn1): BatchNorm2d(128, eps=1e-05, momentum=0.1, affine=True, track_running_stats=True)\n",
            "      (conv2): Conv2d(128, 128, kernel_size=(3, 3), stride=(1, 1), padding=(1, 1), bias=False)\n",
            "      (bn2): BatchNorm2d(128, eps=1e-05, momentum=0.1, affine=True, track_running_stats=True)\n",
            "      (conv3): Conv2d(128, 512, kernel_size=(1, 1), stride=(1, 1), bias=False)\n",
            "      (bn3): BatchNorm2d(512, eps=1e-05, momentum=0.1, affine=True, track_running_stats=True)\n",
            "      (relu): ReLU(inplace=True)\n",
            "    )\n",
            "    (3): Bottleneck(\n",
            "      (conv1): Conv2d(512, 128, kernel_size=(1, 1), stride=(1, 1), bias=False)\n",
            "      (bn1): BatchNorm2d(128, eps=1e-05, momentum=0.1, affine=True, track_running_stats=True)\n",
            "      (conv2): Conv2d(128, 128, kernel_size=(3, 3), stride=(1, 1), padding=(1, 1), bias=False)\n",
            "      (bn2): BatchNorm2d(128, eps=1e-05, momentum=0.1, affine=True, track_running_stats=True)\n",
            "      (conv3): Conv2d(128, 512, kernel_size=(1, 1), stride=(1, 1), bias=False)\n",
            "      (bn3): BatchNorm2d(512, eps=1e-05, momentum=0.1, affine=True, track_running_stats=True)\n",
            "      (relu): ReLU(inplace=True)\n",
            "    )\n",
            "    (4): Bottleneck(\n",
            "      (conv1): Conv2d(512, 128, kernel_size=(1, 1), stride=(1, 1), bias=False)\n",
            "      (bn1): BatchNorm2d(128, eps=1e-05, momentum=0.1, affine=True, track_running_stats=True)\n",
            "      (conv2): Conv2d(128, 128, kernel_size=(3, 3), stride=(1, 1), padding=(1, 1), bias=False)\n",
            "      (bn2): BatchNorm2d(128, eps=1e-05, momentum=0.1, affine=True, track_running_stats=True)\n",
            "      (conv3): Conv2d(128, 512, kernel_size=(1, 1), stride=(1, 1), bias=False)\n",
            "      (bn3): BatchNorm2d(512, eps=1e-05, momentum=0.1, affine=True, track_running_stats=True)\n",
            "      (relu): ReLU(inplace=True)\n",
            "    )\n",
            "    (5): Bottleneck(\n",
            "      (conv1): Conv2d(512, 128, kernel_size=(1, 1), stride=(1, 1), bias=False)\n",
            "      (bn1): BatchNorm2d(128, eps=1e-05, momentum=0.1, affine=True, track_running_stats=True)\n",
            "      (conv2): Conv2d(128, 128, kernel_size=(3, 3), stride=(1, 1), padding=(1, 1), bias=False)\n",
            "      (bn2): BatchNorm2d(128, eps=1e-05, momentum=0.1, affine=True, track_running_stats=True)\n",
            "      (conv3): Conv2d(128, 512, kernel_size=(1, 1), stride=(1, 1), bias=False)\n",
            "      (bn3): BatchNorm2d(512, eps=1e-05, momentum=0.1, affine=True, track_running_stats=True)\n",
            "      (relu): ReLU(inplace=True)\n",
            "    )\n",
            "    (6): Bottleneck(\n",
            "      (conv1): Conv2d(512, 128, kernel_size=(1, 1), stride=(1, 1), bias=False)\n",
            "      (bn1): BatchNorm2d(128, eps=1e-05, momentum=0.1, affine=True, track_running_stats=True)\n",
            "      (conv2): Conv2d(128, 128, kernel_size=(3, 3), stride=(1, 1), padding=(1, 1), bias=False)\n",
            "      (bn2): BatchNorm2d(128, eps=1e-05, momentum=0.1, affine=True, track_running_stats=True)\n",
            "      (conv3): Conv2d(128, 512, kernel_size=(1, 1), stride=(1, 1), bias=False)\n",
            "      (bn3): BatchNorm2d(512, eps=1e-05, momentum=0.1, affine=True, track_running_stats=True)\n",
            "      (relu): ReLU(inplace=True)\n",
            "    )\n",
            "    (7): Bottleneck(\n",
            "      (conv1): Conv2d(512, 128, kernel_size=(1, 1), stride=(1, 1), bias=False)\n",
            "      (bn1): BatchNorm2d(128, eps=1e-05, momentum=0.1, affine=True, track_running_stats=True)\n",
            "      (conv2): Conv2d(128, 128, kernel_size=(3, 3), stride=(1, 1), padding=(1, 1), bias=False)\n",
            "      (bn2): BatchNorm2d(128, eps=1e-05, momentum=0.1, affine=True, track_running_stats=True)\n",
            "      (conv3): Conv2d(128, 512, kernel_size=(1, 1), stride=(1, 1), bias=False)\n",
            "      (bn3): BatchNorm2d(512, eps=1e-05, momentum=0.1, affine=True, track_running_stats=True)\n",
            "      (relu): ReLU(inplace=True)\n",
            "    )\n",
            "  )\n",
            "  (layer3): Sequential(\n",
            "    (0): Bottleneck(\n",
            "      (conv1): Conv2d(512, 256, kernel_size=(1, 1), stride=(1, 1), bias=False)\n",
            "      (bn1): BatchNorm2d(256, eps=1e-05, momentum=0.1, affine=True, track_running_stats=True)\n",
            "      (conv2): Conv2d(256, 256, kernel_size=(3, 3), stride=(2, 2), padding=(1, 1), bias=False)\n",
            "      (bn2): BatchNorm2d(256, eps=1e-05, momentum=0.1, affine=True, track_running_stats=True)\n",
            "      (conv3): Conv2d(256, 1024, kernel_size=(1, 1), stride=(1, 1), bias=False)\n",
            "      (bn3): BatchNorm2d(1024, eps=1e-05, momentum=0.1, affine=True, track_running_stats=True)\n",
            "      (relu): ReLU(inplace=True)\n",
            "      (downsample): Sequential(\n",
            "        (0): Conv2d(512, 1024, kernel_size=(1, 1), stride=(2, 2), bias=False)\n",
            "        (1): BatchNorm2d(1024, eps=1e-05, momentum=0.1, affine=True, track_running_stats=True)\n",
            "      )\n",
            "    )\n",
            "    (1): Bottleneck(\n",
            "      (conv1): Conv2d(1024, 256, kernel_size=(1, 1), stride=(1, 1), bias=False)\n",
            "      (bn1): BatchNorm2d(256, eps=1e-05, momentum=0.1, affine=True, track_running_stats=True)\n",
            "      (conv2): Conv2d(256, 256, kernel_size=(3, 3), stride=(1, 1), padding=(1, 1), bias=False)\n",
            "      (bn2): BatchNorm2d(256, eps=1e-05, momentum=0.1, affine=True, track_running_stats=True)\n",
            "      (conv3): Conv2d(256, 1024, kernel_size=(1, 1), stride=(1, 1), bias=False)\n",
            "      (bn3): BatchNorm2d(1024, eps=1e-05, momentum=0.1, affine=True, track_running_stats=True)\n",
            "      (relu): ReLU(inplace=True)\n",
            "    )\n",
            "    (2): Bottleneck(\n",
            "      (conv1): Conv2d(1024, 256, kernel_size=(1, 1), stride=(1, 1), bias=False)\n",
            "      (bn1): BatchNorm2d(256, eps=1e-05, momentum=0.1, affine=True, track_running_stats=True)\n",
            "      (conv2): Conv2d(256, 256, kernel_size=(3, 3), stride=(1, 1), padding=(1, 1), bias=False)\n",
            "      (bn2): BatchNorm2d(256, eps=1e-05, momentum=0.1, affine=True, track_running_stats=True)\n",
            "      (conv3): Conv2d(256, 1024, kernel_size=(1, 1), stride=(1, 1), bias=False)\n",
            "      (bn3): BatchNorm2d(1024, eps=1e-05, momentum=0.1, affine=True, track_running_stats=True)\n",
            "      (relu): ReLU(inplace=True)\n",
            "    )\n",
            "    (3): Bottleneck(\n",
            "      (conv1): Conv2d(1024, 256, kernel_size=(1, 1), stride=(1, 1), bias=False)\n",
            "      (bn1): BatchNorm2d(256, eps=1e-05, momentum=0.1, affine=True, track_running_stats=True)\n",
            "      (conv2): Conv2d(256, 256, kernel_size=(3, 3), stride=(1, 1), padding=(1, 1), bias=False)\n",
            "      (bn2): BatchNorm2d(256, eps=1e-05, momentum=0.1, affine=True, track_running_stats=True)\n",
            "      (conv3): Conv2d(256, 1024, kernel_size=(1, 1), stride=(1, 1), bias=False)\n",
            "      (bn3): BatchNorm2d(1024, eps=1e-05, momentum=0.1, affine=True, track_running_stats=True)\n",
            "      (relu): ReLU(inplace=True)\n",
            "    )\n",
            "    (4): Bottleneck(\n",
            "      (conv1): Conv2d(1024, 256, kernel_size=(1, 1), stride=(1, 1), bias=False)\n",
            "      (bn1): BatchNorm2d(256, eps=1e-05, momentum=0.1, affine=True, track_running_stats=True)\n",
            "      (conv2): Conv2d(256, 256, kernel_size=(3, 3), stride=(1, 1), padding=(1, 1), bias=False)\n",
            "      (bn2): BatchNorm2d(256, eps=1e-05, momentum=0.1, affine=True, track_running_stats=True)\n",
            "      (conv3): Conv2d(256, 1024, kernel_size=(1, 1), stride=(1, 1), bias=False)\n",
            "      (bn3): BatchNorm2d(1024, eps=1e-05, momentum=0.1, affine=True, track_running_stats=True)\n",
            "      (relu): ReLU(inplace=True)\n",
            "    )\n",
            "    (5): Bottleneck(\n",
            "      (conv1): Conv2d(1024, 256, kernel_size=(1, 1), stride=(1, 1), bias=False)\n",
            "      (bn1): BatchNorm2d(256, eps=1e-05, momentum=0.1, affine=True, track_running_stats=True)\n",
            "      (conv2): Conv2d(256, 256, kernel_size=(3, 3), stride=(1, 1), padding=(1, 1), bias=False)\n",
            "      (bn2): BatchNorm2d(256, eps=1e-05, momentum=0.1, affine=True, track_running_stats=True)\n",
            "      (conv3): Conv2d(256, 1024, kernel_size=(1, 1), stride=(1, 1), bias=False)\n",
            "      (bn3): BatchNorm2d(1024, eps=1e-05, momentum=0.1, affine=True, track_running_stats=True)\n",
            "      (relu): ReLU(inplace=True)\n",
            "    )\n",
            "    (6): Bottleneck(\n",
            "      (conv1): Conv2d(1024, 256, kernel_size=(1, 1), stride=(1, 1), bias=False)\n",
            "      (bn1): BatchNorm2d(256, eps=1e-05, momentum=0.1, affine=True, track_running_stats=True)\n",
            "      (conv2): Conv2d(256, 256, kernel_size=(3, 3), stride=(1, 1), padding=(1, 1), bias=False)\n",
            "      (bn2): BatchNorm2d(256, eps=1e-05, momentum=0.1, affine=True, track_running_stats=True)\n",
            "      (conv3): Conv2d(256, 1024, kernel_size=(1, 1), stride=(1, 1), bias=False)\n",
            "      (bn3): BatchNorm2d(1024, eps=1e-05, momentum=0.1, affine=True, track_running_stats=True)\n",
            "      (relu): ReLU(inplace=True)\n",
            "    )\n",
            "    (7): Bottleneck(\n",
            "      (conv1): Conv2d(1024, 256, kernel_size=(1, 1), stride=(1, 1), bias=False)\n",
            "      (bn1): BatchNorm2d(256, eps=1e-05, momentum=0.1, affine=True, track_running_stats=True)\n",
            "      (conv2): Conv2d(256, 256, kernel_size=(3, 3), stride=(1, 1), padding=(1, 1), bias=False)\n",
            "      (bn2): BatchNorm2d(256, eps=1e-05, momentum=0.1, affine=True, track_running_stats=True)\n",
            "      (conv3): Conv2d(256, 1024, kernel_size=(1, 1), stride=(1, 1), bias=False)\n",
            "      (bn3): BatchNorm2d(1024, eps=1e-05, momentum=0.1, affine=True, track_running_stats=True)\n",
            "      (relu): ReLU(inplace=True)\n",
            "    )\n",
            "    (8): Bottleneck(\n",
            "      (conv1): Conv2d(1024, 256, kernel_size=(1, 1), stride=(1, 1), bias=False)\n",
            "      (bn1): BatchNorm2d(256, eps=1e-05, momentum=0.1, affine=True, track_running_stats=True)\n",
            "      (conv2): Conv2d(256, 256, kernel_size=(3, 3), stride=(1, 1), padding=(1, 1), bias=False)\n",
            "      (bn2): BatchNorm2d(256, eps=1e-05, momentum=0.1, affine=True, track_running_stats=True)\n",
            "      (conv3): Conv2d(256, 1024, kernel_size=(1, 1), stride=(1, 1), bias=False)\n",
            "      (bn3): BatchNorm2d(1024, eps=1e-05, momentum=0.1, affine=True, track_running_stats=True)\n",
            "      (relu): ReLU(inplace=True)\n",
            "    )\n",
            "    (9): Bottleneck(\n",
            "      (conv1): Conv2d(1024, 256, kernel_size=(1, 1), stride=(1, 1), bias=False)\n",
            "      (bn1): BatchNorm2d(256, eps=1e-05, momentum=0.1, affine=True, track_running_stats=True)\n",
            "      (conv2): Conv2d(256, 256, kernel_size=(3, 3), stride=(1, 1), padding=(1, 1), bias=False)\n",
            "      (bn2): BatchNorm2d(256, eps=1e-05, momentum=0.1, affine=True, track_running_stats=True)\n",
            "      (conv3): Conv2d(256, 1024, kernel_size=(1, 1), stride=(1, 1), bias=False)\n",
            "      (bn3): BatchNorm2d(1024, eps=1e-05, momentum=0.1, affine=True, track_running_stats=True)\n",
            "      (relu): ReLU(inplace=True)\n",
            "    )\n",
            "    (10): Bottleneck(\n",
            "      (conv1): Conv2d(1024, 256, kernel_size=(1, 1), stride=(1, 1), bias=False)\n",
            "      (bn1): BatchNorm2d(256, eps=1e-05, momentum=0.1, affine=True, track_running_stats=True)\n",
            "      (conv2): Conv2d(256, 256, kernel_size=(3, 3), stride=(1, 1), padding=(1, 1), bias=False)\n",
            "      (bn2): BatchNorm2d(256, eps=1e-05, momentum=0.1, affine=True, track_running_stats=True)\n",
            "      (conv3): Conv2d(256, 1024, kernel_size=(1, 1), stride=(1, 1), bias=False)\n",
            "      (bn3): BatchNorm2d(1024, eps=1e-05, momentum=0.1, affine=True, track_running_stats=True)\n",
            "      (relu): ReLU(inplace=True)\n",
            "    )\n",
            "    (11): Bottleneck(\n",
            "      (conv1): Conv2d(1024, 256, kernel_size=(1, 1), stride=(1, 1), bias=False)\n",
            "      (bn1): BatchNorm2d(256, eps=1e-05, momentum=0.1, affine=True, track_running_stats=True)\n",
            "      (conv2): Conv2d(256, 256, kernel_size=(3, 3), stride=(1, 1), padding=(1, 1), bias=False)\n",
            "      (bn2): BatchNorm2d(256, eps=1e-05, momentum=0.1, affine=True, track_running_stats=True)\n",
            "      (conv3): Conv2d(256, 1024, kernel_size=(1, 1), stride=(1, 1), bias=False)\n",
            "      (bn3): BatchNorm2d(1024, eps=1e-05, momentum=0.1, affine=True, track_running_stats=True)\n",
            "      (relu): ReLU(inplace=True)\n",
            "    )\n",
            "    (12): Bottleneck(\n",
            "      (conv1): Conv2d(1024, 256, kernel_size=(1, 1), stride=(1, 1), bias=False)\n",
            "      (bn1): BatchNorm2d(256, eps=1e-05, momentum=0.1, affine=True, track_running_stats=True)\n",
            "      (conv2): Conv2d(256, 256, kernel_size=(3, 3), stride=(1, 1), padding=(1, 1), bias=False)\n",
            "      (bn2): BatchNorm2d(256, eps=1e-05, momentum=0.1, affine=True, track_running_stats=True)\n",
            "      (conv3): Conv2d(256, 1024, kernel_size=(1, 1), stride=(1, 1), bias=False)\n",
            "      (bn3): BatchNorm2d(1024, eps=1e-05, momentum=0.1, affine=True, track_running_stats=True)\n",
            "      (relu): ReLU(inplace=True)\n",
            "    )\n",
            "    (13): Bottleneck(\n",
            "      (conv1): Conv2d(1024, 256, kernel_size=(1, 1), stride=(1, 1), bias=False)\n",
            "      (bn1): BatchNorm2d(256, eps=1e-05, momentum=0.1, affine=True, track_running_stats=True)\n",
            "      (conv2): Conv2d(256, 256, kernel_size=(3, 3), stride=(1, 1), padding=(1, 1), bias=False)\n",
            "      (bn2): BatchNorm2d(256, eps=1e-05, momentum=0.1, affine=True, track_running_stats=True)\n",
            "      (conv3): Conv2d(256, 1024, kernel_size=(1, 1), stride=(1, 1), bias=False)\n",
            "      (bn3): BatchNorm2d(1024, eps=1e-05, momentum=0.1, affine=True, track_running_stats=True)\n",
            "      (relu): ReLU(inplace=True)\n",
            "    )\n",
            "    (14): Bottleneck(\n",
            "      (conv1): Conv2d(1024, 256, kernel_size=(1, 1), stride=(1, 1), bias=False)\n",
            "      (bn1): BatchNorm2d(256, eps=1e-05, momentum=0.1, affine=True, track_running_stats=True)\n",
            "      (conv2): Conv2d(256, 256, kernel_size=(3, 3), stride=(1, 1), padding=(1, 1), bias=False)\n",
            "      (bn2): BatchNorm2d(256, eps=1e-05, momentum=0.1, affine=True, track_running_stats=True)\n",
            "      (conv3): Conv2d(256, 1024, kernel_size=(1, 1), stride=(1, 1), bias=False)\n",
            "      (bn3): BatchNorm2d(1024, eps=1e-05, momentum=0.1, affine=True, track_running_stats=True)\n",
            "      (relu): ReLU(inplace=True)\n",
            "    )\n",
            "    (15): Bottleneck(\n",
            "      (conv1): Conv2d(1024, 256, kernel_size=(1, 1), stride=(1, 1), bias=False)\n",
            "      (bn1): BatchNorm2d(256, eps=1e-05, momentum=0.1, affine=True, track_running_stats=True)\n",
            "      (conv2): Conv2d(256, 256, kernel_size=(3, 3), stride=(1, 1), padding=(1, 1), bias=False)\n",
            "      (bn2): BatchNorm2d(256, eps=1e-05, momentum=0.1, affine=True, track_running_stats=True)\n",
            "      (conv3): Conv2d(256, 1024, kernel_size=(1, 1), stride=(1, 1), bias=False)\n",
            "      (bn3): BatchNorm2d(1024, eps=1e-05, momentum=0.1, affine=True, track_running_stats=True)\n",
            "      (relu): ReLU(inplace=True)\n",
            "    )\n",
            "    (16): Bottleneck(\n",
            "      (conv1): Conv2d(1024, 256, kernel_size=(1, 1), stride=(1, 1), bias=False)\n",
            "      (bn1): BatchNorm2d(256, eps=1e-05, momentum=0.1, affine=True, track_running_stats=True)\n",
            "      (conv2): Conv2d(256, 256, kernel_size=(3, 3), stride=(1, 1), padding=(1, 1), bias=False)\n",
            "      (bn2): BatchNorm2d(256, eps=1e-05, momentum=0.1, affine=True, track_running_stats=True)\n",
            "      (conv3): Conv2d(256, 1024, kernel_size=(1, 1), stride=(1, 1), bias=False)\n",
            "      (bn3): BatchNorm2d(1024, eps=1e-05, momentum=0.1, affine=True, track_running_stats=True)\n",
            "      (relu): ReLU(inplace=True)\n",
            "    )\n",
            "    (17): Bottleneck(\n",
            "      (conv1): Conv2d(1024, 256, kernel_size=(1, 1), stride=(1, 1), bias=False)\n",
            "      (bn1): BatchNorm2d(256, eps=1e-05, momentum=0.1, affine=True, track_running_stats=True)\n",
            "      (conv2): Conv2d(256, 256, kernel_size=(3, 3), stride=(1, 1), padding=(1, 1), bias=False)\n",
            "      (bn2): BatchNorm2d(256, eps=1e-05, momentum=0.1, affine=True, track_running_stats=True)\n",
            "      (conv3): Conv2d(256, 1024, kernel_size=(1, 1), stride=(1, 1), bias=False)\n",
            "      (bn3): BatchNorm2d(1024, eps=1e-05, momentum=0.1, affine=True, track_running_stats=True)\n",
            "      (relu): ReLU(inplace=True)\n",
            "    )\n",
            "    (18): Bottleneck(\n",
            "      (conv1): Conv2d(1024, 256, kernel_size=(1, 1), stride=(1, 1), bias=False)\n",
            "      (bn1): BatchNorm2d(256, eps=1e-05, momentum=0.1, affine=True, track_running_stats=True)\n",
            "      (conv2): Conv2d(256, 256, kernel_size=(3, 3), stride=(1, 1), padding=(1, 1), bias=False)\n",
            "      (bn2): BatchNorm2d(256, eps=1e-05, momentum=0.1, affine=True, track_running_stats=True)\n",
            "      (conv3): Conv2d(256, 1024, kernel_size=(1, 1), stride=(1, 1), bias=False)\n",
            "      (bn3): BatchNorm2d(1024, eps=1e-05, momentum=0.1, affine=True, track_running_stats=True)\n",
            "      (relu): ReLU(inplace=True)\n",
            "    )\n",
            "    (19): Bottleneck(\n",
            "      (conv1): Conv2d(1024, 256, kernel_size=(1, 1), stride=(1, 1), bias=False)\n",
            "      (bn1): BatchNorm2d(256, eps=1e-05, momentum=0.1, affine=True, track_running_stats=True)\n",
            "      (conv2): Conv2d(256, 256, kernel_size=(3, 3), stride=(1, 1), padding=(1, 1), bias=False)\n",
            "      (bn2): BatchNorm2d(256, eps=1e-05, momentum=0.1, affine=True, track_running_stats=True)\n",
            "      (conv3): Conv2d(256, 1024, kernel_size=(1, 1), stride=(1, 1), bias=False)\n",
            "      (bn3): BatchNorm2d(1024, eps=1e-05, momentum=0.1, affine=True, track_running_stats=True)\n",
            "      (relu): ReLU(inplace=True)\n",
            "    )\n",
            "    (20): Bottleneck(\n",
            "      (conv1): Conv2d(1024, 256, kernel_size=(1, 1), stride=(1, 1), bias=False)\n",
            "      (bn1): BatchNorm2d(256, eps=1e-05, momentum=0.1, affine=True, track_running_stats=True)\n",
            "      (conv2): Conv2d(256, 256, kernel_size=(3, 3), stride=(1, 1), padding=(1, 1), bias=False)\n",
            "      (bn2): BatchNorm2d(256, eps=1e-05, momentum=0.1, affine=True, track_running_stats=True)\n",
            "      (conv3): Conv2d(256, 1024, kernel_size=(1, 1), stride=(1, 1), bias=False)\n",
            "      (bn3): BatchNorm2d(1024, eps=1e-05, momentum=0.1, affine=True, track_running_stats=True)\n",
            "      (relu): ReLU(inplace=True)\n",
            "    )\n",
            "    (21): Bottleneck(\n",
            "      (conv1): Conv2d(1024, 256, kernel_size=(1, 1), stride=(1, 1), bias=False)\n",
            "      (bn1): BatchNorm2d(256, eps=1e-05, momentum=0.1, affine=True, track_running_stats=True)\n",
            "      (conv2): Conv2d(256, 256, kernel_size=(3, 3), stride=(1, 1), padding=(1, 1), bias=False)\n",
            "      (bn2): BatchNorm2d(256, eps=1e-05, momentum=0.1, affine=True, track_running_stats=True)\n",
            "      (conv3): Conv2d(256, 1024, kernel_size=(1, 1), stride=(1, 1), bias=False)\n",
            "      (bn3): BatchNorm2d(1024, eps=1e-05, momentum=0.1, affine=True, track_running_stats=True)\n",
            "      (relu): ReLU(inplace=True)\n",
            "    )\n",
            "    (22): Bottleneck(\n",
            "      (conv1): Conv2d(1024, 256, kernel_size=(1, 1), stride=(1, 1), bias=False)\n",
            "      (bn1): BatchNorm2d(256, eps=1e-05, momentum=0.1, affine=True, track_running_stats=True)\n",
            "      (conv2): Conv2d(256, 256, kernel_size=(3, 3), stride=(1, 1), padding=(1, 1), bias=False)\n",
            "      (bn2): BatchNorm2d(256, eps=1e-05, momentum=0.1, affine=True, track_running_stats=True)\n",
            "      (conv3): Conv2d(256, 1024, kernel_size=(1, 1), stride=(1, 1), bias=False)\n",
            "      (bn3): BatchNorm2d(1024, eps=1e-05, momentum=0.1, affine=True, track_running_stats=True)\n",
            "      (relu): ReLU(inplace=True)\n",
            "    )\n",
            "    (23): Bottleneck(\n",
            "      (conv1): Conv2d(1024, 256, kernel_size=(1, 1), stride=(1, 1), bias=False)\n",
            "      (bn1): BatchNorm2d(256, eps=1e-05, momentum=0.1, affine=True, track_running_stats=True)\n",
            "      (conv2): Conv2d(256, 256, kernel_size=(3, 3), stride=(1, 1), padding=(1, 1), bias=False)\n",
            "      (bn2): BatchNorm2d(256, eps=1e-05, momentum=0.1, affine=True, track_running_stats=True)\n",
            "      (conv3): Conv2d(256, 1024, kernel_size=(1, 1), stride=(1, 1), bias=False)\n",
            "      (bn3): BatchNorm2d(1024, eps=1e-05, momentum=0.1, affine=True, track_running_stats=True)\n",
            "      (relu): ReLU(inplace=True)\n",
            "    )\n",
            "    (24): Bottleneck(\n",
            "      (conv1): Conv2d(1024, 256, kernel_size=(1, 1), stride=(1, 1), bias=False)\n",
            "      (bn1): BatchNorm2d(256, eps=1e-05, momentum=0.1, affine=True, track_running_stats=True)\n",
            "      (conv2): Conv2d(256, 256, kernel_size=(3, 3), stride=(1, 1), padding=(1, 1), bias=False)\n",
            "      (bn2): BatchNorm2d(256, eps=1e-05, momentum=0.1, affine=True, track_running_stats=True)\n",
            "      (conv3): Conv2d(256, 1024, kernel_size=(1, 1), stride=(1, 1), bias=False)\n",
            "      (bn3): BatchNorm2d(1024, eps=1e-05, momentum=0.1, affine=True, track_running_stats=True)\n",
            "      (relu): ReLU(inplace=True)\n",
            "    )\n",
            "    (25): Bottleneck(\n",
            "      (conv1): Conv2d(1024, 256, kernel_size=(1, 1), stride=(1, 1), bias=False)\n",
            "      (bn1): BatchNorm2d(256, eps=1e-05, momentum=0.1, affine=True, track_running_stats=True)\n",
            "      (conv2): Conv2d(256, 256, kernel_size=(3, 3), stride=(1, 1), padding=(1, 1), bias=False)\n",
            "      (bn2): BatchNorm2d(256, eps=1e-05, momentum=0.1, affine=True, track_running_stats=True)\n",
            "      (conv3): Conv2d(256, 1024, kernel_size=(1, 1), stride=(1, 1), bias=False)\n",
            "      (bn3): BatchNorm2d(1024, eps=1e-05, momentum=0.1, affine=True, track_running_stats=True)\n",
            "      (relu): ReLU(inplace=True)\n",
            "    )\n",
            "    (26): Bottleneck(\n",
            "      (conv1): Conv2d(1024, 256, kernel_size=(1, 1), stride=(1, 1), bias=False)\n",
            "      (bn1): BatchNorm2d(256, eps=1e-05, momentum=0.1, affine=True, track_running_stats=True)\n",
            "      (conv2): Conv2d(256, 256, kernel_size=(3, 3), stride=(1, 1), padding=(1, 1), bias=False)\n",
            "      (bn2): BatchNorm2d(256, eps=1e-05, momentum=0.1, affine=True, track_running_stats=True)\n",
            "      (conv3): Conv2d(256, 1024, kernel_size=(1, 1), stride=(1, 1), bias=False)\n",
            "      (bn3): BatchNorm2d(1024, eps=1e-05, momentum=0.1, affine=True, track_running_stats=True)\n",
            "      (relu): ReLU(inplace=True)\n",
            "    )\n",
            "    (27): Bottleneck(\n",
            "      (conv1): Conv2d(1024, 256, kernel_size=(1, 1), stride=(1, 1), bias=False)\n",
            "      (bn1): BatchNorm2d(256, eps=1e-05, momentum=0.1, affine=True, track_running_stats=True)\n",
            "      (conv2): Conv2d(256, 256, kernel_size=(3, 3), stride=(1, 1), padding=(1, 1), bias=False)\n",
            "      (bn2): BatchNorm2d(256, eps=1e-05, momentum=0.1, affine=True, track_running_stats=True)\n",
            "      (conv3): Conv2d(256, 1024, kernel_size=(1, 1), stride=(1, 1), bias=False)\n",
            "      (bn3): BatchNorm2d(1024, eps=1e-05, momentum=0.1, affine=True, track_running_stats=True)\n",
            "      (relu): ReLU(inplace=True)\n",
            "    )\n",
            "    (28): Bottleneck(\n",
            "      (conv1): Conv2d(1024, 256, kernel_size=(1, 1), stride=(1, 1), bias=False)\n",
            "      (bn1): BatchNorm2d(256, eps=1e-05, momentum=0.1, affine=True, track_running_stats=True)\n",
            "      (conv2): Conv2d(256, 256, kernel_size=(3, 3), stride=(1, 1), padding=(1, 1), bias=False)\n",
            "      (bn2): BatchNorm2d(256, eps=1e-05, momentum=0.1, affine=True, track_running_stats=True)\n",
            "      (conv3): Conv2d(256, 1024, kernel_size=(1, 1), stride=(1, 1), bias=False)\n",
            "      (bn3): BatchNorm2d(1024, eps=1e-05, momentum=0.1, affine=True, track_running_stats=True)\n",
            "      (relu): ReLU(inplace=True)\n",
            "    )\n",
            "    (29): Bottleneck(\n",
            "      (conv1): Conv2d(1024, 256, kernel_size=(1, 1), stride=(1, 1), bias=False)\n",
            "      (bn1): BatchNorm2d(256, eps=1e-05, momentum=0.1, affine=True, track_running_stats=True)\n",
            "      (conv2): Conv2d(256, 256, kernel_size=(3, 3), stride=(1, 1), padding=(1, 1), bias=False)\n",
            "      (bn2): BatchNorm2d(256, eps=1e-05, momentum=0.1, affine=True, track_running_stats=True)\n",
            "      (conv3): Conv2d(256, 1024, kernel_size=(1, 1), stride=(1, 1), bias=False)\n",
            "      (bn3): BatchNorm2d(1024, eps=1e-05, momentum=0.1, affine=True, track_running_stats=True)\n",
            "      (relu): ReLU(inplace=True)\n",
            "    )\n",
            "    (30): Bottleneck(\n",
            "      (conv1): Conv2d(1024, 256, kernel_size=(1, 1), stride=(1, 1), bias=False)\n",
            "      (bn1): BatchNorm2d(256, eps=1e-05, momentum=0.1, affine=True, track_running_stats=True)\n",
            "      (conv2): Conv2d(256, 256, kernel_size=(3, 3), stride=(1, 1), padding=(1, 1), bias=False)\n",
            "      (bn2): BatchNorm2d(256, eps=1e-05, momentum=0.1, affine=True, track_running_stats=True)\n",
            "      (conv3): Conv2d(256, 1024, kernel_size=(1, 1), stride=(1, 1), bias=False)\n",
            "      (bn3): BatchNorm2d(1024, eps=1e-05, momentum=0.1, affine=True, track_running_stats=True)\n",
            "      (relu): ReLU(inplace=True)\n",
            "    )\n",
            "    (31): Bottleneck(\n",
            "      (conv1): Conv2d(1024, 256, kernel_size=(1, 1), stride=(1, 1), bias=False)\n",
            "      (bn1): BatchNorm2d(256, eps=1e-05, momentum=0.1, affine=True, track_running_stats=True)\n",
            "      (conv2): Conv2d(256, 256, kernel_size=(3, 3), stride=(1, 1), padding=(1, 1), bias=False)\n",
            "      (bn2): BatchNorm2d(256, eps=1e-05, momentum=0.1, affine=True, track_running_stats=True)\n",
            "      (conv3): Conv2d(256, 1024, kernel_size=(1, 1), stride=(1, 1), bias=False)\n",
            "      (bn3): BatchNorm2d(1024, eps=1e-05, momentum=0.1, affine=True, track_running_stats=True)\n",
            "      (relu): ReLU(inplace=True)\n",
            "    )\n",
            "    (32): Bottleneck(\n",
            "      (conv1): Conv2d(1024, 256, kernel_size=(1, 1), stride=(1, 1), bias=False)\n",
            "      (bn1): BatchNorm2d(256, eps=1e-05, momentum=0.1, affine=True, track_running_stats=True)\n",
            "      (conv2): Conv2d(256, 256, kernel_size=(3, 3), stride=(1, 1), padding=(1, 1), bias=False)\n",
            "      (bn2): BatchNorm2d(256, eps=1e-05, momentum=0.1, affine=True, track_running_stats=True)\n",
            "      (conv3): Conv2d(256, 1024, kernel_size=(1, 1), stride=(1, 1), bias=False)\n",
            "      (bn3): BatchNorm2d(1024, eps=1e-05, momentum=0.1, affine=True, track_running_stats=True)\n",
            "      (relu): ReLU(inplace=True)\n",
            "    )\n",
            "    (33): Bottleneck(\n",
            "      (conv1): Conv2d(1024, 256, kernel_size=(1, 1), stride=(1, 1), bias=False)\n",
            "      (bn1): BatchNorm2d(256, eps=1e-05, momentum=0.1, affine=True, track_running_stats=True)\n",
            "      (conv2): Conv2d(256, 256, kernel_size=(3, 3), stride=(1, 1), padding=(1, 1), bias=False)\n",
            "      (bn2): BatchNorm2d(256, eps=1e-05, momentum=0.1, affine=True, track_running_stats=True)\n",
            "      (conv3): Conv2d(256, 1024, kernel_size=(1, 1), stride=(1, 1), bias=False)\n",
            "      (bn3): BatchNorm2d(1024, eps=1e-05, momentum=0.1, affine=True, track_running_stats=True)\n",
            "      (relu): ReLU(inplace=True)\n",
            "    )\n",
            "    (34): Bottleneck(\n",
            "      (conv1): Conv2d(1024, 256, kernel_size=(1, 1), stride=(1, 1), bias=False)\n",
            "      (bn1): BatchNorm2d(256, eps=1e-05, momentum=0.1, affine=True, track_running_stats=True)\n",
            "      (conv2): Conv2d(256, 256, kernel_size=(3, 3), stride=(1, 1), padding=(1, 1), bias=False)\n",
            "      (bn2): BatchNorm2d(256, eps=1e-05, momentum=0.1, affine=True, track_running_stats=True)\n",
            "      (conv3): Conv2d(256, 1024, kernel_size=(1, 1), stride=(1, 1), bias=False)\n",
            "      (bn3): BatchNorm2d(1024, eps=1e-05, momentum=0.1, affine=True, track_running_stats=True)\n",
            "      (relu): ReLU(inplace=True)\n",
            "    )\n",
            "    (35): Bottleneck(\n",
            "      (conv1): Conv2d(1024, 256, kernel_size=(1, 1), stride=(1, 1), bias=False)\n",
            "      (bn1): BatchNorm2d(256, eps=1e-05, momentum=0.1, affine=True, track_running_stats=True)\n",
            "      (conv2): Conv2d(256, 256, kernel_size=(3, 3), stride=(1, 1), padding=(1, 1), bias=False)\n",
            "      (bn2): BatchNorm2d(256, eps=1e-05, momentum=0.1, affine=True, track_running_stats=True)\n",
            "      (conv3): Conv2d(256, 1024, kernel_size=(1, 1), stride=(1, 1), bias=False)\n",
            "      (bn3): BatchNorm2d(1024, eps=1e-05, momentum=0.1, affine=True, track_running_stats=True)\n",
            "      (relu): ReLU(inplace=True)\n",
            "    )\n",
            "  )\n",
            "  (layer4): Sequential(\n",
            "    (0): Bottleneck(\n",
            "      (conv1): Conv2d(1024, 512, kernel_size=(1, 1), stride=(1, 1), bias=False)\n",
            "      (bn1): BatchNorm2d(512, eps=1e-05, momentum=0.1, affine=True, track_running_stats=True)\n",
            "      (conv2): Conv2d(512, 512, kernel_size=(3, 3), stride=(2, 2), padding=(1, 1), bias=False)\n",
            "      (bn2): BatchNorm2d(512, eps=1e-05, momentum=0.1, affine=True, track_running_stats=True)\n",
            "      (conv3): Conv2d(512, 2048, kernel_size=(1, 1), stride=(1, 1), bias=False)\n",
            "      (bn3): BatchNorm2d(2048, eps=1e-05, momentum=0.1, affine=True, track_running_stats=True)\n",
            "      (relu): ReLU(inplace=True)\n",
            "      (downsample): Sequential(\n",
            "        (0): Conv2d(1024, 2048, kernel_size=(1, 1), stride=(2, 2), bias=False)\n",
            "        (1): BatchNorm2d(2048, eps=1e-05, momentum=0.1, affine=True, track_running_stats=True)\n",
            "      )\n",
            "    )\n",
            "    (1): Bottleneck(\n",
            "      (conv1): Conv2d(2048, 512, kernel_size=(1, 1), stride=(1, 1), bias=False)\n",
            "      (bn1): BatchNorm2d(512, eps=1e-05, momentum=0.1, affine=True, track_running_stats=True)\n",
            "      (conv2): Conv2d(512, 512, kernel_size=(3, 3), stride=(1, 1), padding=(1, 1), bias=False)\n",
            "      (bn2): BatchNorm2d(512, eps=1e-05, momentum=0.1, affine=True, track_running_stats=True)\n",
            "      (conv3): Conv2d(512, 2048, kernel_size=(1, 1), stride=(1, 1), bias=False)\n",
            "      (bn3): BatchNorm2d(2048, eps=1e-05, momentum=0.1, affine=True, track_running_stats=True)\n",
            "      (relu): ReLU(inplace=True)\n",
            "    )\n",
            "    (2): Bottleneck(\n",
            "      (conv1): Conv2d(2048, 512, kernel_size=(1, 1), stride=(1, 1), bias=False)\n",
            "      (bn1): BatchNorm2d(512, eps=1e-05, momentum=0.1, affine=True, track_running_stats=True)\n",
            "      (conv2): Conv2d(512, 512, kernel_size=(3, 3), stride=(1, 1), padding=(1, 1), bias=False)\n",
            "      (bn2): BatchNorm2d(512, eps=1e-05, momentum=0.1, affine=True, track_running_stats=True)\n",
            "      (conv3): Conv2d(512, 2048, kernel_size=(1, 1), stride=(1, 1), bias=False)\n",
            "      (bn3): BatchNorm2d(2048, eps=1e-05, momentum=0.1, affine=True, track_running_stats=True)\n",
            "      (relu): ReLU(inplace=True)\n",
            "    )\n",
            "  )\n",
            "  (avgpool): AdaptiveAvgPool2d(output_size=(1, 1))\n",
            "  (fc): Linear(in_features=2048, out_features=1000, bias=True)\n",
            ")\n"
          ]
        }
      ]
    },
    {
      "cell_type": "code",
      "metadata": {
        "colab": {
          "base_uri": "https://localhost:8080/"
        },
        "id": "NF_H3aMhk696",
        "outputId": "b034437f-e9a3-4062-bc25-441bd5d54a3d"
      },
      "source": [
        "testModel.fc"
      ],
      "execution_count": 13,
      "outputs": [
        {
          "output_type": "execute_result",
          "data": {
            "text/plain": [
              "Linear(in_features=2048, out_features=1000, bias=True)"
            ]
          },
          "metadata": {},
          "execution_count": 13
        }
      ]
    },
    {
      "cell_type": "markdown",
      "metadata": {
        "id": "eOtl8z8G9wbr"
      },
      "source": [
        "#### Make your model class"
      ]
    },
    {
      "cell_type": "code",
      "metadata": {
        "id": "AY-XU4Mwas0j"
      },
      "source": [
        "class CustomResNet(nn.Module):\n",
        "    def __init__(self, num_classes, start_frozen=False):\n",
        "        super(CustomResNet, self).__init__()\n",
        "\n",
        "        # Part 1.2\n",
        "        # Load the model - make sure it is pre-trained\n",
        "        self.model = resnet152(pretrained=True)\n",
        "\n",
        "\n",
        "        # Part 1.4\n",
        "        if start_frozen:\n",
        "            # Turn off all gradients of the resnet\n",
        "            self.model.requires_grad_(False) #TODO: DOUBLE CHECK THIS\n",
        "        \n",
        "        # Part 1.2\n",
        "        # Look at the code of torchvision.models.resnet152 (or print the ResNet object) to find the name of the attribute to override (the last layer of the ResNet)\n",
        "        # Override the output linear layer of the neural network to map to the correct number of classes. Note that this new layer has requires_grad = True\n",
        "        self.model.fc = nn.Linear(in_features=2048, out_features=120, bias=True)\n",
        "        \n",
        "    def unfreeze(self, n_layers):\n",
        "        # Part 1.4\n",
        "        # Turn on gradients for the last n_layers\n",
        "\n",
        "        parameterList = list(self.model.parameters())[::-1]\n",
        "        for i in range(2*n_layers):\n",
        "          parameterList[i].requires_grad_(True)\n",
        "\n",
        "\n",
        "    def forward(self, x):\n",
        "        # Part 1.2\n",
        "        # Pass x through the resnet\n",
        "        return self.model(x)"
      ],
      "execution_count": 26,
      "outputs": []
    },
    {
      "cell_type": "markdown",
      "metadata": {
        "id": "2Krh0eYy18R9"
      },
      "source": [
        "### 1.3 Read through and run this training loop"
      ]
    },
    {
      "cell_type": "code",
      "metadata": {
        "id": "yOGrrw2gbIPf"
      },
      "source": [
        "def accuracy(y_hat, y_truth):\n",
        "    \"\"\"Gets average accuracy of a vector of predictions\"\"\"\n",
        "    \n",
        "    preds = torch.argmax(y_hat, dim=1)\n",
        "    acc = torch.mean((preds == y_truth).float())\n",
        "    return acc\n",
        "\n",
        "def evaluate(model, objective, val_loader, device):\n",
        "    \"\"\"Gets average accuracy and loss for the validation set\"\"\"\n",
        "\n",
        "    val_losses = 0\n",
        "    val_accs = 0\n",
        "    batches = 0\n",
        "    # model.eval() so that batchnorm and dropout work in eval mode\n",
        "    model.eval()\n",
        "    # torch.no_grad() to turn off computation graph creation. This allows for temporal\n",
        "    # and spatial complexity improvements, which allows for larger validation batch \n",
        "    # sizes so it’s recommended\n",
        "    with torch.no_grad():\n",
        "        for x, y_truth in val_loader:\n",
        "            \n",
        "            batches += 1\n",
        "\n",
        "            x, y_truth = x.to(device), y_truth.to(device)\n",
        "            y_hat = model(x)\n",
        "            val_loss = objective(y_hat, y_truth)\n",
        "            val_acc = accuracy(y_hat, y_truth)\n",
        "\n",
        "            val_losses += val_loss.item()\n",
        "            val_accs += val_acc\n",
        "\n",
        "    model.train()\n",
        "\n",
        "    return val_losses/batches, val_accs/batches"
      ],
      "execution_count": 20,
      "outputs": []
    },
    {
      "cell_type": "code",
      "metadata": {
        "id": "VKESMcKi2E_f"
      },
      "source": [
        "def train(start_frozen=False, model_unfreeze=0):\n",
        "    \"\"\"Fine-tunes a CNN\n",
        "    Args:\n",
        "        start_frozen (bool): whether to start with the network weights frozen.\n",
        "        model_unfreeze (int): the maximum number of network layers to unfreeze\n",
        "    \"\"\"\n",
        "    epochs = 20\n",
        "    # Start with a very low learning rate\n",
        "    lr = .00005\n",
        "    val_every = 3\n",
        "    num_classes = 16\n",
        "    batch_size = 32\n",
        "    device = torch.device('cuda:0')\n",
        "\n",
        "    # Data\n",
        "    # TODO: Use your own dataset\n",
        "    #train_dataset = CustomDataset(upload=True, train=True)\n",
        "    #val_dataset = CustomDataset(upload=True, train=False)\n",
        "    train_dataset = BirdDataset(upload=True, train=True)\n",
        "    val_dataset = BirdDataset(upload=True, train=False)\n",
        "\n",
        "    #subList = list(range(1, len(trainset), 2))\n",
        "    #train_subset = torch.utils.data.Subset(train_dataset, subList)\n",
        "    #val_subset = torch.utils.data.Subset(val_dataset,subList)\n",
        "\n",
        "    train_loader = DataLoader(train_dataset,\n",
        "                              shuffle=True,\n",
        "                              num_workers=8,\n",
        "                              batch_size=batch_size)\n",
        "    val_loader = DataLoader(val_dataset,\n",
        "                              shuffle=True,\n",
        "                              num_workers=8,\n",
        "                              batch_size=batch_size)\n",
        "    \n",
        "    # Model\n",
        "    model = CustomResNet(num_classes, start_frozen=start_frozen).to(device)\n",
        "    \n",
        "    # Objective\n",
        "    objective = nn.CrossEntropyLoss()\n",
        "    # Optimizer\n",
        "    optimizer = optim.Adam(model.parameters(), lr=lr, weight_decay=1e-1)\n",
        "\n",
        "    # Progress bar\n",
        "    pbar = tqdm(total=len(train_loader) * epochs)\n",
        "\n",
        "    train_losses = []\n",
        "    train_accs = []\n",
        "    val_losses = []\n",
        "    val_accs = []\n",
        "    \n",
        "    cnt = 0\n",
        "    for epoch in range(epochs):\n",
        "\n",
        "        # Implement model unfreezing\n",
        "        if epoch < model_unfreeze:\n",
        "            # Part 1.4\n",
        "            # Unfreeze the last layers, one more each epoch\n",
        "            model.unfreeze(epoch)\n",
        "        \n",
        "        for x, y_truth in train_loader:\n",
        "        \n",
        "            x, y_truth = x.to(device), y_truth.to(device)\n",
        "\n",
        "            optimizer.zero_grad()\n",
        "\n",
        "            y_hat = model(x)\n",
        "            train_loss = objective(y_hat, y_truth)\n",
        "            train_acc = accuracy(y_hat, y_truth)\n",
        "\n",
        "            train_loss.backward()\n",
        "            optimizer.step()\n",
        "\n",
        "            train_accs.append(train_acc)\n",
        "            train_losses.append(train_loss.item())\n",
        "\n",
        "            if cnt % val_every == 0:\n",
        "                val_loss, val_acc = evaluate(model, objective, val_loader, device)\n",
        "                val_losses.append(val_loss)\n",
        "                val_accs.append(val_acc)\n",
        "\n",
        "            pbar.set_description('train loss:{:.4f}, train accuracy:{:.4f}.'.format(train_loss.item(), train_acc))\n",
        "            pbar.update(1)\n",
        "            cnt += 1\n",
        "\n",
        "    pbar.close()\n",
        "    plt.subplot(121)\n",
        "    plt.plot(np.arange(len(train_accs)), train_accs, label='Train Accuracy')\n",
        "    plt.plot(np.arange(len(train_accs), step=val_every), val_accs, label='Val Accuracy')\n",
        "    plt.legend()\n",
        "    plt.subplot(122)\n",
        "    plt.plot(np.arange(len(train_losses)), train_losses, label='Train Loss')\n",
        "    plt.plot(np.arange(len(train_losses), step=val_every), val_losses, label='Val Loss')\n",
        "    plt.legend()\n",
        "    plt.show()  "
      ],
      "execution_count": 21,
      "outputs": []
    },
    {
      "cell_type": "code",
      "metadata": {
        "colab": {
          "base_uri": "https://localhost:8080/",
          "height": 337
        },
        "id": "fvnxeLotchiH",
        "outputId": "ab727601-2f5e-46a2-f6bd-219eb13e750e"
      },
      "source": [
        "train(start_frozen=False, model_unfreeze=0)  "
      ],
      "execution_count": 22,
      "outputs": [
        {
          "output_type": "stream",
          "name": "stderr",
          "text": [
            "/usr/local/lib/python3.7/dist-packages/torch/utils/data/dataloader.py:481: UserWarning: This DataLoader will create 8 worker processes in total. Our suggested max number of worker in current system is 2, which is smaller than what this DataLoader is going to create. Please be aware that excessive worker creation might get DataLoader running slow or even freeze, lower the worker number to avoid potential slowness/freeze if necessary.\n",
            "  cpuset_checked))\n",
            "train loss:0.2043, train accuracy:1.0000.: 100%|██████████| 100/100 [05:50<00:00,  3.51s/it]\n"
          ]
        },
        {
          "output_type": "display_data",
          "data": {
            "image/png": "[encoded data removed]",
            "text/plain": [
              "<Figure size 432x288 with 2 Axes>"
            ]
          },
          "metadata": {
            "needs_background": "light"
          }
        }
      ]
    },
    {
      "cell_type": "markdown",
      "metadata": {
        "id": "aEDv_-H7BvM0"
      },
      "source": [
        "### 1.4 Implement Unfreezing (1 hr)"
      ]
    },
    {
      "cell_type": "markdown",
      "metadata": {
        "id": "YH5mQBaa-_0b"
      },
      "source": [
        "#### Description"
      ]
    },
    {
      "cell_type": "markdown",
      "metadata": {
        "id": "u_YmE1pe-6LF"
      },
      "source": [
        "Unfreezing is a technique that can be helpful when fine tuning a CNN for a more difficult task with a large amount of data.\n",
        "\n",
        "The idea is that if we allow the network to tweak the earliest layers immediately, before the last FCL has been trained at all, the earliest layers will forget all of the useful features that they learned in order  to provide features that are helpful for the (untrained) FCL.\n",
        "\n",
        "So, rather than training all of the model weights at once, we learn the last fully connected layer, then train that layer together with the second-to-last layer, gradually adding layers until we reach the first layer."
      ]
    },
    {
      "cell_type": "markdown",
      "metadata": {
        "id": "XMKRI77_-8nc"
      },
      "source": [
        "#### TODO:"
      ]
    },
    {
      "cell_type": "markdown",
      "metadata": {
        "id": "KaUc8BTYC1bz"
      },
      "source": [
        "- Modify your model's parameters by setting the `requires_grad` attributes to `False`. (but keep `requires_grad = True` for the last layer).\n",
        "- Add a member function to you model class that allows the user to unfreeze weights in the training loop. See [this github gist](https://gist.github.com/jcjohnson/6e41e8512c17eae5da50aebef3378a4c) for reference.\n",
        "- Modify your training loop to add logic that calls the `unfreeze` function of the model class: unfreeze one layer (a convolutional layer or linear layer, not the sequential or bottleneck layers) every epoch.\n",
        "- Call your train function to fine-tune the ResNet on your dataset."
      ]
    },
    {
      "cell_type": "markdown",
      "metadata": {
        "id": "qBT5jgifC7Im"
      },
      "source": [
        "#### Call your train function"
      ]
    },
    {
      "cell_type": "code",
      "metadata": {
        "colab": {
          "base_uri": "https://localhost:8080/",
          "height": 1000
        },
        "id": "Mg9ySEO_BNDx",
        "outputId": "45bd5e44-a6bc-46ce-d35d-f0f72051d84b"
      },
      "source": [
        "############################\n",
        "# train with unfreezing here (should be a single call to your train function)\n",
        "############################\n",
        "train(start_frozen=True, model_unfreeze=20)"
      ],
      "execution_count": 27,
      "outputs": [
        {
          "output_type": "stream",
          "name": "stderr",
          "text": [
            "/usr/local/lib/python3.7/dist-packages/torch/utils/data/dataloader.py:481: UserWarning: This DataLoader will create 8 worker processes in total. Our suggested max number of worker in current system is 2, which is smaller than what this DataLoader is going to create. Please be aware that excessive worker creation might get DataLoader running slow or even freeze, lower the worker number to avoid potential slowness/freeze if necessary.\n",
            "  cpuset_checked))\n",
            "\n",
            "  0%|          | 0/100 [00:00<?, ?it/s]\u001b[A\n",
            "train loss:4.8591, train accuracy:0.0000.:   0%|          | 0/100 [00:05<?, ?it/s]\u001b[A\n",
            "train loss:4.8591, train accuracy:0.0000.:   1%|          | 1/100 [00:05<09:01,  5.47s/it]\u001b[A\n",
            "train loss:4.8138, train accuracy:0.0000.:   1%|          | 1/100 [00:06<09:01,  5.47s/it]\u001b[A\n",
            "train loss:4.8138, train accuracy:0.0000.:   2%|▏         | 2/100 [00:06<04:19,  2.65s/it]\u001b[A\n",
            "train loss:4.8014, train accuracy:0.0000.:   2%|▏         | 2/100 [00:06<04:19,  2.65s/it]\u001b[A\n",
            "train loss:4.8014, train accuracy:0.0000.:   3%|▎         | 3/100 [00:06<02:48,  1.74s/it]\u001b[A\n",
            "train loss:4.6556, train accuracy:0.0312.:   3%|▎         | 3/100 [00:11<02:48,  1.74s/it]\u001b[A\n",
            "train loss:4.6556, train accuracy:0.0312.:   4%|▍         | 4/100 [00:11<04:37,  2.89s/it]\u001b[A\n",
            "train loss:4.6005, train accuracy:0.0000.:   4%|▍         | 4/100 [00:12<04:37,  2.89s/it]\u001b[A\n",
            "train loss:4.6005, train accuracy:0.0000.:   5%|▌         | 5/100 [00:12<03:16,  2.07s/it]\u001b[A\n",
            "train loss:4.5741, train accuracy:0.0000.:   5%|▌         | 5/100 [00:13<03:16,  2.07s/it]\u001b[A\n",
            "train loss:4.5741, train accuracy:0.0000.:   6%|▌         | 6/100 [00:13<02:54,  1.86s/it]\u001b[A\n",
            "train loss:4.4344, train accuracy:0.0000.:   6%|▌         | 6/100 [00:18<02:54,  1.86s/it]\u001b[A\n",
            "train loss:4.4344, train accuracy:0.0000.:   7%|▋         | 7/100 [00:18<04:17,  2.77s/it]\u001b[A\n",
            "train loss:4.3852, train accuracy:0.0000.:   7%|▋         | 7/100 [00:18<04:17,  2.77s/it]\u001b[A\n",
            "train loss:4.3852, train accuracy:0.0000.:   8%|▊         | 8/100 [00:18<03:13,  2.10s/it]\u001b[A\n",
            "train loss:4.2890, train accuracy:0.0625.:   8%|▊         | 8/100 [00:19<03:13,  2.10s/it]\u001b[A\n",
            "train loss:4.2890, train accuracy:0.0625.:   9%|▉         | 9/100 [00:19<02:30,  1.65s/it]\u001b[A\n",
            "train loss:4.3684, train accuracy:0.0909.:   9%|▉         | 9/100 [00:24<02:30,  1.65s/it]\u001b[A\n",
            "train loss:4.3684, train accuracy:0.0909.:  10%|█         | 10/100 [00:24<03:49,  2.55s/it]\u001b[A\n",
            "train loss:4.1780, train accuracy:0.0312.:  10%|█         | 10/100 [00:25<03:49,  2.55s/it]\u001b[A\n",
            "train loss:4.1780, train accuracy:0.0312.:  11%|█         | 11/100 [00:25<03:17,  2.22s/it]\u001b[A\n",
            "train loss:4.1332, train accuracy:0.0625.:  11%|█         | 11/100 [00:26<03:17,  2.22s/it]\u001b[A\n",
            "train loss:4.1332, train accuracy:0.0625.:  12%|█▏        | 12/100 [00:26<02:33,  1.75s/it]\u001b[A\n",
            "train loss:4.1236, train accuracy:0.0000.:  12%|█▏        | 12/100 [00:30<02:33,  1.75s/it]\u001b[A\n",
            "train loss:4.1236, train accuracy:0.0000.:  13%|█▎        | 13/100 [00:30<03:49,  2.63s/it]\u001b[A\n",
            "train loss:4.0946, train accuracy:0.0312.:  13%|█▎        | 13/100 [00:31<03:49,  2.63s/it]\u001b[A\n",
            "train loss:4.0946, train accuracy:0.0312.:  14%|█▍        | 14/100 [00:31<02:55,  2.04s/it]\u001b[A\n",
            "train loss:4.0095, train accuracy:0.0000.:  14%|█▍        | 14/100 [00:32<02:55,  2.04s/it]\u001b[A\n",
            "train loss:4.0095, train accuracy:0.0000.:  15%|█▌        | 15/100 [00:32<02:16,  1.61s/it]\u001b[A\n",
            "train loss:3.9121, train accuracy:0.0625.:  15%|█▌        | 15/100 [00:37<02:16,  1.61s/it]\u001b[A\n",
            "train loss:3.9121, train accuracy:0.0625.:  16%|█▌        | 16/100 [00:37<03:52,  2.77s/it]\u001b[A\n",
            "train loss:3.8822, train accuracy:0.0312.:  16%|█▌        | 16/100 [00:38<03:52,  2.77s/it]\u001b[A\n",
            "train loss:3.8822, train accuracy:0.0312.:  17%|█▋        | 17/100 [00:38<02:57,  2.14s/it]\u001b[A\n",
            "train loss:3.8405, train accuracy:0.0625.:  17%|█▋        | 17/100 [00:38<02:57,  2.14s/it]\u001b[A\n",
            "train loss:3.8405, train accuracy:0.0625.:  18%|█▊        | 18/100 [00:38<02:19,  1.70s/it]\u001b[A\n",
            "train loss:3.7115, train accuracy:0.1250.:  18%|█▊        | 18/100 [00:43<02:19,  1.70s/it]\u001b[A\n",
            "train loss:3.7115, train accuracy:0.1250.:  19%|█▉        | 19/100 [00:43<03:29,  2.59s/it]\u001b[A\n",
            "train loss:3.7990, train accuracy:0.0455.:  19%|█▉        | 19/100 [00:44<03:29,  2.59s/it]\u001b[A\n",
            "train loss:3.7990, train accuracy:0.0455.:  20%|██        | 20/100 [00:44<02:39,  2.00s/it]\u001b[A\n",
            "train loss:3.6700, train accuracy:0.0625.:  20%|██        | 20/100 [00:45<02:39,  2.00s/it]\u001b[A\n",
            "train loss:3.6700, train accuracy:0.0625.:  21%|██        | 21/100 [00:45<02:24,  1.83s/it]\u001b[A\n",
            "train loss:3.5394, train accuracy:0.1875.:  21%|██        | 21/100 [00:50<02:24,  1.83s/it]\u001b[A\n",
            "train loss:3.5394, train accuracy:0.1875.:  22%|██▏       | 22/100 [00:50<03:26,  2.65s/it]\u001b[A\n",
            "train loss:3.4954, train accuracy:0.2188.:  22%|██▏       | 22/100 [00:50<03:26,  2.65s/it]\u001b[A\n",
            "train loss:3.4954, train accuracy:0.2188.:  23%|██▎       | 23/100 [00:50<02:38,  2.06s/it]\u001b[A\n",
            "train loss:3.3587, train accuracy:0.3125.:  23%|██▎       | 23/100 [00:51<02:38,  2.06s/it]\u001b[A\n",
            "train loss:3.3587, train accuracy:0.3125.:  24%|██▍       | 24/100 [00:51<02:05,  1.64s/it]\u001b[A\n",
            "train loss:3.4810, train accuracy:0.0909.:  24%|██▍       | 24/100 [00:56<02:05,  1.64s/it]\u001b[A\n",
            "train loss:3.4810, train accuracy:0.0909.:  25%|██▌       | 25/100 [00:56<03:10,  2.54s/it]\u001b[A\n",
            "train loss:3.3477, train accuracy:0.2188.:  25%|██▌       | 25/100 [00:57<03:10,  2.54s/it]\u001b[A\n",
            "train loss:3.3477, train accuracy:0.2188.:  26%|██▌       | 26/100 [00:57<02:43,  2.22s/it]\u001b[A\n",
            "train loss:3.1954, train accuracy:0.2812.:  26%|██▌       | 26/100 [00:58<02:43,  2.22s/it]\u001b[A\n",
            "train loss:3.1954, train accuracy:0.2812.:  27%|██▋       | 27/100 [00:58<02:08,  1.76s/it]\u001b[A\n",
            "train loss:3.1775, train accuracy:0.2500.:  27%|██▋       | 27/100 [01:03<02:08,  1.76s/it]\u001b[A\n",
            "train loss:3.1775, train accuracy:0.2500.:  28%|██▊       | 28/100 [01:03<03:09,  2.64s/it]\u001b[A\n",
            "train loss:3.2145, train accuracy:0.4062.:  28%|██▊       | 28/100 [01:03<03:09,  2.64s/it]\u001b[A\n",
            "train loss:3.2145, train accuracy:0.4062.:  29%|██▉       | 29/100 [01:03<02:25,  2.05s/it]\u001b[A\n",
            "train loss:3.1332, train accuracy:0.4091.:  29%|██▉       | 29/100 [01:04<02:25,  2.05s/it]\u001b[A\n",
            "train loss:3.1332, train accuracy:0.4091.:  30%|███       | 30/100 [01:04<01:53,  1.62s/it]\u001b[A\n",
            "train loss:3.1208, train accuracy:0.2812.:  30%|███       | 30/100 [01:09<01:53,  1.62s/it]\u001b[A\n",
            "train loss:3.1208, train accuracy:0.2812.:  31%|███       | 31/100 [01:09<03:12,  2.80s/it]\u001b[A\n",
            "train loss:2.9644, train accuracy:0.4688.:  31%|███       | 31/100 [01:10<03:12,  2.80s/it]\u001b[A\n",
            "train loss:2.9644, train accuracy:0.4688.:  32%|███▏      | 32/100 [01:10<02:27,  2.16s/it]\u001b[A\n",
            "train loss:2.9351, train accuracy:0.5625.:  32%|███▏      | 32/100 [01:11<02:27,  2.16s/it]\u001b[A\n",
            "train loss:2.9351, train accuracy:0.5625.:  33%|███▎      | 33/100 [01:11<01:55,  1.73s/it]\u001b[A\n",
            "train loss:2.8272, train accuracy:0.4375.:  33%|███▎      | 33/100 [01:16<01:55,  1.73s/it]\u001b[A\n",
            "train loss:2.8272, train accuracy:0.4375.:  34%|███▍      | 34/100 [01:16<02:53,  2.62s/it]\u001b[A\n",
            "train loss:2.9420, train accuracy:0.5000.:  34%|███▍      | 34/100 [01:16<02:53,  2.62s/it]\u001b[A\n",
            "train loss:2.9420, train accuracy:0.5000.:  35%|███▌      | 35/100 [01:16<02:11,  2.02s/it]\u001b[A\n",
            "train loss:2.6918, train accuracy:0.5312.:  35%|███▌      | 35/100 [01:18<02:11,  2.02s/it]\u001b[A\n",
            "train loss:2.6918, train accuracy:0.5312.:  36%|███▌      | 36/100 [01:18<02:00,  1.88s/it]\u001b[A\n",
            "train loss:2.7665, train accuracy:0.4062.:  36%|███▌      | 36/100 [01:22<02:00,  1.88s/it]\u001b[A\n",
            "train loss:2.7665, train accuracy:0.4062.:  37%|███▋      | 37/100 [01:22<02:51,  2.72s/it]\u001b[A\n",
            "train loss:2.6030, train accuracy:0.6562.:  37%|███▋      | 37/100 [01:23<02:51,  2.72s/it]\u001b[A\n",
            "train loss:2.6030, train accuracy:0.6562.:  38%|███▊      | 38/100 [01:23<02:11,  2.12s/it]\u001b[A\n",
            "train loss:2.8131, train accuracy:0.4062.:  38%|███▊      | 38/100 [01:24<02:11,  2.12s/it]\u001b[A\n",
            "train loss:2.8131, train accuracy:0.4062.:  39%|███▉      | 39/100 [01:24<01:43,  1.69s/it]\u001b[A\n",
            "train loss:2.7205, train accuracy:0.3182.:  39%|███▉      | 39/100 [01:28<01:43,  1.69s/it]\u001b[A\n",
            "train loss:2.7205, train accuracy:0.3182.:  40%|████      | 40/100 [01:28<02:35,  2.59s/it]\u001b[A\n",
            "train loss:2.5231, train accuracy:0.5938.:  40%|████      | 40/100 [01:30<02:35,  2.59s/it]\u001b[A\n",
            "train loss:2.5231, train accuracy:0.5938.:  41%|████      | 41/100 [01:30<02:13,  2.27s/it]\u001b[A\n",
            "train loss:2.5077, train accuracy:0.6875.:  41%|████      | 41/100 [01:31<02:13,  2.27s/it]\u001b[A\n",
            "train loss:2.5077, train accuracy:0.6875.:  42%|████▏     | 42/100 [01:31<01:44,  1.80s/it]\u001b[A\n",
            "train loss:2.3794, train accuracy:0.6562.:  42%|████▏     | 42/100 [01:35<01:44,  1.80s/it]\u001b[A\n",
            "train loss:2.3794, train accuracy:0.6562.:  43%|████▎     | 43/100 [01:35<02:33,  2.69s/it]\u001b[A\n",
            "train loss:2.4359, train accuracy:0.5000.:  43%|████▎     | 43/100 [01:36<02:33,  2.69s/it]\u001b[A\n",
            "train loss:2.4359, train accuracy:0.5000.:  44%|████▍     | 44/100 [01:36<01:57,  2.09s/it]\u001b[A\n",
            "train loss:2.3727, train accuracy:0.6364.:  44%|████▍     | 44/100 [01:37<01:57,  2.09s/it]\u001b[A\n",
            "train loss:2.3727, train accuracy:0.6364.:  45%|████▌     | 45/100 [01:37<01:31,  1.66s/it]\u001b[A\n",
            "train loss:2.2970, train accuracy:0.5938.:  45%|████▌     | 45/100 [01:42<01:31,  1.66s/it]\u001b[A\n",
            "train loss:2.2970, train accuracy:0.5938.:  46%|████▌     | 46/100 [01:42<02:32,  2.82s/it]\u001b[A\n",
            "train loss:2.3044, train accuracy:0.5938.:  46%|████▌     | 46/100 [01:43<02:32,  2.82s/it]\u001b[A\n",
            "train loss:2.3044, train accuracy:0.5938.:  47%|████▋     | 47/100 [01:43<01:55,  2.19s/it]\u001b[A\n",
            "train loss:2.2114, train accuracy:0.5938.:  47%|████▋     | 47/100 [01:44<01:55,  2.19s/it]\u001b[A\n",
            "train loss:2.2114, train accuracy:0.5938.:  48%|████▊     | 48/100 [01:44<01:30,  1.74s/it]\u001b[A\n",
            "train loss:2.0711, train accuracy:0.7812.:  48%|████▊     | 48/100 [01:48<01:30,  1.74s/it]\u001b[A\n",
            "train loss:2.0711, train accuracy:0.7812.:  49%|████▉     | 49/100 [01:48<02:14,  2.63s/it]\u001b[A\n",
            "train loss:2.0060, train accuracy:0.7727.:  49%|████▉     | 49/100 [01:49<02:14,  2.63s/it]\u001b[A\n",
            "train loss:2.0060, train accuracy:0.7727.:  50%|█████     | 50/100 [01:49<01:41,  2.04s/it]\u001b[A\n",
            "train loss:2.0970, train accuracy:0.6875.:  50%|█████     | 50/100 [01:51<01:41,  2.04s/it]\u001b[A\n",
            "train loss:2.0970, train accuracy:0.6875.:  51%|█████     | 51/100 [01:51<01:32,  1.90s/it]\u001b[A\n",
            "train loss:1.9852, train accuracy:0.7500.:  51%|█████     | 51/100 [01:55<01:32,  1.90s/it]\u001b[A\n",
            "train loss:1.9852, train accuracy:0.7500.:  52%|█████▏    | 52/100 [01:55<02:11,  2.75s/it]\u001b[A\n",
            "train loss:1.9945, train accuracy:0.7188.:  52%|█████▏    | 52/100 [01:56<02:11,  2.75s/it]\u001b[A\n",
            "train loss:1.9945, train accuracy:0.7188.:  53%|█████▎    | 53/100 [01:56<01:40,  2.14s/it]\u001b[A\n",
            "train loss:1.7826, train accuracy:0.8438.:  53%|█████▎    | 53/100 [01:57<01:40,  2.14s/it]\u001b[A\n",
            "train loss:1.7826, train accuracy:0.8438.:  54%|█████▍    | 54/100 [01:57<01:18,  1.71s/it]\u001b[A\n",
            "train loss:1.8246, train accuracy:0.8182.:  54%|█████▍    | 54/100 [02:01<01:18,  1.71s/it]\u001b[A\n",
            "train loss:1.8246, train accuracy:0.8182.:  55%|█████▌    | 55/100 [02:01<01:56,  2.59s/it]\u001b[A\n",
            "train loss:1.7337, train accuracy:0.7500.:  55%|█████▌    | 55/100 [02:03<01:56,  2.59s/it]\u001b[A\n",
            "train loss:1.7337, train accuracy:0.7500.:  56%|█████▌    | 56/100 [02:03<01:39,  2.26s/it]\u001b[A\n",
            "train loss:1.9151, train accuracy:0.6250.:  56%|█████▌    | 56/100 [02:04<01:39,  2.26s/it]\u001b[A\n",
            "train loss:1.9151, train accuracy:0.6250.:  57%|█████▋    | 57/100 [02:04<01:17,  1.81s/it]\u001b[A\n",
            "train loss:1.5790, train accuracy:0.8438.:  57%|█████▋    | 57/100 [02:08<01:17,  1.81s/it]\u001b[A\n",
            "train loss:1.5790, train accuracy:0.8438.:  58%|█████▊    | 58/100 [02:08<01:52,  2.69s/it]\u001b[A\n",
            "train loss:1.6194, train accuracy:0.9062.:  58%|█████▊    | 58/100 [02:09<01:52,  2.69s/it]\u001b[A\n",
            "train loss:1.6194, train accuracy:0.9062.:  59%|█████▉    | 59/100 [02:09<01:26,  2.10s/it]\u001b[A\n",
            "train loss:1.8063, train accuracy:0.7727.:  59%|█████▉    | 59/100 [02:10<01:26,  2.10s/it]\u001b[A\n",
            "train loss:1.8063, train accuracy:0.7727.:  60%|██████    | 60/100 [02:10<01:06,  1.66s/it]\u001b[A\n",
            "train loss:1.5284, train accuracy:0.9062.:  60%|██████    | 60/100 [02:15<01:06,  1.66s/it]\u001b[A\n",
            "train loss:1.5284, train accuracy:0.9062.:  61%|██████    | 61/100 [02:15<01:50,  2.84s/it]\u001b[A\n",
            "train loss:1.6158, train accuracy:0.7188.:  61%|██████    | 61/100 [02:16<01:50,  2.84s/it]\u001b[A\n",
            "train loss:1.6158, train accuracy:0.7188.:  62%|██████▏   | 62/100 [02:16<01:23,  2.21s/it]\u001b[A\n",
            "train loss:1.6023, train accuracy:0.7500.:  62%|██████▏   | 62/100 [02:17<01:23,  2.21s/it]\u001b[A\n",
            "train loss:1.6023, train accuracy:0.7500.:  63%|██████▎   | 63/100 [02:17<01:05,  1.77s/it]\u001b[A\n",
            "train loss:1.3394, train accuracy:0.8750.:  63%|██████▎   | 63/100 [02:22<01:05,  1.77s/it]\u001b[A\n",
            "train loss:1.3394, train accuracy:0.8750.:  64%|██████▍   | 64/100 [02:22<01:35,  2.65s/it]\u001b[A\n",
            "train loss:1.6269, train accuracy:0.7727.:  64%|██████▍   | 64/100 [02:22<01:35,  2.65s/it]\u001b[A\n",
            "train loss:1.6269, train accuracy:0.7727.:  65%|██████▌   | 65/100 [02:22<01:12,  2.06s/it]\u001b[A\n",
            "train loss:1.3275, train accuracy:0.8125.:  65%|██████▌   | 65/100 [02:24<01:12,  2.06s/it]\u001b[A\n",
            "train loss:1.3275, train accuracy:0.8125.:  66%|██████▌   | 66/100 [02:24<01:05,  1.91s/it]\u001b[A\n",
            "train loss:1.3597, train accuracy:0.8438.:  66%|██████▌   | 66/100 [02:29<01:05,  1.91s/it]\u001b[A\n",
            "train loss:1.3597, train accuracy:0.8438.:  67%|██████▋   | 67/100 [02:29<01:31,  2.77s/it]\u001b[A\n",
            "train loss:1.3552, train accuracy:0.8750.:  67%|██████▋   | 67/100 [02:29<01:31,  2.77s/it]\u001b[A\n",
            "train loss:1.3552, train accuracy:0.8750.:  68%|██████▊   | 68/100 [02:29<01:08,  2.15s/it]\u001b[A\n",
            "train loss:1.2792, train accuracy:0.9062.:  68%|██████▊   | 68/100 [02:30<01:08,  2.15s/it]\u001b[A\n",
            "train loss:1.2792, train accuracy:0.9062.:  69%|██████▉   | 69/100 [02:30<00:53,  1.73s/it]\u001b[A\n",
            "train loss:1.1366, train accuracy:0.9091.:  69%|██████▉   | 69/100 [02:35<00:53,  1.73s/it]\u001b[A\n",
            "train loss:1.1366, train accuracy:0.9091.:  70%|███████   | 70/100 [02:35<01:18,  2.61s/it]\u001b[A\n",
            "train loss:1.0697, train accuracy:0.9375.:  70%|███████   | 70/100 [02:36<01:18,  2.61s/it]\u001b[A\n",
            "train loss:1.0697, train accuracy:0.9375.:  71%|███████   | 71/100 [02:36<01:06,  2.30s/it]\u001b[A\n",
            "train loss:1.0481, train accuracy:1.0000.:  71%|███████   | 71/100 [02:37<01:06,  2.30s/it]\u001b[A\n",
            "train loss:1.0481, train accuracy:1.0000.:  72%|███████▏  | 72/100 [02:37<00:51,  1.83s/it]\u001b[A\n",
            "train loss:1.1494, train accuracy:0.8125.:  72%|███████▏  | 72/100 [02:42<00:51,  1.83s/it]\u001b[A\n",
            "train loss:1.1494, train accuracy:0.8125.:  73%|███████▎  | 73/100 [02:42<01:12,  2.69s/it]\u001b[A\n",
            "train loss:1.1568, train accuracy:0.8750.:  73%|███████▎  | 73/100 [02:42<01:12,  2.69s/it]\u001b[A\n",
            "train loss:1.1568, train accuracy:0.8750.:  74%|███████▍  | 74/100 [02:42<00:54,  2.11s/it]\u001b[A\n",
            "train loss:1.2190, train accuracy:0.7273.:  74%|███████▍  | 74/100 [02:43<00:54,  2.11s/it]\u001b[A\n",
            "train loss:1.2190, train accuracy:0.7273.:  75%|███████▌  | 75/100 [02:43<00:41,  1.68s/it]\u001b[A\n",
            "train loss:1.0679, train accuracy:0.8438.:  75%|███████▌  | 75/100 [02:49<00:41,  1.68s/it]\u001b[A\n",
            "train loss:1.0679, train accuracy:0.8438.:  76%|███████▌  | 76/100 [02:49<01:08,  2.85s/it]\u001b[A\n",
            "train loss:1.0374, train accuracy:0.8125.:  76%|███████▌  | 76/100 [02:50<01:08,  2.85s/it]\u001b[A\n",
            "train loss:1.0374, train accuracy:0.8125.:  77%|███████▋  | 77/100 [02:50<00:51,  2.23s/it]\u001b[A\n",
            "train loss:1.0678, train accuracy:0.8438.:  77%|███████▋  | 77/100 [02:50<00:51,  2.23s/it]\u001b[A\n",
            "train loss:1.0678, train accuracy:0.8438.:  78%|███████▊  | 78/100 [02:50<00:39,  1.78s/it]\u001b[A\n",
            "train loss:0.8820, train accuracy:0.9688.:  78%|███████▊  | 78/100 [02:55<00:39,  1.78s/it]\u001b[A\n",
            "train loss:0.8820, train accuracy:0.9688.:  79%|███████▉  | 79/100 [02:55<00:56,  2.68s/it]\u001b[A\n",
            "train loss:0.7483, train accuracy:1.0000.:  79%|███████▉  | 79/100 [02:56<00:56,  2.68s/it]\u001b[A\n",
            "train loss:0.7483, train accuracy:1.0000.:  80%|████████  | 80/100 [02:56<00:41,  2.08s/it]\u001b[A\n",
            "train loss:0.9120, train accuracy:0.9375.:  80%|████████  | 80/100 [02:57<00:41,  2.08s/it]\u001b[A\n",
            "train loss:0.9120, train accuracy:0.9375.:  81%|████████  | 81/100 [02:57<00:36,  1.93s/it]\u001b[A\n",
            "train loss:0.7871, train accuracy:0.9375.:  81%|████████  | 81/100 [03:02<00:36,  1.93s/it]\u001b[A\n",
            "train loss:0.7871, train accuracy:0.9375.:  82%|████████▏ | 82/100 [03:02<00:49,  2.77s/it]\u001b[A\n",
            "train loss:0.8771, train accuracy:0.9062.:  82%|████████▏ | 82/100 [03:03<00:49,  2.77s/it]\u001b[A\n",
            "train loss:0.8771, train accuracy:0.9062.:  83%|████████▎ | 83/100 [03:03<00:36,  2.17s/it]\u001b[A\n",
            "train loss:0.8763, train accuracy:0.8750.:  83%|████████▎ | 83/100 [03:04<00:36,  2.17s/it]\u001b[A\n",
            "train loss:0.8763, train accuracy:0.8750.:  84%|████████▍ | 84/100 [03:04<00:27,  1.75s/it]\u001b[A\n",
            "train loss:0.6067, train accuracy:0.9545.:  84%|████████▍ | 84/100 [03:08<00:27,  1.75s/it]\u001b[A\n",
            "train loss:0.6067, train accuracy:0.9545.:  85%|████████▌ | 85/100 [03:08<00:39,  2.65s/it]\u001b[A\n",
            "train loss:0.7006, train accuracy:0.9688.:  85%|████████▌ | 85/100 [03:10<00:39,  2.65s/it]\u001b[A\n",
            "train loss:0.7006, train accuracy:0.9688.:  86%|████████▌ | 86/100 [03:10<00:32,  2.33s/it]\u001b[A\n",
            "train loss:0.6624, train accuracy:1.0000.:  86%|████████▌ | 86/100 [03:11<00:32,  2.33s/it]\u001b[A\n",
            "train loss:0.6624, train accuracy:1.0000.:  87%|████████▋ | 87/100 [03:11<00:24,  1.87s/it]\u001b[A\n",
            "train loss:0.8098, train accuracy:0.9375.:  87%|████████▋ | 87/100 [03:15<00:24,  1.87s/it]\u001b[A\n",
            "train loss:0.8098, train accuracy:0.9375.:  88%|████████▊ | 88/100 [03:15<00:32,  2.75s/it]\u001b[A\n",
            "train loss:0.5705, train accuracy:0.9688.:  88%|████████▊ | 88/100 [03:16<00:32,  2.75s/it]\u001b[A\n",
            "train loss:0.5705, train accuracy:0.9688.:  89%|████████▉ | 89/100 [03:16<00:23,  2.15s/it]\u001b[A\n",
            "train loss:0.5460, train accuracy:1.0000.:  89%|████████▉ | 89/100 [03:17<00:23,  2.15s/it]\u001b[A\n",
            "train loss:0.5460, train accuracy:1.0000.:  90%|█████████ | 90/100 [03:17<00:17,  1.72s/it]\u001b[A\n",
            "train loss:0.4272, train accuracy:1.0000.:  90%|█████████ | 90/100 [03:23<00:17,  1.72s/it]\u001b[A\n",
            "train loss:0.4272, train accuracy:1.0000.:  91%|█████████ | 91/100 [03:23<00:25,  2.89s/it]\u001b[A\n",
            "train loss:0.6988, train accuracy:0.9375.:  91%|█████████ | 91/100 [03:23<00:25,  2.89s/it]\u001b[A\n",
            "train loss:0.6988, train accuracy:0.9375.:  92%|█████████▏| 92/100 [03:23<00:18,  2.25s/it]\u001b[A\n",
            "train loss:0.5482, train accuracy:1.0000.:  92%|█████████▏| 92/100 [03:24<00:18,  2.25s/it]\u001b[A\n",
            "train loss:0.5482, train accuracy:1.0000.:  93%|█████████▎| 93/100 [03:24<00:12,  1.81s/it]\u001b[A\n",
            "train loss:0.5559, train accuracy:1.0000.:  93%|█████████▎| 93/100 [03:29<00:12,  1.81s/it]\u001b[A\n",
            "train loss:0.5559, train accuracy:1.0000.:  94%|█████████▍| 94/100 [03:29<00:16,  2.71s/it]\u001b[A\n",
            "train loss:0.7349, train accuracy:0.9545.:  94%|█████████▍| 94/100 [03:30<00:16,  2.71s/it]\u001b[A\n",
            "train loss:0.7349, train accuracy:0.9545.:  95%|█████████▌| 95/100 [03:30<00:10,  2.11s/it]\u001b[A\n",
            "train loss:0.4303, train accuracy:1.0000.:  95%|█████████▌| 95/100 [03:31<00:10,  2.11s/it]\u001b[A\n",
            "train loss:0.4303, train accuracy:1.0000.:  96%|█████████▌| 96/100 [03:31<00:07,  1.95s/it]\u001b[A\n",
            "train loss:0.5396, train accuracy:1.0000.:  96%|█████████▌| 96/100 [03:36<00:07,  1.95s/it]\u001b[A\n",
            "train loss:0.5396, train accuracy:1.0000.:  97%|█████████▋| 97/100 [03:36<00:08,  2.82s/it]\u001b[A\n",
            "train loss:0.5403, train accuracy:1.0000.:  97%|█████████▋| 97/100 [03:37<00:08,  2.82s/it]\u001b[A\n",
            "train loss:0.5403, train accuracy:1.0000.:  98%|█████████▊| 98/100 [03:37<00:04,  2.21s/it]\u001b[A\n",
            "train loss:0.4334, train accuracy:1.0000.:  98%|█████████▊| 98/100 [03:38<00:04,  2.21s/it]\u001b[A\n",
            "train loss:0.4334, train accuracy:1.0000.:  99%|█████████▉| 99/100 [03:38<00:01,  1.78s/it]\u001b[A\n",
            "train loss:0.3877, train accuracy:1.0000.:  99%|█████████▉| 99/100 [03:42<00:01,  1.78s/it]\u001b[A\n",
            "train loss:0.3877, train accuracy:1.0000.: 100%|██████████| 100/100 [03:43<00:00,  2.23s/it]\n"
          ]
        },
        {
          "output_type": "display_data",
          "data": {
            "image/png": "[encoded data removed]",
            "text/plain": [
              "<Figure size 432x288 with 2 Axes>"
            ]
          },
          "metadata": {
            "needs_background": "light"
          }
        }
      ]
    },
    {
      "cell_type": "markdown",
      "metadata": {
        "id": "ZItH2lX7k4Yt"
      },
      "source": [
        "You may not see any improvement for your classification task, but unfreezing can help convergence for more difficult image classification tasks."
      ]
    },
    {
      "cell_type": "markdown",
      "metadata": {
        "id": "XAXHAUf3EEiE"
      },
      "source": [
        "## 2 Fine-tune a language model - (15 min)"
      ]
    },
    {
      "cell_type": "markdown",
      "metadata": {
        "id": "yu9usOxtjFHL"
      },
      "source": [
        "In this section you will use the gpt-2-simple package [here](https://github.com/minimaxir/gpt-2-simple) to fine-tune the GPT-2 language model on a domain of your choice."
      ]
    },
    {
      "cell_type": "markdown",
      "metadata": {
        "id": "_K7F19SPQo6U"
      },
      "source": [
        "### 2.1 Generate text from an the pretrained GPT-2 model"
      ]
    },
    {
      "cell_type": "markdown",
      "metadata": {
        "id": "9YLXvK51RnuL"
      },
      "source": [
        "#### Run this code to generate text from a pretrained model"
      ]
    },
    {
      "cell_type": "code",
      "metadata": {
        "colab": {
          "base_uri": "https://localhost:8080/"
        },
        "id": "WDNOb_H5IRvH",
        "outputId": "5f00b014-1f70-41f3-8078-93d046681f66"
      },
      "source": [
        "!pip install gpt-2-simple\n",
        "\n",
        "# the transformers package is built on top of Tensorflow, and the default TF version \n",
        "# for Colab will soon switch to 2.x. We remedy this with the following magic method\n",
        "%tensorflow_version 1.x \n",
        "\n",
        "import gpt_2_simple as gpt2\n",
        "import os\n",
        "import tensorflow as tf"
      ],
      "execution_count": 1,
      "outputs": [
        {
          "output_type": "stream",
          "name": "stdout",
          "text": [
            "Requirement already satisfied: gpt-2-simple in /usr/local/lib/python3.7/dist-packages (0.8.1)\n",
            "Requirement already satisfied: tqdm in /usr/local/lib/python3.7/dist-packages (from gpt-2-simple) (4.62.3)\n",
            "Requirement already satisfied: tensorflow>=2.5.1 in /usr/local/lib/python3.7/dist-packages (from gpt-2-simple) (2.6.0)\n",
            "Requirement already satisfied: toposort in /usr/local/lib/python3.7/dist-packages (from gpt-2-simple) (1.7)\n",
            "Requirement already satisfied: requests in /usr/local/lib/python3.7/dist-packages (from gpt-2-simple) (2.23.0)\n",
            "Requirement already satisfied: regex in /usr/local/lib/python3.7/dist-packages (from gpt-2-simple) (2019.12.20)\n",
            "Requirement already satisfied: numpy in /usr/local/lib/python3.7/dist-packages (from gpt-2-simple) (1.19.5)\n",
            "Requirement already satisfied: grpcio<2.0,>=1.37.0 in /usr/local/lib/python3.7/dist-packages (from tensorflow>=2.5.1->gpt-2-simple) (1.41.0)\n",
            "Requirement already satisfied: six~=1.15.0 in /usr/local/lib/python3.7/dist-packages (from tensorflow>=2.5.1->gpt-2-simple) (1.15.0)\n",
            "Requirement already satisfied: protobuf>=3.9.2 in /usr/local/lib/python3.7/dist-packages (from tensorflow>=2.5.1->gpt-2-simple) (3.17.3)\n",
            "Requirement already satisfied: absl-py~=0.10 in /usr/local/lib/python3.7/dist-packages (from tensorflow>=2.5.1->gpt-2-simple) (0.12.0)\n",
            "Requirement already satisfied: termcolor~=1.1.0 in /usr/local/lib/python3.7/dist-packages (from tensorflow>=2.5.1->gpt-2-simple) (1.1.0)\n",
            "Requirement already satisfied: google-pasta~=0.2 in /usr/local/lib/python3.7/dist-packages (from tensorflow>=2.5.1->gpt-2-simple) (0.2.0)\n",
            "Requirement already satisfied: flatbuffers~=1.12.0 in /usr/local/lib/python3.7/dist-packages (from tensorflow>=2.5.1->gpt-2-simple) (1.12)\n",
            "Requirement already satisfied: opt-einsum~=3.3.0 in /usr/local/lib/python3.7/dist-packages (from tensorflow>=2.5.1->gpt-2-simple) (3.3.0)\n",
            "Requirement already satisfied: keras~=2.6 in /usr/local/lib/python3.7/dist-packages (from tensorflow>=2.5.1->gpt-2-simple) (2.6.0)\n",
            "Requirement already satisfied: wrapt~=1.12.1 in /usr/local/lib/python3.7/dist-packages (from tensorflow>=2.5.1->gpt-2-simple) (1.12.1)\n",
            "Requirement already satisfied: gast==0.4.0 in /usr/local/lib/python3.7/dist-packages (from tensorflow>=2.5.1->gpt-2-simple) (0.4.0)\n",
            "Requirement already satisfied: keras-preprocessing~=1.1.2 in /usr/local/lib/python3.7/dist-packages (from tensorflow>=2.5.1->gpt-2-simple) (1.1.2)\n",
            "Requirement already satisfied: wheel~=0.35 in /usr/local/lib/python3.7/dist-packages (from tensorflow>=2.5.1->gpt-2-simple) (0.37.0)\n",
            "Requirement already satisfied: astunparse~=1.6.3 in /usr/local/lib/python3.7/dist-packages (from tensorflow>=2.5.1->gpt-2-simple) (1.6.3)\n",
            "Requirement already satisfied: tensorboard~=2.6 in /usr/local/lib/python3.7/dist-packages (from tensorflow>=2.5.1->gpt-2-simple) (2.6.0)\n",
            "Requirement already satisfied: clang~=5.0 in /usr/local/lib/python3.7/dist-packages (from tensorflow>=2.5.1->gpt-2-simple) (5.0)\n",
            "Requirement already satisfied: h5py~=3.1.0 in /usr/local/lib/python3.7/dist-packages (from tensorflow>=2.5.1->gpt-2-simple) (3.1.0)\n",
            "Requirement already satisfied: typing-extensions~=3.7.4 in /usr/local/lib/python3.7/dist-packages (from tensorflow>=2.5.1->gpt-2-simple) (3.7.4.3)\n",
            "Requirement already satisfied: tensorflow-estimator~=2.6 in /usr/local/lib/python3.7/dist-packages (from tensorflow>=2.5.1->gpt-2-simple) (2.6.0)\n",
            "Requirement already satisfied: cached-property in /usr/local/lib/python3.7/dist-packages (from h5py~=3.1.0->tensorflow>=2.5.1->gpt-2-simple) (1.5.2)\n",
            "Requirement already satisfied: tensorboard-plugin-wit>=1.6.0 in /usr/local/lib/python3.7/dist-packages (from tensorboard~=2.6->tensorflow>=2.5.1->gpt-2-simple) (1.8.0)\n",
            "Requirement already satisfied: werkzeug>=0.11.15 in /usr/local/lib/python3.7/dist-packages (from tensorboard~=2.6->tensorflow>=2.5.1->gpt-2-simple) (1.0.1)\n",
            "Requirement already satisfied: markdown>=2.6.8 in /usr/local/lib/python3.7/dist-packages (from tensorboard~=2.6->tensorflow>=2.5.1->gpt-2-simple) (3.3.4)\n",
            "Requirement already satisfied: tensorboard-data-server<0.7.0,>=0.6.0 in /usr/local/lib/python3.7/dist-packages (from tensorboard~=2.6->tensorflow>=2.5.1->gpt-2-simple) (0.6.1)\n",
            "Requirement already satisfied: google-auth<2,>=1.6.3 in /usr/local/lib/python3.7/dist-packages (from tensorboard~=2.6->tensorflow>=2.5.1->gpt-2-simple) (1.35.0)\n",
            "Requirement already satisfied: google-auth-oauthlib<0.5,>=0.4.1 in /usr/local/lib/python3.7/dist-packages (from tensorboard~=2.6->tensorflow>=2.5.1->gpt-2-simple) (0.4.6)\n",
            "Requirement already satisfied: setuptools>=41.0.0 in /usr/local/lib/python3.7/dist-packages (from tensorboard~=2.6->tensorflow>=2.5.1->gpt-2-simple) (57.4.0)\n",
            "Requirement already satisfied: rsa<5,>=3.1.4 in /usr/local/lib/python3.7/dist-packages (from google-auth<2,>=1.6.3->tensorboard~=2.6->tensorflow>=2.5.1->gpt-2-simple) (4.7.2)\n",
            "Requirement already satisfied: pyasn1-modules>=0.2.1 in /usr/local/lib/python3.7/dist-packages (from google-auth<2,>=1.6.3->tensorboard~=2.6->tensorflow>=2.5.1->gpt-2-simple) (0.2.8)\n",
            "Requirement already satisfied: cachetools<5.0,>=2.0.0 in /usr/local/lib/python3.7/dist-packages (from google-auth<2,>=1.6.3->tensorboard~=2.6->tensorflow>=2.5.1->gpt-2-simple) (4.2.4)\n",
            "Requirement already satisfied: requests-oauthlib>=0.7.0 in /usr/local/lib/python3.7/dist-packages (from google-auth-oauthlib<0.5,>=0.4.1->tensorboard~=2.6->tensorflow>=2.5.1->gpt-2-simple) (1.3.0)\n",
            "Requirement already satisfied: importlib-metadata in /usr/local/lib/python3.7/dist-packages (from markdown>=2.6.8->tensorboard~=2.6->tensorflow>=2.5.1->gpt-2-simple) (4.8.1)\n",
            "Requirement already satisfied: pyasn1<0.5.0,>=0.4.6 in /usr/local/lib/python3.7/dist-packages (from pyasn1-modules>=0.2.1->google-auth<2,>=1.6.3->tensorboard~=2.6->tensorflow>=2.5.1->gpt-2-simple) (0.4.8)\n",
            "Requirement already satisfied: certifi>=2017.4.17 in /usr/local/lib/python3.7/dist-packages (from requests->gpt-2-simple) (2021.5.30)\n",
            "Requirement already satisfied: idna<3,>=2.5 in /usr/local/lib/python3.7/dist-packages (from requests->gpt-2-simple) (2.10)\n",
            "Requirement already satisfied: chardet<4,>=3.0.2 in /usr/local/lib/python3.7/dist-packages (from requests->gpt-2-simple) (3.0.4)\n",
            "Requirement already satisfied: urllib3!=1.25.0,!=1.25.1,<1.26,>=1.21.1 in /usr/local/lib/python3.7/dist-packages (from requests->gpt-2-simple) (1.24.3)\n",
            "Requirement already satisfied: oauthlib>=3.0.0 in /usr/local/lib/python3.7/dist-packages (from requests-oauthlib>=0.7.0->google-auth-oauthlib<0.5,>=0.4.1->tensorboard~=2.6->tensorflow>=2.5.1->gpt-2-simple) (3.1.1)\n",
            "Requirement already satisfied: zipp>=0.5 in /usr/local/lib/python3.7/dist-packages (from importlib-metadata->markdown>=2.6.8->tensorboard~=2.6->tensorflow>=2.5.1->gpt-2-simple) (3.6.0)\n",
            "TensorFlow 1.x selected.\n",
            "WARNING:tensorflow:\n",
            "The TensorFlow contrib module will not be included in TensorFlow 2.0.\n",
            "For more information, please see:\n",
            "  * https://github.com/tensorflow/community/blob/master/rfcs/20180907-contrib-sunset.md\n",
            "  * https://github.com/tensorflow/addons\n",
            "  * https://github.com/tensorflow/io (for I/O related ops)\n",
            "If you depend on functionality not listed there, please file an issue.\n",
            "\n"
          ]
        }
      ]
    },
    {
      "cell_type": "code",
      "metadata": {
        "colab": {
          "base_uri": "https://localhost:8080/"
        },
        "id": "6aRJ-c9uRMOa",
        "outputId": "33b067d5-a5e0-40e7-8d57-0b5b56ca7555"
      },
      "source": [
        "# This line is necessary to be able to run a new tf session\n",
        "tf.reset_default_graph()\n",
        "# The medium-sized model. IF you run out of memory, try \"124M\" instead\n",
        "model_name = \"124M\"\n",
        "if not os.path.isdir(os.path.join(\"models\", model_name)):\n",
        "\tprint(f\"Downloading {model_name} model...\")\n",
        "\tgpt2.download_gpt2(model_name=model_name)   # model is saved into current directory under /models/124M/\n",
        "\n",
        "sess = gpt2.start_tf_sess()\n",
        "gpt2.load_gpt2(sess, model_name=model_name)\n",
        "gpt2.generate(sess, model_name=model_name)"
      ],
      "execution_count": 2,
      "outputs": [
        {
          "output_type": "stream",
          "name": "stdout",
          "text": [
            "Loading pretrained model models/124M/model.ckpt\n",
            "INFO:tensorflow:Restoring parameters from models/124M/model.ckpt\n",
            "The first eight months of the Trump administration have been a ragged mess. The first eight months of the Trump administration have been a ragged mess.\n",
            "\n",
            "But there's hope the Trump administration is just beginning to let up.\n",
            "\n",
            "Trump has dismissed the idea that his predecessor Barack Obama had any problems with Russian election meddling. Instead, he's blamed Russia for the election itself. And he's blamed his Democratic rival Hillary Clinton, a close friend of Putin.\n",
            "\n",
            "Now, on to the failures:\n",
            "\n",
            "1. The Office of Government Ethics was forced to deploy a list of tough new rules that will apply to any agency who has a conflict of interest.\n",
            "\n",
            "The rules are set to roll back many of the workplace protections that have been championed by President Trump, including the right to file complaints to Congress and the right to sue the government.\n",
            "\n",
            "He also said the rules will make it easier for him to avoid conflicts of interest.\n",
            "\n",
            "But they also limit the power of the attorney general to sue for misconduct.\n",
            "\n",
            "He's also ordered the Department of Justice to disclose whether the Justice Department has any conflicts of interest or conflicts of interest with respect to certain government agencies.\n",
            "\n",
            "2. Trump campaign advisers had their personal emails leaked to the media, which isn't new for this administration. Trump aides have been leaking information to the media. But the campaign has since alleged that it was done to try to help Trump win the election.\n",
            "\n",
            "The New York Times reported last month that the Trump campaign was intentionally trying to distract from their failure to disclose the AG's emails to journalists.\n",
            "\n",
            "The actual investigation into the leaks began in December, when the Washington Post obtained an email from a campaign adviser that detailed his or her contacts with the Russians.\n",
            "\n",
            "The Times reported that the person suggested that the campaign had been trying to help Trump win because getting the emails out was a good idea. But in the email, he wrote:\n",
            "\n",
            "\"We need to get out of the way so we can get to work. We need to get out of the way so we can get to work. That's why why we need to get out from under all of these folks. We need to get out so we can get to work. We need to get out from under all of these folks.\"\n",
            "\n",
            "He also wrote that he thought he was a good candidate for a senior position in the White House, but he was not.\n",
            "\n",
            "The Times story points out that after the Trump campaign published the email exchange the campaign did not tell the FBI, which is working with the FBI on the investigation. The Journal reported that they were under the influence of the Russian government.\n",
            "\n",
            "3. The Trump team lost money from a scheme to get rid of a book that got published in Russia, which is a different story from something Trump described in the campaign. The Trump team lost money from a scheme to get rid of a book that got published in Russia, which is a different story from something Trump described in the campaign.\n",
            "\n",
            "Trump and his team were trying to avoid the media's attention when the Russia story first broke. But they lost money from a scheme to get rid of a book that got published in Russia, which is a different story from something Trump described in the campaign.\n",
            "\n",
            "The Times article notes that the campaign's campaign manager, Corey Lewandowski, wrote a letter to the Times in early March that said, \"We have to move to high ground. We need to get it out of the way so we can get to work. We need to get out of the way so we can get to work. That's why we need to get out from under all of these folks. We need to get out from under all of these folks.\"\n",
            "\n",
            "The campaign said in a statement that the campaign \"loses $25,000 to $40,000 from their campaign-related campaign expenditures\" to out-of-pocket costs.\n",
            "\n",
            "4. The foundation of Trump University, a private, religious nonprofit founded by his son-in-law, Steve Bannon, reportedly had several employees who had ties to the Kremlin, including one who was the head of the Russia program.\n",
            "\n",
            "The foundation's executive director, Arbutus Arbutus, was found guilty last year of defrauding the foundation of a total of $35,000.\n",
            "\n",
            "The foundation has since apologized for its role in the scandal, which led to the resignation of Trump's campaign chairman, Paul Manafort.\n",
            "\n",
            "5. Trump and his team are reportedly getting into a fight over a $10 million loan from the Obama administration. In an interview with the Washington Post last week, Trump said that the State Department should have known that his predecessor had \"a very good track record in foreign policy.\"\n",
            "\n",
            "The program, which has helped students and families of Syrian refugees, is in its third year and has helped thousands of Syrians avoid persecution.\n",
            "\n",
            "A similar loan from the Obama administration was approved in 2014 for $1.4 million and was completed in 2016.\n"
          ]
        }
      ]
    },
    {
      "cell_type": "markdown",
      "metadata": {
        "id": "AHmjSVf_FNHv"
      },
      "source": [
        "### 2.2 Download a text dataset"
      ]
    },
    {
      "cell_type": "markdown",
      "metadata": {
        "id": "gPXJkNubFyY6"
      },
      "source": [
        "#### TODO:"
      ]
    },
    {
      "cell_type": "markdown",
      "metadata": {
        "id": "KWkuRjbcFzwb"
      },
      "source": [
        "- Use the provided functions to download your own text dataset\n",
        "- [Project Gutenberg](https://www.gutenberg.org/) is a nice starting point for raw text corpora"
      ]
    },
    {
      "cell_type": "markdown",
      "metadata": {
        "id": "iD45m3IwF9hh"
      },
      "source": [
        "#### Download Dataset"
      ]
    },
    {
      "cell_type": "code",
      "metadata": {
        "colab": {
          "base_uri": "https://localhost:8080/"
        },
        "id": "ESltl2QM5nxw",
        "outputId": "0d2167b1-e6f4-489d-d72b-2ba9e012b7f3"
      },
      "source": [
        "import zipfile\n",
        "import os\n",
        "from torchvision import datasets\n",
        "\n",
        "def extract_zip(zip_path, remove_finished=True):\n",
        "    print('Extracting {}'.format(zip_path))\n",
        "    with zipfile.ZipFile(zip_path, 'r') as zip_ref:\n",
        "        zip_ref.extractall(zip_path.replace('.zip', ''))\n",
        "    if remove_finished:\n",
        "        os.remove(zip_path)\n",
        "\n",
        "def download_dataset(url, root='../data'):\n",
        "    if not os.path.exists(os.path.join(root, 'text')):\n",
        "        os.makedirs(os.path.join(root))\n",
        "        datasets.utils.download_url(url, root, 'text.zip', None)\n",
        "        extract_zip(os.path.join(root, 'text.zip'))\n",
        "    return os.path.join(root, 'text')\n",
        "\n",
        "##########################################\n",
        "# Set the url for your dataset here,\n",
        "# move the dataset to the desired location\n",
        "##########################################\n",
        "url = 'https://www.gutenberg.org/files/30/30.zip'\n",
        "download_dataset(url)\n",
        "!mv /data/text/30.txt /data/text/bible.txt\n",
        "!ls ../data/text"
      ],
      "execution_count": 3,
      "outputs": [
        {
          "output_type": "stream",
          "name": "stdout",
          "text": [
            "mv: cannot stat '/data/text/30.txt': No such file or directory\n",
            "bible.txt\n"
          ]
        }
      ]
    },
    {
      "cell_type": "markdown",
      "metadata": {
        "id": "usQE-rSPZq_X"
      },
      "source": [
        "### 2.3 Fine-tune GPT-2 on your own dataset"
      ]
    },
    {
      "cell_type": "markdown",
      "metadata": {
        "id": "IoA0tZZCa_1k"
      },
      "source": [
        "#### TODO:"
      ]
    },
    {
      "cell_type": "markdown",
      "metadata": {
        "id": "OoU6ML1mbgjP"
      },
      "source": [
        "- Swap out the dataset parameter with the path to your dataset"
      ]
    },
    {
      "cell_type": "markdown",
      "metadata": {
        "id": "8pa5vFJ5EUjv"
      },
      "source": [
        "#### Train on your dataset"
      ]
    },
    {
      "cell_type": "code",
      "metadata": {
        "colab": {
          "base_uri": "https://localhost:8080/",
          "height": 1000
        },
        "id": "WuQ5snl4LuS0",
        "outputId": "c426a95f-fafc-4a43-f489-197ab1c942d5"
      },
      "source": [
        "# This line is necessary to be able to run a new tf session if one has already been run\n",
        "tf.reset_default_graph()\n",
        "# Start a session\n",
        "sess = gpt2.start_tf_sess()\n",
        "# Fine tune `model_name` on `data`\n",
        "###################################\n",
        "# Swap out the `dataset` parameter with the path to your text dataset\n",
        "###################################\n",
        "gpt2.finetune(sess,\n",
        "              dataset='../data/text/bible.txt',\n",
        "              model_name=model_name,\n",
        "              restore_from='latest',\n",
        "              steps=500)   # steps is max number of training steps\n",
        "\n",
        "gpt2.generate(sess, run_name='run1')"
      ],
      "execution_count": 4,
      "outputs": [
        {
          "output_type": "stream",
          "name": "stdout",
          "text": [
            "WARNING:tensorflow:From /usr/local/lib/python3.7/dist-packages/gpt_2_simple/src/sample.py:17: where (from tensorflow.python.ops.array_ops) is deprecated and will be removed in a future version.\n",
            "Instructions for updating:\n",
            "Use tf.where in 2.0, which has the same broadcast rule as np.where\n",
            "Loading checkpoint models/124M/model.ckpt\n",
            "INFO:tensorflow:Restoring parameters from models/124M/model.ckpt\n",
            "Loading dataset...\n"
          ]
        },
        {
          "output_type": "stream",
          "name": "stderr",
          "text": [
            "100%|██████████| 1/1 [00:07<00:00,  7.96s/it]\n"
          ]
        },
        {
          "output_type": "stream",
          "name": "stdout",
          "text": [
            "dataset has 1788810 tokens\n",
            "Training...\n",
            "[1 | 10.63] loss=2.19 avg=2.19\n",
            "[2 | 14.99] loss=2.52 avg=2.36\n",
            "[3 | 19.35] loss=2.77 avg=2.50\n",
            "[4 | 23.69] loss=1.95 avg=2.36\n",
            "[5 | 28.07] loss=2.01 avg=2.29\n",
            "[6 | 32.44] loss=1.91 avg=2.22\n",
            "[7 | 36.79] loss=1.98 avg=2.19\n",
            "[8 | 41.17] loss=1.89 avg=2.15\n",
            "[9 | 45.55] loss=1.91 avg=2.12\n",
            "[10 | 49.94] loss=1.84 avg=2.09\n",
            "[11 | 54.31] loss=1.93 avg=2.08\n",
            "[12 | 58.69] loss=1.79 avg=2.05\n",
            "[13 | 63.08] loss=1.82 avg=2.03\n",
            "[14 | 67.47] loss=1.74 avg=2.01\n",
            "[15 | 71.86] loss=1.89 avg=2.00\n",
            "[16 | 76.28] loss=1.87 avg=1.99\n",
            "[17 | 80.65] loss=1.73 avg=1.98\n",
            "[18 | 85.02] loss=1.90 avg=1.97\n",
            "[19 | 89.41] loss=1.84 avg=1.96\n",
            "[20 | 93.82] loss=1.80 avg=1.95\n",
            "[21 | 98.22] loss=1.73 avg=1.94\n",
            "[22 | 102.61] loss=1.85 avg=1.94\n",
            "[23 | 107.01] loss=1.78 avg=1.93\n",
            "[24 | 111.40] loss=1.95 avg=1.93\n",
            "[25 | 115.79] loss=1.71 avg=1.92\n",
            "[26 | 120.18] loss=1.82 avg=1.92\n",
            "[27 | 124.57] loss=1.84 avg=1.91\n",
            "[28 | 128.96] loss=1.91 avg=1.91\n",
            "[29 | 133.36] loss=1.67 avg=1.90\n",
            "[30 | 137.75] loss=1.75 avg=1.90\n",
            "[31 | 142.14] loss=1.77 avg=1.89\n",
            "[32 | 146.54] loss=1.79 avg=1.89\n",
            "[33 | 150.93] loss=1.78 avg=1.89\n",
            "[34 | 155.33] loss=1.70 avg=1.88\n",
            "[35 | 159.75] loss=1.79 avg=1.88\n",
            "[36 | 164.14] loss=1.70 avg=1.87\n",
            "[37 | 168.53] loss=1.91 avg=1.87\n",
            "[38 | 172.93] loss=1.68 avg=1.87\n",
            "[39 | 177.33] loss=1.76 avg=1.86\n",
            "[40 | 181.72] loss=1.74 avg=1.86\n",
            "[41 | 186.10] loss=1.75 avg=1.86\n",
            "[42 | 190.50] loss=1.64 avg=1.85\n",
            "[43 | 194.89] loss=1.91 avg=1.85\n",
            "[44 | 199.29] loss=1.73 avg=1.85\n",
            "[45 | 203.69] loss=1.68 avg=1.84\n",
            "[46 | 208.08] loss=1.73 avg=1.84\n",
            "[47 | 212.48] loss=1.70 avg=1.84\n",
            "[48 | 216.88] loss=1.72 avg=1.83\n",
            "[49 | 221.28] loss=1.72 avg=1.83\n",
            "[50 | 225.69] loss=1.76 avg=1.83\n",
            "[51 | 230.07] loss=1.58 avg=1.82\n",
            "[52 | 234.46] loss=1.78 avg=1.82\n",
            "[53 | 238.85] loss=1.78 avg=1.82\n",
            "[54 | 243.24] loss=1.73 avg=1.82\n",
            "[55 | 247.64] loss=1.81 avg=1.82\n",
            "[56 | 252.03] loss=1.70 avg=1.82\n",
            "[57 | 256.44] loss=1.69 avg=1.81\n",
            "[58 | 260.82] loss=1.73 avg=1.81\n",
            "[59 | 265.22] loss=1.77 avg=1.81\n",
            "[60 | 269.63] loss=1.60 avg=1.80\n",
            "[61 | 274.02] loss=1.70 avg=1.80\n",
            "[62 | 278.43] loss=1.77 avg=1.80\n",
            "[63 | 282.82] loss=1.77 avg=1.80\n",
            "[64 | 287.21] loss=1.74 avg=1.80\n",
            "[65 | 291.62] loss=1.61 avg=1.80\n",
            "[66 | 296.01] loss=1.75 avg=1.79\n",
            "[67 | 300.41] loss=1.67 avg=1.79\n",
            "[68 | 304.81] loss=1.63 avg=1.79\n",
            "[69 | 309.20] loss=1.56 avg=1.78\n",
            "[70 | 313.59] loss=1.67 avg=1.78\n",
            "[71 | 317.98] loss=1.66 avg=1.78\n",
            "[72 | 322.36] loss=1.73 avg=1.78\n",
            "[73 | 326.76] loss=1.70 avg=1.78\n",
            "[74 | 331.16] loss=1.68 avg=1.78\n",
            "[75 | 335.56] loss=1.76 avg=1.78\n",
            "[76 | 339.94] loss=1.74 avg=1.77\n",
            "[77 | 344.34] loss=1.64 avg=1.77\n",
            "[78 | 348.76] loss=1.63 avg=1.77\n",
            "[79 | 353.15] loss=1.67 avg=1.77\n",
            "[80 | 357.55] loss=1.79 avg=1.77\n",
            "[81 | 361.92] loss=1.78 avg=1.77\n",
            "[82 | 366.32] loss=1.59 avg=1.77\n",
            "[83 | 370.72] loss=1.68 avg=1.76\n",
            "[84 | 375.11] loss=1.53 avg=1.76\n",
            "[85 | 379.51] loss=1.54 avg=1.76\n",
            "[86 | 383.91] loss=1.60 avg=1.75\n",
            "[87 | 388.31] loss=1.73 avg=1.75\n",
            "[88 | 392.70] loss=1.65 avg=1.75\n",
            "[89 | 397.10] loss=1.71 avg=1.75\n",
            "[90 | 401.50] loss=1.60 avg=1.75\n",
            "[91 | 405.89] loss=1.55 avg=1.74\n",
            "[92 | 410.27] loss=1.74 avg=1.74\n",
            "[93 | 414.66] loss=1.63 avg=1.74\n",
            "[94 | 419.05] loss=1.68 avg=1.74\n",
            "[95 | 423.43] loss=1.58 avg=1.74\n",
            "[96 | 427.82] loss=1.56 avg=1.74\n",
            "[97 | 432.22] loss=1.68 avg=1.73\n",
            "[98 | 436.60] loss=1.68 avg=1.73\n",
            "[99 | 441.01] loss=1.72 avg=1.73\n",
            "[100 | 445.42] loss=1.60 avg=1.73\n",
            "======== SAMPLE 1 ========\n",
            ": ੰُـ:\n",
            "\n",
            "19:009:020:038 For the earth cometh, and all the stars thereof be\n",
            "              in their place, and there is light therein,\n",
            "\n",
            "19:009:021:001 And there is light in the stars that are within, that there\n",
            "              may be light from afar.\n",
            "\n",
            "19:009:022:001 The stars which are within are not in the light, nor\n",
            "             in a light from another.\n",
            "\n",
            "19:009:022:002 Therefore shall ye make an altar of the LORD upon the mountain\n",
            "              of Zion, and an altar of the LORD upon the hill, and an\n",
            "             altar to the mountains of the LORD of hosts.\n",
            "\n",
            "19:009:023:001 Therefore shall ye offer sacrifices in their stead, and\n",
            "             in their place, and unto the LORD, and unto the LORD\n",
            "             of hosts; in their place also ye will put down\n",
            "             the sacrifices offering, saying, Behold, the altar shall\n",
            "            be made one of the mountains, the altar of the LORD of hosts\n",
            "            upon the hill.\n",
            "\n",
            "19:009:023:002 As Moses had said, Thus saith the LORD; These\n",
            "            words will I tell all nations in Israel that the God of the\n",
            "            Israel, whom the LORD hath given to all his people, the LORD of hosts\n",
            "            and the firstbornborn, will I call thee this day, saying, When shall the\n",
            "            LORD of hosts say, Bring unto me the LORD on the mount? And\n",
            "            when he shall say, Bring me the LORD of hosts: and when he shall\n",
            "            say, Bring me from the altar, he shall call thee unto\n",
            "            the LORD of hosts.\n",
            "\n",
            "19:009:024:001 But ye shall offer sacrifices of sacrifice that are in their\n",
            "             stead, unto the LORD, in the manner of the mountains;\n",
            "\n",
            "19:009:024:002 And in their place ye will bring unto the LORD any offering of\n",
            "             the LORD of hosts that are within you, and to all that is\n",
            "             among you.\n",
            "\n",
            "19:009:025:002 And ye shall have a sacrifice of sacrifice; ye shall\n",
            "            have a sacrifice of sacrifice offering on the hill, in their place.\n",
            "\n",
            "19:009:025:003 Therefore ye shall worship at the altar on the hill, and\n",
            "            under the altar the sacrifices of sacrifice will I sing in their\n",
            "            place.\n",
            "\n",
            "19:009:025:004 And ye shall make offerings of sacrifice upon the earth, and\n",
            "            there will also be an offering of sacrifice,\n",
            "            of the LORD of hosts, unto the LORD of hosts.\n",
            "\n",
            "19:009:026:001 And ye shall offer sacrifices of sacrifice on the altar,\n",
            "           in their place, upon the wall, and upon the door, and upon the\n",
            "           altar, before the altar.\n",
            "\n",
            "19:009:026:002 And ye shall offer sacrifices of sacrifice upon the top of the\n",
            "           rock, with the image of the LORD upon the altar;\n",
            "\n",
            "19:009:026:003 And thou will have a sacrifice of sacrifice on the rock, wherein\n",
            "           every one that standeth the last day shall say, I am a servant\n",
            "           of the LORD of hosts.\n",
            "\n",
            "19:009:026:004 Ye shall make offerings unto the LORD of hosts upon the\n",
            " \n",
            "\n",
            "[101 | 468.30] loss=1.60 avg=1.73\n",
            "[102 | 472.68] loss=1.89 avg=1.73\n",
            "[103 | 477.07] loss=1.73 avg=1.73\n",
            "[104 | 481.47] loss=1.62 avg=1.73\n",
            "[105 | 485.86] loss=1.59 avg=1.73\n",
            "[106 | 490.24] loss=1.70 avg=1.73\n",
            "[107 | 494.62] loss=1.54 avg=1.72\n",
            "[108 | 499.01] loss=1.64 avg=1.72\n",
            "[109 | 503.40] loss=1.65 avg=1.72\n",
            "[110 | 507.81] loss=1.71 avg=1.72\n",
            "[111 | 512.20] loss=1.78 avg=1.72\n",
            "[112 | 516.60] loss=1.65 avg=1.72\n",
            "[113 | 520.98] loss=1.67 avg=1.72\n",
            "[114 | 525.38] loss=1.57 avg=1.72\n",
            "[115 | 529.77] loss=1.64 avg=1.72\n",
            "[116 | 534.15] loss=1.68 avg=1.72\n",
            "[117 | 538.55] loss=1.67 avg=1.72\n",
            "[118 | 542.95] loss=1.75 avg=1.72\n",
            "[119 | 547.35] loss=1.43 avg=1.71\n",
            "[120 | 551.74] loss=1.63 avg=1.71\n",
            "[121 | 556.13] loss=1.79 avg=1.71\n",
            "[122 | 560.52] loss=1.67 avg=1.71\n",
            "[123 | 564.93] loss=1.60 avg=1.71\n",
            "[124 | 569.33] loss=1.78 avg=1.71\n",
            "[125 | 573.74] loss=1.55 avg=1.71\n",
            "[126 | 578.14] loss=1.62 avg=1.71\n",
            "[127 | 582.54] loss=1.62 avg=1.71\n",
            "[128 | 586.94] loss=1.53 avg=1.70\n",
            "[129 | 591.34] loss=1.73 avg=1.71\n",
            "[130 | 595.73] loss=1.74 avg=1.71\n",
            "[131 | 600.12] loss=1.68 avg=1.71\n",
            "[132 | 604.51] loss=1.66 avg=1.70\n",
            "[133 | 608.90] loss=1.63 avg=1.70\n",
            "[134 | 613.29] loss=1.70 avg=1.70\n",
            "[135 | 617.68] loss=1.48 avg=1.70\n",
            "[136 | 622.07] loss=1.63 avg=1.70\n",
            "[137 | 626.47] loss=1.57 avg=1.70\n",
            "[138 | 630.85] loss=1.61 avg=1.70\n",
            "[139 | 635.25] loss=1.72 avg=1.70\n",
            "[140 | 639.64] loss=1.78 avg=1.70\n",
            "[141 | 644.04] loss=1.48 avg=1.70\n",
            "[142 | 648.44] loss=1.71 avg=1.70\n",
            "[143 | 652.84] loss=1.64 avg=1.69\n",
            "[144 | 657.23] loss=1.61 avg=1.69\n",
            "[145 | 661.63] loss=1.55 avg=1.69\n",
            "[146 | 666.04] loss=1.73 avg=1.69\n",
            "[147 | 670.44] loss=1.54 avg=1.69\n",
            "[148 | 674.82] loss=1.58 avg=1.69\n",
            "[149 | 679.23] loss=1.55 avg=1.69\n",
            "[150 | 683.61] loss=1.57 avg=1.69\n",
            "[151 | 688.02] loss=1.72 avg=1.69\n",
            "[152 | 692.41] loss=1.36 avg=1.68\n",
            "[153 | 696.81] loss=1.48 avg=1.68\n",
            "[154 | 701.21] loss=1.59 avg=1.68\n",
            "[155 | 705.61] loss=1.67 avg=1.68\n",
            "[156 | 710.00] loss=1.71 avg=1.68\n",
            "[157 | 714.39] loss=1.50 avg=1.68\n",
            "[158 | 718.80] loss=1.63 avg=1.68\n",
            "[159 | 723.19] loss=1.53 avg=1.67\n",
            "[160 | 727.57] loss=1.66 avg=1.67\n",
            "[161 | 731.95] loss=1.52 avg=1.67\n",
            "[162 | 736.35] loss=1.45 avg=1.67\n",
            "[163 | 740.74] loss=1.65 avg=1.67\n",
            "[164 | 745.12] loss=1.65 avg=1.67\n",
            "[165 | 749.52] loss=1.75 avg=1.67\n",
            "[166 | 753.92] loss=1.63 avg=1.67\n",
            "[167 | 758.31] loss=1.70 avg=1.67\n",
            "[168 | 762.70] loss=1.59 avg=1.67\n",
            "[169 | 767.08] loss=1.44 avg=1.67\n",
            "[170 | 771.48] loss=1.56 avg=1.66\n",
            "[171 | 775.89] loss=1.67 avg=1.66\n",
            "[172 | 780.31] loss=1.47 avg=1.66\n",
            "[173 | 784.71] loss=1.52 avg=1.66\n",
            "[174 | 789.10] loss=1.40 avg=1.66\n",
            "[175 | 793.49] loss=1.67 avg=1.66\n",
            "[176 | 797.91] loss=1.61 avg=1.66\n",
            "[177 | 802.31] loss=1.65 avg=1.66\n",
            "[178 | 806.72] loss=1.56 avg=1.66\n",
            "[179 | 811.11] loss=1.46 avg=1.65\n",
            "[180 | 815.50] loss=1.59 avg=1.65\n",
            "[181 | 819.89] loss=1.55 avg=1.65\n",
            "[182 | 824.29] loss=1.60 avg=1.65\n",
            "[183 | 828.68] loss=1.66 avg=1.65\n",
            "[184 | 833.06] loss=1.57 avg=1.65\n",
            "[185 | 837.46] loss=1.63 avg=1.65\n",
            "[186 | 841.84] loss=1.53 avg=1.65\n",
            "[187 | 846.23] loss=1.50 avg=1.65\n",
            "[188 | 850.62] loss=1.41 avg=1.64\n",
            "[189 | 855.02] loss=1.57 avg=1.64\n",
            "[190 | 859.41] loss=1.48 avg=1.64\n",
            "[191 | 863.81] loss=1.73 avg=1.64\n",
            "[192 | 868.23] loss=1.57 avg=1.64\n",
            "[193 | 872.61] loss=1.66 avg=1.64\n",
            "[194 | 877.00] loss=1.66 avg=1.64\n",
            "[195 | 881.41] loss=1.58 avg=1.64\n",
            "[196 | 885.80] loss=1.41 avg=1.64\n",
            "[197 | 890.19] loss=1.68 avg=1.64\n",
            "[198 | 894.59] loss=1.71 avg=1.64\n",
            "[199 | 898.98] loss=1.62 avg=1.64\n",
            "[200 | 903.38] loss=1.68 avg=1.64\n",
            "======== SAMPLE 1 ========\n",
            "        by him and all the saints of God which are in Jerusalem.\n",
            "\n",
            "07:010:010 Behold, now my wife Mary will not be called, nor that I should\n",
            "           also be called upon her name.\n",
            "\n",
            "07:010:011 But I will be called upon to glory as a prophet;\n",
            "           having prophesied in the heart of the whole world, even in the\n",
            "           Holy Ghost!\n",
            "\n",
            "07:010:012\n",
            "\n",
            "07:010:013 For I will rejoice in Christ; and love a good father and a\n",
            "           loving mother: and I will take no pleasure in evil.\n",
            "\n",
            "07:010:014 But I will give a faithful cause unto thee, that thou mayest also be\n",
            "           justified: that I might deliver thee down from the evil that I have\n",
            "           wrought against thee this month.\n",
            "\n",
            "07:010:015 If a man be of a certain habitation, or of a certain tribe or\n",
            "           tribe of men, he is in the kingdom of God; but he shall be\n",
            "           justified for ever.\n",
            "\n",
            "07:010:016\n",
            "\n",
            "07:010:017 I would not make a covenant with thee, as I have done with the\n",
            "           saints of Christ Jesus, and of God: nor would I cast them against\n",
            "           thee, because of thy sins.\n",
            "\n",
            "07:010:018 But I would deliver my son into my hand, as I have done with\n",
            "           Christ Jesus; I would send my hand between my right heart, and my\n",
            "           left, to carry him into the kingdom of God,\n",
            "           that he may be my companion; unto whom ye have sought my counsel\n",
            "           for many years, by\n",
            "           Jesus Christ the Lord.\n",
            "\n",
            "07:010:019 But a man not of the same habitation, or of a certain tribe or\n",
            "            tribe of men, he is not in the kingdom of God; but he\n",
            "           shall be justified for ever.\n",
            "\n",
            "07:010:020 In vain are all men, that they should have no hope for\n",
            "            himself:\n",
            "\n",
            "07:010:021 For as one man hath heareth no power in his hand; but the Lord\n",
            "            giveth life.\n",
            "\n",
            "07:010:022 Therefore are the saints in this present.\n",
            "\n",
            "07:010:023 For I had many wives before; but I shall have none in this\n",
            "           new time to give them again.\n",
            "\n",
            "07:010:024 But now that I have done so without, I am like unto you, that I\n",
            "           are much greater in number, and rejoice in me:\n",
            "\n",
            "07:010:025 But I am now in the glory of the world.\n",
            "\n",
            "07:010:026 I am the God of wrath: and if I have not confidence in me, I\n",
            "           are not justified.\n",
            "\n",
            "07:010:027\n",
            "\n",
            "07:001:001 Blessed be his name, who is with the people, and shall redeem them in\n",
            "           their name, according to their habitation, which they are of.\n",
            "\n",
            "07:001:002 By him that is without, whom ye have sought my counsel, I have done\n",
            "           with you;\n",
            "\n",
            "07:001:003 That I should not have the power of judgment.\n",
            "\n",
            "07:001:004 He that is without shall be likened unto me: and ye that\n",
            "           trust in him shall be likened unto me more by him.\n",
            "\n",
            "07:001:005 And now, O Jerusalem, make no provision for me, if now I\n",
            "           shall not be able to enter upon the kingdom of God.\n",
            "\n",
            "07:001:006 In that the Holy Ghost which I preached unto you, having\n",
            "          \n",
            "\n",
            "[201 | 924.75] loss=1.60 avg=1.64\n",
            "[202 | 929.13] loss=1.52 avg=1.64\n",
            "[203 | 933.53] loss=1.64 avg=1.64\n",
            "[204 | 937.92] loss=1.66 avg=1.64\n",
            "[205 | 942.30] loss=1.55 avg=1.64\n",
            "[206 | 946.71] loss=1.58 avg=1.64\n",
            "interrupted\n",
            "Saving checkpoint/run1/model-206\n"
          ]
        },
        {
          "output_type": "error",
          "ename": "KeyboardInterrupt",
          "evalue": "ignored",
          "traceback": [
            "\u001b[0;31m---------------------------------------------------------------------------\u001b[0m",
            "\u001b[0;31mKeyboardInterrupt\u001b[0m                         Traceback (most recent call last)",
            "\u001b[0;32m/usr/local/lib/python3.7/dist-packages/gpt_2_simple/gpt_2.py\u001b[0m in \u001b[0;36mfinetune\u001b[0;34m(sess, dataset, steps, model_name, model_dir, combine, batch_size, learning_rate, accumulate_gradients, restore_from, run_name, checkpoint_dir, sample_every, sample_length, sample_num, multi_gpu, save_every, print_every, max_checkpoints, use_memory_saving_gradients, only_train_transformer_layers, optimizer, overwrite, reuse)\u001b[0m\n\u001b[1;32m    339\u001b[0m                     sess.run(\n\u001b[0;32m--> 340\u001b[0;31m                         opt_compute, feed_dict={context: sample_batch()})\n\u001b[0m\u001b[1;32m    341\u001b[0m                 \u001b[0;34m(\u001b[0m\u001b[0mv_loss\u001b[0m\u001b[0;34m,\u001b[0m \u001b[0mv_summary\u001b[0m\u001b[0;34m)\u001b[0m \u001b[0;34m=\u001b[0m \u001b[0msess\u001b[0m\u001b[0;34m.\u001b[0m\u001b[0mrun\u001b[0m\u001b[0;34m(\u001b[0m\u001b[0;34m(\u001b[0m\u001b[0mopt_apply\u001b[0m\u001b[0;34m,\u001b[0m \u001b[0msummary_loss\u001b[0m\u001b[0;34m)\u001b[0m\u001b[0;34m)\u001b[0m\u001b[0;34m\u001b[0m\u001b[0;34m\u001b[0m\u001b[0m\n",
            "\u001b[0;32m/tensorflow-1.15.2/python3.7/tensorflow_core/python/client/session.py\u001b[0m in \u001b[0;36mrun\u001b[0;34m(self, fetches, feed_dict, options, run_metadata)\u001b[0m\n\u001b[1;32m    955\u001b[0m       result = self._run(None, fetches, feed_dict, options_ptr,\n\u001b[0;32m--> 956\u001b[0;31m                          run_metadata_ptr)\n\u001b[0m\u001b[1;32m    957\u001b[0m       \u001b[0;32mif\u001b[0m \u001b[0mrun_metadata\u001b[0m\u001b[0;34m:\u001b[0m\u001b[0;34m\u001b[0m\u001b[0;34m\u001b[0m\u001b[0m\n",
            "\u001b[0;32m/tensorflow-1.15.2/python3.7/tensorflow_core/python/client/session.py\u001b[0m in \u001b[0;36m_run\u001b[0;34m(self, handle, fetches, feed_dict, options, run_metadata)\u001b[0m\n\u001b[1;32m   1179\u001b[0m       results = self._do_run(handle, final_targets, final_fetches,\n\u001b[0;32m-> 1180\u001b[0;31m                              feed_dict_tensor, options, run_metadata)\n\u001b[0m\u001b[1;32m   1181\u001b[0m     \u001b[0;32melse\u001b[0m\u001b[0;34m:\u001b[0m\u001b[0;34m\u001b[0m\u001b[0;34m\u001b[0m\u001b[0m\n",
            "\u001b[0;32m/tensorflow-1.15.2/python3.7/tensorflow_core/python/client/session.py\u001b[0m in \u001b[0;36m_do_run\u001b[0;34m(self, handle, target_list, fetch_list, feed_dict, options, run_metadata)\u001b[0m\n\u001b[1;32m   1358\u001b[0m       return self._do_call(_run_fn, feeds, fetches, targets, options,\n\u001b[0;32m-> 1359\u001b[0;31m                            run_metadata)\n\u001b[0m\u001b[1;32m   1360\u001b[0m     \u001b[0;32melse\u001b[0m\u001b[0;34m:\u001b[0m\u001b[0;34m\u001b[0m\u001b[0;34m\u001b[0m\u001b[0m\n",
            "\u001b[0;32m/tensorflow-1.15.2/python3.7/tensorflow_core/python/client/session.py\u001b[0m in \u001b[0;36m_do_call\u001b[0;34m(self, fn, *args)\u001b[0m\n\u001b[1;32m   1364\u001b[0m     \u001b[0;32mtry\u001b[0m\u001b[0;34m:\u001b[0m\u001b[0;34m\u001b[0m\u001b[0;34m\u001b[0m\u001b[0m\n\u001b[0;32m-> 1365\u001b[0;31m       \u001b[0;32mreturn\u001b[0m \u001b[0mfn\u001b[0m\u001b[0;34m(\u001b[0m\u001b[0;34m*\u001b[0m\u001b[0margs\u001b[0m\u001b[0;34m)\u001b[0m\u001b[0;34m\u001b[0m\u001b[0;34m\u001b[0m\u001b[0m\n\u001b[0m\u001b[1;32m   1366\u001b[0m     \u001b[0;32mexcept\u001b[0m \u001b[0merrors\u001b[0m\u001b[0;34m.\u001b[0m\u001b[0mOpError\u001b[0m \u001b[0;32mas\u001b[0m \u001b[0me\u001b[0m\u001b[0;34m:\u001b[0m\u001b[0;34m\u001b[0m\u001b[0;34m\u001b[0m\u001b[0m\n",
            "\u001b[0;32m/tensorflow-1.15.2/python3.7/tensorflow_core/python/client/session.py\u001b[0m in \u001b[0;36m_run_fn\u001b[0;34m(feed_dict, fetch_list, target_list, options, run_metadata)\u001b[0m\n\u001b[1;32m   1349\u001b[0m       return self._call_tf_sessionrun(options, feed_dict, fetch_list,\n\u001b[0;32m-> 1350\u001b[0;31m                                       target_list, run_metadata)\n\u001b[0m\u001b[1;32m   1351\u001b[0m \u001b[0;34m\u001b[0m\u001b[0m\n",
            "\u001b[0;32m/tensorflow-1.15.2/python3.7/tensorflow_core/python/client/session.py\u001b[0m in \u001b[0;36m_call_tf_sessionrun\u001b[0;34m(self, options, feed_dict, fetch_list, target_list, run_metadata)\u001b[0m\n\u001b[1;32m   1442\u001b[0m                                             \u001b[0mfetch_list\u001b[0m\u001b[0;34m,\u001b[0m \u001b[0mtarget_list\u001b[0m\u001b[0;34m,\u001b[0m\u001b[0;34m\u001b[0m\u001b[0;34m\u001b[0m\u001b[0m\n\u001b[0;32m-> 1443\u001b[0;31m                                             run_metadata)\n\u001b[0m\u001b[1;32m   1444\u001b[0m \u001b[0;34m\u001b[0m\u001b[0m\n",
            "\u001b[0;31mKeyboardInterrupt\u001b[0m: ",
            "\nDuring handling of the above exception, another exception occurred:\n",
            "\u001b[0;31mKeyboardInterrupt\u001b[0m                         Traceback (most recent call last)",
            "\u001b[0;32m<ipython-input-4-407c26f59432>\u001b[0m in \u001b[0;36m<module>\u001b[0;34m()\u001b[0m\n\u001b[1;32m     11\u001b[0m               \u001b[0mmodel_name\u001b[0m\u001b[0;34m=\u001b[0m\u001b[0mmodel_name\u001b[0m\u001b[0;34m,\u001b[0m\u001b[0;34m\u001b[0m\u001b[0;34m\u001b[0m\u001b[0m\n\u001b[1;32m     12\u001b[0m               \u001b[0mrestore_from\u001b[0m\u001b[0;34m=\u001b[0m\u001b[0;34m'latest'\u001b[0m\u001b[0;34m,\u001b[0m\u001b[0;34m\u001b[0m\u001b[0;34m\u001b[0m\u001b[0m\n\u001b[0;32m---> 13\u001b[0;31m               steps=500)   # steps is max number of training steps\n\u001b[0m\u001b[1;32m     14\u001b[0m \u001b[0;34m\u001b[0m\u001b[0m\n\u001b[1;32m     15\u001b[0m \u001b[0mgpt2\u001b[0m\u001b[0;34m.\u001b[0m\u001b[0mgenerate\u001b[0m\u001b[0;34m(\u001b[0m\u001b[0msess\u001b[0m\u001b[0;34m,\u001b[0m \u001b[0mrun_name\u001b[0m\u001b[0;34m=\u001b[0m\u001b[0;34m'run1'\u001b[0m\u001b[0;34m)\u001b[0m\u001b[0;34m\u001b[0m\u001b[0;34m\u001b[0m\u001b[0m\n",
            "\u001b[0;32m/usr/local/lib/python3.7/dist-packages/gpt_2_simple/gpt_2.py\u001b[0m in \u001b[0;36mfinetune\u001b[0;34m(sess, dataset, steps, model_name, model_dir, combine, batch_size, learning_rate, accumulate_gradients, restore_from, run_name, checkpoint_dir, sample_every, sample_length, sample_num, multi_gpu, save_every, print_every, max_checkpoints, use_memory_saving_gradients, only_train_transformer_layers, optimizer, overwrite, reuse)\u001b[0m\n\u001b[1;32m    362\u001b[0m     \u001b[0;32mexcept\u001b[0m \u001b[0mKeyboardInterrupt\u001b[0m\u001b[0;34m:\u001b[0m\u001b[0;34m\u001b[0m\u001b[0;34m\u001b[0m\u001b[0m\n\u001b[1;32m    363\u001b[0m         \u001b[0mprint\u001b[0m\u001b[0;34m(\u001b[0m\u001b[0;34m'interrupted'\u001b[0m\u001b[0;34m)\u001b[0m\u001b[0;34m\u001b[0m\u001b[0;34m\u001b[0m\u001b[0m\n\u001b[0;32m--> 364\u001b[0;31m         \u001b[0msave\u001b[0m\u001b[0;34m(\u001b[0m\u001b[0;34m)\u001b[0m\u001b[0;34m\u001b[0m\u001b[0;34m\u001b[0m\u001b[0m\n\u001b[0m\u001b[1;32m    365\u001b[0m \u001b[0;34m\u001b[0m\u001b[0m\n\u001b[1;32m    366\u001b[0m \u001b[0;34m\u001b[0m\u001b[0m\n",
            "\u001b[0;32m/usr/local/lib/python3.7/dist-packages/gpt_2_simple/gpt_2.py\u001b[0m in \u001b[0;36msave\u001b[0;34m()\u001b[0m\n\u001b[1;32m    284\u001b[0m             \u001b[0msess\u001b[0m\u001b[0;34m,\u001b[0m\u001b[0;34m\u001b[0m\u001b[0;34m\u001b[0m\u001b[0m\n\u001b[1;32m    285\u001b[0m             \u001b[0mos\u001b[0m\u001b[0;34m.\u001b[0m\u001b[0mpath\u001b[0m\u001b[0;34m.\u001b[0m\u001b[0mjoin\u001b[0m\u001b[0;34m(\u001b[0m\u001b[0mcheckpoint_path\u001b[0m\u001b[0;34m,\u001b[0m \u001b[0;34m'model'\u001b[0m\u001b[0;34m)\u001b[0m\u001b[0;34m,\u001b[0m\u001b[0;34m\u001b[0m\u001b[0;34m\u001b[0m\u001b[0m\n\u001b[0;32m--> 286\u001b[0;31m             global_step=counter-1)\n\u001b[0m\u001b[1;32m    287\u001b[0m         \u001b[0;32mwith\u001b[0m \u001b[0mopen\u001b[0m\u001b[0;34m(\u001b[0m\u001b[0mcounter_path\u001b[0m\u001b[0;34m,\u001b[0m \u001b[0;34m'w'\u001b[0m\u001b[0;34m)\u001b[0m \u001b[0;32mas\u001b[0m \u001b[0mfp\u001b[0m\u001b[0;34m:\u001b[0m\u001b[0;34m\u001b[0m\u001b[0;34m\u001b[0m\u001b[0m\n\u001b[1;32m    288\u001b[0m             \u001b[0mfp\u001b[0m\u001b[0;34m.\u001b[0m\u001b[0mwrite\u001b[0m\u001b[0;34m(\u001b[0m\u001b[0mstr\u001b[0m\u001b[0;34m(\u001b[0m\u001b[0mcounter\u001b[0m\u001b[0;34m-\u001b[0m\u001b[0;36m1\u001b[0m\u001b[0;34m)\u001b[0m \u001b[0;34m+\u001b[0m \u001b[0;34m'\\n'\u001b[0m\u001b[0;34m)\u001b[0m\u001b[0;34m\u001b[0m\u001b[0;34m\u001b[0m\u001b[0m\n",
            "\u001b[0;32m/tensorflow-1.15.2/python3.7/tensorflow_core/python/training/saver.py\u001b[0m in \u001b[0;36msave\u001b[0;34m(self, sess, save_path, global_step, latest_filename, meta_graph_suffix, write_meta_graph, write_state, strip_default_attrs, save_debug_info)\u001b[0m\n\u001b[1;32m   1174\u001b[0m           model_checkpoint_path = sess.run(\n\u001b[1;32m   1175\u001b[0m               \u001b[0mself\u001b[0m\u001b[0;34m.\u001b[0m\u001b[0msaver_def\u001b[0m\u001b[0;34m.\u001b[0m\u001b[0msave_tensor_name\u001b[0m\u001b[0;34m,\u001b[0m\u001b[0;34m\u001b[0m\u001b[0;34m\u001b[0m\u001b[0m\n\u001b[0;32m-> 1176\u001b[0;31m               {self.saver_def.filename_tensor_name: checkpoint_file})\n\u001b[0m\u001b[1;32m   1177\u001b[0m \u001b[0;34m\u001b[0m\u001b[0m\n\u001b[1;32m   1178\u001b[0m         \u001b[0mmodel_checkpoint_path\u001b[0m \u001b[0;34m=\u001b[0m \u001b[0mcompat\u001b[0m\u001b[0;34m.\u001b[0m\u001b[0mas_str\u001b[0m\u001b[0;34m(\u001b[0m\u001b[0mmodel_checkpoint_path\u001b[0m\u001b[0;34m)\u001b[0m\u001b[0;34m\u001b[0m\u001b[0;34m\u001b[0m\u001b[0m\n",
            "\u001b[0;32m/tensorflow-1.15.2/python3.7/tensorflow_core/python/client/session.py\u001b[0m in \u001b[0;36mrun\u001b[0;34m(self, fetches, feed_dict, options, run_metadata)\u001b[0m\n\u001b[1;32m    954\u001b[0m     \u001b[0;32mtry\u001b[0m\u001b[0;34m:\u001b[0m\u001b[0;34m\u001b[0m\u001b[0;34m\u001b[0m\u001b[0m\n\u001b[1;32m    955\u001b[0m       result = self._run(None, fetches, feed_dict, options_ptr,\n\u001b[0;32m--> 956\u001b[0;31m                          run_metadata_ptr)\n\u001b[0m\u001b[1;32m    957\u001b[0m       \u001b[0;32mif\u001b[0m \u001b[0mrun_metadata\u001b[0m\u001b[0;34m:\u001b[0m\u001b[0;34m\u001b[0m\u001b[0;34m\u001b[0m\u001b[0m\n\u001b[1;32m    958\u001b[0m         \u001b[0mproto_data\u001b[0m \u001b[0;34m=\u001b[0m \u001b[0mtf_session\u001b[0m\u001b[0;34m.\u001b[0m\u001b[0mTF_GetBuffer\u001b[0m\u001b[0;34m(\u001b[0m\u001b[0mrun_metadata_ptr\u001b[0m\u001b[0;34m)\u001b[0m\u001b[0;34m\u001b[0m\u001b[0;34m\u001b[0m\u001b[0m\n",
            "\u001b[0;32m/tensorflow-1.15.2/python3.7/tensorflow_core/python/client/session.py\u001b[0m in \u001b[0;36m_run\u001b[0;34m(self, handle, fetches, feed_dict, options, run_metadata)\u001b[0m\n\u001b[1;32m   1178\u001b[0m     \u001b[0;32mif\u001b[0m \u001b[0mfinal_fetches\u001b[0m \u001b[0;32mor\u001b[0m \u001b[0mfinal_targets\u001b[0m \u001b[0;32mor\u001b[0m \u001b[0;34m(\u001b[0m\u001b[0mhandle\u001b[0m \u001b[0;32mand\u001b[0m \u001b[0mfeed_dict_tensor\u001b[0m\u001b[0;34m)\u001b[0m\u001b[0;34m:\u001b[0m\u001b[0;34m\u001b[0m\u001b[0;34m\u001b[0m\u001b[0m\n\u001b[1;32m   1179\u001b[0m       results = self._do_run(handle, final_targets, final_fetches,\n\u001b[0;32m-> 1180\u001b[0;31m                              feed_dict_tensor, options, run_metadata)\n\u001b[0m\u001b[1;32m   1181\u001b[0m     \u001b[0;32melse\u001b[0m\u001b[0;34m:\u001b[0m\u001b[0;34m\u001b[0m\u001b[0;34m\u001b[0m\u001b[0m\n\u001b[1;32m   1182\u001b[0m       \u001b[0mresults\u001b[0m \u001b[0;34m=\u001b[0m \u001b[0;34m[\u001b[0m\u001b[0;34m]\u001b[0m\u001b[0;34m\u001b[0m\u001b[0;34m\u001b[0m\u001b[0m\n",
            "\u001b[0;32m/tensorflow-1.15.2/python3.7/tensorflow_core/python/client/session.py\u001b[0m in \u001b[0;36m_do_run\u001b[0;34m(self, handle, target_list, fetch_list, feed_dict, options, run_metadata)\u001b[0m\n\u001b[1;32m   1357\u001b[0m     \u001b[0;32mif\u001b[0m \u001b[0mhandle\u001b[0m \u001b[0;32mis\u001b[0m \u001b[0;32mNone\u001b[0m\u001b[0;34m:\u001b[0m\u001b[0;34m\u001b[0m\u001b[0;34m\u001b[0m\u001b[0m\n\u001b[1;32m   1358\u001b[0m       return self._do_call(_run_fn, feeds, fetches, targets, options,\n\u001b[0;32m-> 1359\u001b[0;31m                            run_metadata)\n\u001b[0m\u001b[1;32m   1360\u001b[0m     \u001b[0;32melse\u001b[0m\u001b[0;34m:\u001b[0m\u001b[0;34m\u001b[0m\u001b[0;34m\u001b[0m\u001b[0m\n\u001b[1;32m   1361\u001b[0m       \u001b[0;32mreturn\u001b[0m \u001b[0mself\u001b[0m\u001b[0;34m.\u001b[0m\u001b[0m_do_call\u001b[0m\u001b[0;34m(\u001b[0m\u001b[0m_prun_fn\u001b[0m\u001b[0;34m,\u001b[0m \u001b[0mhandle\u001b[0m\u001b[0;34m,\u001b[0m \u001b[0mfeeds\u001b[0m\u001b[0;34m,\u001b[0m \u001b[0mfetches\u001b[0m\u001b[0;34m)\u001b[0m\u001b[0;34m\u001b[0m\u001b[0;34m\u001b[0m\u001b[0m\n",
            "\u001b[0;32m/tensorflow-1.15.2/python3.7/tensorflow_core/python/client/session.py\u001b[0m in \u001b[0;36m_do_call\u001b[0;34m(self, fn, *args)\u001b[0m\n\u001b[1;32m   1363\u001b[0m   \u001b[0;32mdef\u001b[0m \u001b[0m_do_call\u001b[0m\u001b[0;34m(\u001b[0m\u001b[0mself\u001b[0m\u001b[0;34m,\u001b[0m \u001b[0mfn\u001b[0m\u001b[0;34m,\u001b[0m \u001b[0;34m*\u001b[0m\u001b[0margs\u001b[0m\u001b[0;34m)\u001b[0m\u001b[0;34m:\u001b[0m\u001b[0;34m\u001b[0m\u001b[0;34m\u001b[0m\u001b[0m\n\u001b[1;32m   1364\u001b[0m     \u001b[0;32mtry\u001b[0m\u001b[0;34m:\u001b[0m\u001b[0;34m\u001b[0m\u001b[0;34m\u001b[0m\u001b[0m\n\u001b[0;32m-> 1365\u001b[0;31m       \u001b[0;32mreturn\u001b[0m \u001b[0mfn\u001b[0m\u001b[0;34m(\u001b[0m\u001b[0;34m*\u001b[0m\u001b[0margs\u001b[0m\u001b[0;34m)\u001b[0m\u001b[0;34m\u001b[0m\u001b[0;34m\u001b[0m\u001b[0m\n\u001b[0m\u001b[1;32m   1366\u001b[0m     \u001b[0;32mexcept\u001b[0m \u001b[0merrors\u001b[0m\u001b[0;34m.\u001b[0m\u001b[0mOpError\u001b[0m \u001b[0;32mas\u001b[0m \u001b[0me\u001b[0m\u001b[0;34m:\u001b[0m\u001b[0;34m\u001b[0m\u001b[0;34m\u001b[0m\u001b[0m\n\u001b[1;32m   1367\u001b[0m       \u001b[0mmessage\u001b[0m \u001b[0;34m=\u001b[0m \u001b[0mcompat\u001b[0m\u001b[0;34m.\u001b[0m\u001b[0mas_text\u001b[0m\u001b[0;34m(\u001b[0m\u001b[0me\u001b[0m\u001b[0;34m.\u001b[0m\u001b[0mmessage\u001b[0m\u001b[0;34m)\u001b[0m\u001b[0;34m\u001b[0m\u001b[0;34m\u001b[0m\u001b[0m\n",
            "\u001b[0;32m/tensorflow-1.15.2/python3.7/tensorflow_core/python/client/session.py\u001b[0m in \u001b[0;36m_run_fn\u001b[0;34m(feed_dict, fetch_list, target_list, options, run_metadata)\u001b[0m\n\u001b[1;32m   1348\u001b[0m       \u001b[0mself\u001b[0m\u001b[0;34m.\u001b[0m\u001b[0m_extend_graph\u001b[0m\u001b[0;34m(\u001b[0m\u001b[0;34m)\u001b[0m\u001b[0;34m\u001b[0m\u001b[0;34m\u001b[0m\u001b[0m\n\u001b[1;32m   1349\u001b[0m       return self._call_tf_sessionrun(options, feed_dict, fetch_list,\n\u001b[0;32m-> 1350\u001b[0;31m                                       target_list, run_metadata)\n\u001b[0m\u001b[1;32m   1351\u001b[0m \u001b[0;34m\u001b[0m\u001b[0m\n\u001b[1;32m   1352\u001b[0m     \u001b[0;32mdef\u001b[0m \u001b[0m_prun_fn\u001b[0m\u001b[0;34m(\u001b[0m\u001b[0mhandle\u001b[0m\u001b[0;34m,\u001b[0m \u001b[0mfeed_dict\u001b[0m\u001b[0;34m,\u001b[0m \u001b[0mfetch_list\u001b[0m\u001b[0;34m)\u001b[0m\u001b[0;34m:\u001b[0m\u001b[0;34m\u001b[0m\u001b[0;34m\u001b[0m\u001b[0m\n",
            "\u001b[0;32m/tensorflow-1.15.2/python3.7/tensorflow_core/python/client/session.py\u001b[0m in \u001b[0;36m_call_tf_sessionrun\u001b[0;34m(self, options, feed_dict, fetch_list, target_list, run_metadata)\u001b[0m\n\u001b[1;32m   1441\u001b[0m     return tf_session.TF_SessionRun_wrapper(self._session, options, feed_dict,\n\u001b[1;32m   1442\u001b[0m                                             \u001b[0mfetch_list\u001b[0m\u001b[0;34m,\u001b[0m \u001b[0mtarget_list\u001b[0m\u001b[0;34m,\u001b[0m\u001b[0;34m\u001b[0m\u001b[0;34m\u001b[0m\u001b[0m\n\u001b[0;32m-> 1443\u001b[0;31m                                             run_metadata)\n\u001b[0m\u001b[1;32m   1444\u001b[0m \u001b[0;34m\u001b[0m\u001b[0m\n\u001b[1;32m   1445\u001b[0m   \u001b[0;32mdef\u001b[0m \u001b[0m_call_tf_sessionprun\u001b[0m\u001b[0;34m(\u001b[0m\u001b[0mself\u001b[0m\u001b[0;34m,\u001b[0m \u001b[0mhandle\u001b[0m\u001b[0;34m,\u001b[0m \u001b[0mfeed_dict\u001b[0m\u001b[0;34m,\u001b[0m \u001b[0mfetch_list\u001b[0m\u001b[0;34m)\u001b[0m\u001b[0;34m:\u001b[0m\u001b[0;34m\u001b[0m\u001b[0;34m\u001b[0m\u001b[0m\n",
            "\u001b[0;31mKeyboardInterrupt\u001b[0m: "
          ]
        }
      ]
    },
    {
      "cell_type": "code",
      "metadata": {
        "id": "x4iuqczYK2ft"
      },
      "source": [
        ""
      ],
      "execution_count": null,
      "outputs": []
    }
  ]
}