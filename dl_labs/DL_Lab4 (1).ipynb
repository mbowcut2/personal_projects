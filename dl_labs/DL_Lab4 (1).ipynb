{
 "cells": [
  {
   "cell_type": "markdown",
   "metadata": {
    "id": "tpnN_XZwq_vc"
   },
   "source": [
    "<a href=\"https://colab.research.google.com/github/wingated/cs474_labs_f2019/blob/master/DL_Lab4.ipynb\" target=\"_parent\"><img src=\"https://colab.research.google.com/assets/colab-badge.svg\" alt=\"Open In Colab\"/></a>"
   ]
  },
  {
   "cell_type": "markdown",
   "metadata": {
    "id": "view-in-github"
   },
   "source": [
    "# Lab 4: Cancer Detection\n",
    "\n",
    "## Objective\n",
    "* To build a dense prediction model\n",
    "* To begin reading current papers in DNN research\n",
    "\n",
    "## Deliverable\n",
    "For this lab, you will turn in a notebook that describes your efforts at creating\n",
    "a pytorch radiologist. Your final deliverable is a notebook that has (1) a deep network,\n",
    "(2) method of calculating accuracy, \n",
    "(3) images that show the dense prediction produced by your network on the pos_test_000072.png image (index 172 in the validation dataset).\n",
    "This is an image in the test set that your network will not have seen before.\n",
    "This image, and the ground truth labeling, is shown below.\n",
    "(And is contained in the downloadable dataset below).\n",
    "\n",
    "![](http://liftothers.org/dokuwiki/lib/exe/fetch.php?w=200&tok=a8ac31&media=cs501r_f2016:pos_test_000072_output.png)\n",
    "<img src=\"http://liftothers.org/dokuwiki/lib/exe/fetch.php?media=cs501r_f2016:pos_test_000072.png\" width=\"200\">\n",
    "\n",
    "\n",
    "## Grading standards\n",
    "Your notebook will be graded on the following:\n",
    "* 40% Proper design, creation and debugging of a dense prediction network\n",
    "* 20% Proper implementation of train/test set accuracy measure\n",
    "* 20% Tidy visualizations of loss of your dense predictor during training\n",
    "* 20% Test image output\n",
    "\n",
    "\n",
    "## Data set\n",
    "The data is given as a set of 1024×1024 PNG images. Each input image (in \n",
    "the ```inputs``` directory) is an RGB image of a section of tissue,\n",
    "and there a file with the same name (in the ```outputs``` directory) \n",
    "that has a dense labeling of whether or not a section of tissue is cancerous\n",
    "(white pixels mean “cancerous”, while black pixels mean “not cancerous”).\n",
    "\n",
    "The data has been pre-split for you into test and training splits.\n",
    "Filenames also reflect whether or not the image has any cancer at all \n",
    "(files starting with ```pos_``` have some cancerous pixels, while files \n",
    "starting with ```neg_``` have no cancer anywhere).\n",
    "All of the data is hand-labeled, so the dataset is not very large.\n",
    "That means that overfitting is a real possibility.\n",
    "\n",
    "## Description\n",
    "For a video including some tips and tricks that can help with this lab: [https://youtu.be/Ms19kgK_D8w](https://youtu.be/Ms19kgK_D8w)\n",
    "For this lab, you will implement a virtual radiologist.\n",
    "You are given images of possibly cancerous tissue samples, \n",
    "and you must build a detector that identifies where in the tissue cancer may reside.\n",
    "\n",
    "---\n",
    "\n",
    "### Part 0\n",
    "Watch and follow video tutorial:\n",
    "\n",
    "https://youtu.be/Ms19kgK_D8w\n",
    "\n",
    "**TODO:**\n",
    "\n",
    "* Watch tutorial\n",
    "\n",
    "**DONE:**\n",
    "\n",
    "### Part 1\n",
    "Implement a dense predictor\n",
    "\n",
    "In previous labs and lectures, we have talked about DNNs that classify an \n",
    "entire image as a single class. Here, however, we are interested in a more nuanced classification: \n",
    "given an input image, we would like to identify each pixel that is possibly cancerous. \n",
    "That means that instead of a single output, your network should output an “image”, \n",
    "where each output pixel of your network represents the probability that a pixel is cancerous.\n",
    "\n",
    "___\n",
    "\n",
    "Implement your network topology\n",
    "\n",
    "Use the “Deep Convolution U-Net” from this paper: [(U-Net: Convolutional Networks for Biomedical Image Segmentation)](https://arxiv.org/pdf/1505.04597.pdf) \n",
    "\n",
    "![(Figure 1)](https://lh3.googleusercontent.com/qnHiB3B2KRxC3NjiSDtY08_DgDGTDsHcO6PP53oNRuct-p2QXCR-gyLkDveO850F2tTAhIOPC5Ha06NP9xq1JPsVAHlQ5UXA5V-9zkUrJHGhP_MNHFoRGnjBz1vn1p8P2rMWhlAb6HQ=w2400)\n",
    "\n",
    "You should use existing pytorch functions (not your own Conv2D module), such as ```nn.Conv2d``` and ```nn.CrossEntropyLoss```;\n",
    "you will also need the pytorch function ```torch.cat``` and ```nn.ConvTranspose2d```\n",
    "\n",
    "```torch.cat``` allows you to concatenate tensors.\n",
    "```nn.ConvTranspose2d``` is the opposite of ```nn.Conv2d```.\n",
    "It is used to bring an image from low res to higher res.\n",
    "[This blog](https://towardsdatascience.com/up-sampling-with-transposed-convolution-9ae4f2df52d0) should help you understand this function in detail.\n",
    "\n",
    "You can simplify the implementation of this lab by padding the feature maps as they pass through each convolution. This will make the concatenation process easier, though this is technically a departure from the cropping technique outlined in the orginal U-Net paper. \n",
    "\n",
    "Note that the simplest network you could implement (with all the desired properties)\n",
    "is just a single convolution layer with two filters and no relu! \n",
    "Why is that? (of course it wouldn't work very well!)\n",
    "\n",
    "**TODO:**\n",
    "\n",
    "* Understand the U-Net architecture\n",
    "* Understand concatenation of inputs from multiple prior layers\n",
    "* Understand ConvTranspose\n",
    "* Answer Question / Reflect on simplest network with the desired properties\n",
    "\n",
    "**DONE:**\n",
    "\n",
    "\n",
    "___\n",
    "The intention of this lab is to learn how to make deep neural nets. We'll help you with the implementation of Dataset.\n",
    "This code will download the dataset for you so that you are ready to use it and focus on network\n",
    "implementation, losses and accuracies."
   ]
  },
  {
   "cell_type": "markdown",
   "metadata": {
    "id": "hOq7u2d4v7tF"
   },
   "source": [
    "Here's an example architexture: https://github.com/milesial/Pytorch-UNet/blob/master/unet/unet_parts.py\n"
   ]
  },
  {
   "cell_type": "code",
   "execution_count": 1,
   "metadata": {
    "colab": {
     "base_uri": "https://localhost:8080/"
    },
    "id": "wQOefmcZVgTl",
    "outputId": "57dfa28b-ded0-4ce7-979d-20a8cc0e6a16",
    "pycharm": {
     "is_executing": false
    }
   },
   "outputs": [
    {
     "name": "stdout",
     "output_type": "stream",
     "text": [
      "Requirement already satisfied: torch in /usr/local/lib/python3.7/dist-packages (1.9.0+cu102)\n",
      "Requirement already satisfied: typing-extensions in /usr/local/lib/python3.7/dist-packages (from torch) (3.7.4.3)\n",
      "Requirement already satisfied: torchvision in /usr/local/lib/python3.7/dist-packages (0.10.0+cu102)\n",
      "Requirement already satisfied: numpy in /usr/local/lib/python3.7/dist-packages (from torchvision) (1.19.5)\n",
      "Requirement already satisfied: pillow>=5.3.0 in /usr/local/lib/python3.7/dist-packages (from torchvision) (7.1.2)\n",
      "Requirement already satisfied: torch==1.9.0 in /usr/local/lib/python3.7/dist-packages (from torchvision) (1.9.0+cu102)\n",
      "Requirement already satisfied: typing-extensions in /usr/local/lib/python3.7/dist-packages (from torch==1.9.0->torchvision) (3.7.4.3)\n",
      "Requirement already satisfied: tqdm in /usr/local/lib/python3.7/dist-packages (4.62.3)\n"
     ]
    }
   ],
   "source": [
    "!pip3 install torch\n",
    "!pip3 install torchvision\n",
    "!pip3 install tqdm\n",
    "\n",
    "import torch\n",
    "import torch.nn as nn\n",
    "import torch.nn.functional as F\n",
    "import torch.optim as optim\n",
    "from torch.utils.data import Dataset, DataLoader\n",
    "import numpy as np\n",
    "import matplotlib.pyplot as plt\n",
    "from torchvision import transforms, utils, datasets\n",
    "from tqdm import tqdm\n",
    "from torch.nn.parameter import Parameter\n",
    "import pdb\n",
    "import torchvision\n",
    "import os\n",
    "import gzip\n",
    "import tarfile\n",
    "import gc\n",
    "from IPython.core.ultratb import AutoFormattedTB\n",
    "__ITB__ = AutoFormattedTB(mode = 'Verbose',color_scheme='LightBg', tb_offset = 1)\n",
    "\n",
    "assert torch.cuda.is_available(), \"You need to request a GPU from Runtime > Change Runtime\""
   ]
  },
  {
   "cell_type": "markdown",
   "metadata": {
    "id": "49quyvIJvTq8"
   },
   "source": [
    "WARNING: You may run into an error that says \"RuntimeError: CUDA out of memory.\"\n",
    "\n",
    "In this case, the memory required for your batch is larger than what the GPU is capable of. You can solve this problem by adjusting the image size or the batch size and then restarting the runtime. "
   ]
  },
  {
   "cell_type": "code",
   "execution_count": 26,
   "metadata": {
    "id": "ElM8XXOe1JhC"
   },
   "outputs": [],
   "source": [
    "import time"
   ]
  },
  {
   "cell_type": "code",
   "execution_count": 2,
   "metadata": {
    "id": "Il_53HLSWPTY"
   },
   "outputs": [],
   "source": [
    "class CancerDataset(Dataset):\n",
    "  def __init__(self, root, download=True, size=256, train=True):\n",
    "    if download and not os.path.exists(os.path.join(root, 'cancer_data')):\n",
    "      datasets.utils.download_url('http://liftothers.org/cancer_data.tar.gz', root, 'cancer_data.tar.gz', None)\n",
    "      self.extract_gzip(os.path.join(root, 'cancer_data.tar.gz'))\n",
    "      self.extract_tar(os.path.join(root, 'cancer_data.tar'))\n",
    "    \n",
    "    postfix = 'train' if train else 'test'\n",
    "    root = os.path.join(root, 'cancer_data', 'cancer_data')\n",
    "    self.dataset_folder = torchvision.datasets.ImageFolder(os.path.join(root, 'inputs_' + postfix) ,transform = transforms.Compose([transforms.Resize(size),transforms.ToTensor()]))\n",
    "    self.label_folder = torchvision.datasets.ImageFolder(os.path.join(root, 'outputs_' + postfix) ,transform = transforms.Compose([transforms.Resize(size),transforms.ToTensor()]))\n",
    "\n",
    "  @staticmethod\n",
    "  def extract_gzip(gzip_path, remove_finished=False):\n",
    "    print('Extracting {}'.format(gzip_path))\n",
    "    with open(gzip_path.replace('.gz', ''), 'wb') as out_f, gzip.GzipFile(gzip_path) as zip_f:\n",
    "      out_f.write(zip_f.read())\n",
    "    if remove_finished:\n",
    "      os.unlink(gzip_path)\n",
    "  \n",
    "  @staticmethod\n",
    "  def extract_tar(tar_path):\n",
    "    print('Untarring {}'.format(tar_path))\n",
    "    z = tarfile.TarFile(tar_path)\n",
    "    z.extractall(tar_path.replace('.tar', ''))\n",
    "\n",
    "  def __getitem__(self,index):\n",
    "    img = self.dataset_folder[index]\n",
    "    label = self.label_folder[index]\n",
    "    return img[0],label[0][0]\n",
    "  \n",
    "  def __len__(self):\n",
    "    return len(self.dataset_folder)"
   ]
  },
  {
   "cell_type": "code",
   "execution_count": 3,
   "metadata": {
    "id": "XPgrP88aOtfy"
   },
   "outputs": [],
   "source": [
    "# You'll probably want a function or something to test input / output sizes of the ConvTranspose2d layer\n"
   ]
  },
  {
   "cell_type": "code",
   "execution_count": 52,
   "metadata": {
    "id": "jq22IyKanxo_"
   },
   "outputs": [],
   "source": [
    "# Since you will be using the output of one network in two places(convolution and maxpooling),\n",
    "# you can't use nn.Sequential.\n",
    "# Instead you will write up the network like normal variable assignment as the example shown below:\n",
    "# You are welcome (and encouraged) to use the built-in batch normalization and dropout layer.\n",
    "\n",
    "# TODO: You need to change this to fit the UNet structure!!!\n",
    "class CancerDetection(nn.Module):\n",
    "  def __init__(self): # CancerDetection constructor\n",
    "    # You always need to use super to call nn.Module's init function when creating a class that inherits nn.Module.\n",
    "    super(CancerDetection, self).__init__()\n",
    "    \n",
    "    # Always initialize your layers in the init function.\n",
    "   \n",
    "    self.conv1 = nn.Conv2d(3,64,kernel_size=3, stride=1, padding=1)\n",
    "    self.conv2 = nn.Conv2d(64,64,kernel_size=3, stride=1, padding=1)\n",
    "    self.conv3 = nn.Conv2d(64,128,kernel_size=3, stride=1, padding=1)\n",
    "    self.conv4 = nn.Conv2d(128,128,kernel_size=3, stride=1, padding=1)\n",
    "    self.conv5 = nn.Conv2d(128,256,kernel_size=3, stride=1, padding=1)\n",
    "    self.conv6 = nn.Conv2d(256,256,kernel_size=3, stride=1, padding=1)\n",
    "    self.conv7 = nn.Conv2d(256,512,kernel_size=3, stride=1, padding=1)\n",
    "    self.conv8 = nn.Conv2d(512,512,kernel_size=3, stride=1, padding=1)\n",
    "    self.conv9 = nn.Conv2d(512,1024,kernel_size=3, stride=1, padding=1)\n",
    "    self.conv10 = nn.Conv2d(1024,1024,kernel_size=3, stride=1, padding=1)\n",
    "    self.conv11 = nn.Conv2d(1024,512,kernel_size=3, stride=1, padding=1)\n",
    "    self.conv12 = nn.Conv2d(512,512,kernel_size=3, stride=1, padding=1)\n",
    "    self.conv13 = nn.Conv2d(512,256,kernel_size=3, stride=1, padding=1)\n",
    "    self.conv14 = nn.Conv2d(256,256,kernel_size=3, stride=1, padding=1)\n",
    "    self.conv15 = nn.Conv2d(256,128,kernel_size=3, stride=1, padding=1)\n",
    "    self.conv16 = nn.Conv2d(128,128,kernel_size=3, stride=1, padding=1)\n",
    "    self.conv17 = nn.Conv2d(128,64,kernel_size=3, stride=1, padding=1)\n",
    "    self.conv18 = nn.Conv2d(64,64,kernel_size=3, stride=1, padding=1)\n",
    "    self.conv19 = nn.Conv2d(64,2,kernel_size=3, stride=1, padding=1)\n",
    "\n",
    "    \n",
    "\n",
    "    self.up1 = nn.ConvTranspose2d(1024, 512, 2, stride=2)\n",
    "    self.up2 = nn.ConvTranspose2d(512, 256, 2, stride=2)\n",
    "    self.up3 = nn.ConvTranspose2d(256, 128, 2, stride=2)\n",
    "    self.up4 = nn.ConvTranspose2d(128, 64, 2, stride=2)\n",
    "\n",
    "\n",
    "\n",
    "    \n",
    " \n",
    "  def forward(self, input): # nn.Module sets up a hook that calls forward when you \"call\" the module object: net(x) calls net.forward(x)\n",
    "    n, c, h, w = input.size()\n",
    "\n",
    "    o1 = F.relu(self.conv1(input))\n",
    "    o2 = F.relu(self.conv2(o1)) # cat w/ conv17\n",
    "    o3 = F.relu(self.conv3(F.max_pool2d(o2,kernel_size=2)))\n",
    "    o4 = F.relu(self.conv4(o3)) # cat w/ conv15\n",
    "    o5 = F.relu(self.conv5(F.max_pool2d(o4,kernel_size=2)))\n",
    "    o6 = F.relu(self.conv6(o5)) # cat w/ conv13\n",
    "    o7 = F.relu(self.conv7(F.max_pool2d(o6,kernel_size=2)))\n",
    "    o8 = F.relu(self.conv8(o7)) # cat w/ conv11\n",
    "    o9 = F.relu(self.conv9(F.max_pool2d(o8,kernel_size=2)))\n",
    "    o10 = F.relu(self.conv10(o9))\n",
    "    u1 = self.up1(o10)\n",
    "    o11 = F.relu(self.conv11(torch.cat((u1,o8),dim=1)))\n",
    "    o12 = F.relu(self.conv12(o11))\n",
    "    u2 = self.up2(o12)\n",
    "    o13 = F.relu(self.conv13(torch.cat((u2,o6),dim=1)))\n",
    "    o14 = F.relu(self.conv14(o13))\n",
    "    u3 = self.up3(o14)\n",
    "    o15 = F.relu(self.conv15(torch.cat((u3,o4),dim=1)))\n",
    "    o16 = F.relu(self.conv16(o15))\n",
    "    u4 = self.up4(o16)\n",
    "    o17 = F.relu(self.conv17(torch.cat((u4,o2),dim=1)))\n",
    "    o18 = F.relu(self.conv18(o17))\n",
    "    o19 = F.relu(self.conv19(o18))\n",
    "\n",
    "\n",
    "\n",
    "    return o19.float()\n",
    "\n",
    "  \n",
    "\n",
    "\n"
   ]
  },
  {
   "cell_type": "code",
   "execution_count": 12,
   "metadata": {
    "colab": {
     "base_uri": "https://localhost:8080/"
    },
    "id": "NAjagHCdGNAh",
    "outputId": "621062ee-8866-4e12-a8ec-c54464e68ce6"
   },
   "outputs": [
    {
     "name": "stdout",
     "output_type": "stream",
     "text": [
      "0.0\n"
     ]
    }
   ],
   "source": [
    "# Create your datasets, dataloaders and neural network as you have before\n",
    "# Tip: Pass shuffle=True to constructor for training dataloader to automatically shuffle training data each epoch. You can shuffle the validation loader, but you don't need to.\n",
    "train_dataset = CancerDataset('/tmp/cancer', train=True)\n",
    "val_dataset = CancerDataset('/tmp/cancer', train=False)\n",
    "\n",
    "\n",
    "gc.collect()\n",
    "print(torch.cuda.memory_allocated() / 1e9)"
   ]
  },
  {
   "cell_type": "code",
   "execution_count": 226,
   "metadata": {
    "colab": {
     "base_uri": "https://localhost:8080/"
    },
    "id": "RkieTbwlYWPS",
    "outputId": "a90ee82d-b072-4fd0-9019-a77bc1a0cd38"
   },
   "outputs": [
    {
     "name": "stderr",
     "output_type": "stream",
     "text": []
    }
   ],
   "source": [
    "# This is what was talked about in the video for memory management\n",
    "\n",
    "def scope():\n",
    "  try:\n",
    "    #your code for calling dataset and dataloader\n",
    "    \n",
    "    \n",
    "    #for epochs:\n",
    "    # Call your model, figure out loss and accuracy\n",
    "    model = CancerDetection()\n",
    "    model.cuda()\n",
    "    objective = nn.CrossEntropyLoss()\n",
    "    optimizer = optim.Adam(model.parameters(), lr=1e-4)\n",
    "    train_loader = DataLoader(train_dataset,\n",
    "                              batch_size=5,\n",
    "                              pin_memory=True,\n",
    "                              num_workers=2,\n",
    "                              shuffle=True)\n",
    "    val_loader = DataLoader(val_dataset,\n",
    "                            batch_size=5,\n",
    "                            num_workers=2,\n",
    "                            pin_memory=True)\n",
    "    \n",
    "    accuracies = []\n",
    "    losses = []\n",
    "    validations = []\n",
    "    val_accuracies = []\n",
    "    preds = []\n",
    "    #batch_time = []\n",
    "    #val_time = []\n",
    "\n",
    "    for epoch in range(3):\n",
    "      loop = tqdm(total=len(train_loader), position=0, leave=False)\n",
    "\n",
    "      for batch, (x, y_truth) in enumerate(train_loader):\n",
    "        y_truth = y_truth.long()\n",
    "        x = x.cuda()\n",
    "        y_truth = y_truth.cuda()\n",
    "\n",
    "\n",
    "        optimizer.zero_grad()\n",
    "        y_hat = model(x)\n",
    "        # print(y_hat.type(), y_truth.type())\n",
    "\n",
    "        loss = objective(y_hat, y_truth)\n",
    "\n",
    "        loss.backward()\n",
    "\n",
    "        losses.append(loss.item()) \n",
    "        # batch_time.append(time.time())\n",
    "        accuracy = (torch.softmax(y_hat, 1).argmax(1) == y_truth).float().mean()\n",
    "        accuracies.append(accuracy)\n",
    "        mem = torch.cuda.memory_allocated() / 1e9\n",
    "        loop.set_description('epoch:{}, loss:{:.4f}, accuracy:{:.3f}, mem:{:.2f}'.format(epoch, loss, accuracy, mem))\n",
    "        loop.update(1)\n",
    "\n",
    "        optimizer.step()\n",
    "\n",
    "        if batch %500 == 0:\n",
    "          \n",
    "          vals = []\n",
    "          accs = []\n",
    "          for x, y in val_loader:\n",
    "            y = y.long()\n",
    "            x,y = x.cuda(), y.cuda()\n",
    "            y_hat_val = model(x)\n",
    "            \n",
    "            vals.append(objective(y_hat_val,y).item())\n",
    "            val = np.mean(vals)\n",
    "            try:\n",
    "              acc = np.mean((torch.softmax(y_hat_val, 1).argmax(1) == y.long()).float()) #.item()\n",
    "              accs.append(acc)\n",
    "\n",
    "            except:\n",
    "              pass\n",
    "            \n",
    "          \n",
    "          # print(accs[0].size(),accs[-1].size())\n",
    "\n",
    "          # mean_acc = np.mean(accs)\n",
    "          mean_val = np.mean(vals)\n",
    "          validations.append((len(losses),val))\n",
    "          #val_accuracies.append((len(losses),acc))\n",
    "          \"\"\"\n",
    "          val = np.mean([objective(model(x.cuda()), y.long().cuda()).item()\n",
    "          for x, y in val_loader])\n",
    "          validations.append((len(losses),val))\n",
    "          val_accuracy = np.mean([(torch.softmax(model(x.cuda()), 1).argmax(1) == y.cuda()).float().mean() for x, y in val_loader])\n",
    "          val_accuracies.append((len(losses),val_accuracy))\n",
    "          \"\"\"\n",
    "          # val_time.append(time.time())\n",
    "      # gc.collect()\n",
    "      \n",
    "\n",
    "      loop.close()\n",
    "      gc.collect()\n",
    "    return validations, accuracies, losses, model, preds\n",
    "  except:\n",
    "    __ITB__()    \n",
    "validations, accuracies, losses, model, preds = scope()\n"
   ]
  },
  {
   "cell_type": "code",
   "execution_count": 54,
   "metadata": {
    "colab": {
     "base_uri": "https://localhost:8080/"
    },
    "id": "s-E25smkn_aj",
    "outputId": "3f62aae3-563f-4e91-883c-a58f96871de2"
   },
   "outputs": [
    {
     "name": "stdout",
     "output_type": "stream",
     "text": [
      "0.0\n"
     ]
    }
   ],
   "source": []
  },
  {
   "cell_type": "markdown",
   "metadata": {
    "id": "1LTqy9N9Bwfu"
   },
   "source": [
    "I tried part 3, but the code messed up my training. oof.\n"
   ]
  },
  {
   "cell_type": "code",
   "execution_count": null,
   "metadata": {
    "id": "HButfHb4p6Zk"
   },
   "outputs": [],
   "source": []
  },
  {
   "cell_type": "markdown",
   "metadata": {
    "id": "_Q8kmeVpqIXZ"
   },
   "source": [
    "How to save memory: \n",
    "\n",
    "\n",
    "*   model.cuda() not model = model.cuda()\n",
    "*   force gc to collect: gc.collect()\n",
    "*   unhandled exceptions cause memory leak -- try/except block the model/dataset creation -- in except \n",
    "*   put it all in a function scope() which will help limit teh amount of memory that persists \n",
    "\n",
    "\n",
    "\n",
    "\n"
   ]
  },
  {
   "cell_type": "code",
   "execution_count": null,
   "metadata": {
    "id": "86pL8N3bp6iC"
   },
   "outputs": [],
   "source": [
    "except:\n",
    "  __ITB__()"
   ]
  },
  {
   "cell_type": "code",
   "execution_count": 220,
   "metadata": {
    "colab": {
     "base_uri": "https://localhost:8080/"
    },
    "id": "BPTMOz3Kp6qI",
    "outputId": "06ec5317-adcd-4c19-b102-9e350980d9ea"
   },
   "outputs": [
    {
     "data": {
      "text/plain": [
       "5"
      ]
     },
     "execution_count": 220,
     "metadata": {},
     "output_type": "execute_result"
    }
   ],
   "source": [
    "len(preds)"
   ]
  },
  {
   "cell_type": "code",
   "execution_count": 221,
   "metadata": {
    "colab": {
     "base_uri": "https://localhost:8080/"
    },
    "id": "0YERTnYsp6yI",
    "outputId": "584a0450-69ee-4bb5-aba3-2d3ba2d0e248"
   },
   "outputs": [
    {
     "data": {
      "text/plain": [
       "[tensor([[[0, 0, 0,  ..., 0, 0, 0],\n",
       "          [0, 0, 0,  ..., 0, 0, 0],\n",
       "          [0, 0, 0,  ..., 0, 0, 0],\n",
       "          ...,\n",
       "          [0, 0, 0,  ..., 0, 0, 0],\n",
       "          [0, 0, 0,  ..., 0, 0, 0],\n",
       "          [0, 0, 0,  ..., 0, 0, 0]]]), tensor([[[0, 0, 0,  ..., 0, 0, 0],\n",
       "          [0, 0, 0,  ..., 0, 0, 0],\n",
       "          [0, 0, 0,  ..., 0, 0, 0],\n",
       "          ...,\n",
       "          [0, 0, 0,  ..., 0, 0, 0],\n",
       "          [0, 0, 0,  ..., 0, 0, 0],\n",
       "          [0, 0, 0,  ..., 0, 0, 0]]]), tensor([[[0, 0, 0,  ..., 0, 0, 0],\n",
       "          [0, 0, 0,  ..., 0, 0, 0],\n",
       "          [0, 0, 0,  ..., 0, 0, 0],\n",
       "          ...,\n",
       "          [0, 0, 0,  ..., 0, 0, 0],\n",
       "          [0, 0, 0,  ..., 0, 0, 0],\n",
       "          [0, 0, 0,  ..., 0, 0, 0]]]), tensor([[[0, 0, 0,  ..., 0, 0, 0],\n",
       "          [0, 0, 0,  ..., 0, 0, 0],\n",
       "          [0, 0, 0,  ..., 0, 0, 0],\n",
       "          ...,\n",
       "          [0, 0, 0,  ..., 0, 0, 0],\n",
       "          [0, 0, 0,  ..., 0, 0, 0],\n",
       "          [0, 0, 0,  ..., 0, 0, 0]]]), tensor([[[0, 0, 0,  ..., 0, 0, 0],\n",
       "          [0, 0, 0,  ..., 0, 0, 0],\n",
       "          [0, 0, 0,  ..., 0, 0, 0],\n",
       "          ...,\n",
       "          [0, 0, 0,  ..., 0, 0, 0],\n",
       "          [0, 0, 0,  ..., 0, 0, 0],\n",
       "          [0, 0, 0,  ..., 0, 0, 0]]])]"
      ]
     },
     "execution_count": 221,
     "metadata": {},
     "output_type": "execute_result"
    }
   ],
   "source": [
    "preds"
   ]
  },
  {
   "cell_type": "markdown",
   "metadata": {
    "id": "CZ062Jv1jIIu"
   },
   "source": [
    "\n",
    "___\n",
    "\n",
    "### Part 2\n",
    "\n",
    "Plot performance over time\n",
    "\n",
    "Please generate two plots:\n",
    "\n",
    " One that shows loss on the training and validation set as a function of training time. \n",
    "\n",
    " One that shows accuracy on the training and validation set as a function of training time. \n",
    "\n",
    " Make sure your axes are labeled!\n",
    "\n",
    "**TODO:**\n",
    "\n",
    "* Plot training/validation loss as function of training time (not epochs)\n",
    "* Plot training/validation accuracy as function of training time (not epochs)\n",
    "\n",
    "**DONE:**\n",
    "\n"
   ]
  },
  {
   "cell_type": "code",
   "execution_count": 227,
   "metadata": {
    "colab": {
     "base_uri": "https://localhost:8080/",
     "height": 279
    },
    "id": "mTg1jyIsYVZN",
    "outputId": "060cd746-e4c6-467d-f810-b9a4c1f593f8"
   },
   "outputs": [
    {
     "data": {
      "image/png": "[encoded data removed]",
      "text/plain": [
       "<Figure size 432x288 with 1 Axes>"
      ]
     },
     "metadata": {
      "needs_background": "light"
     },
     "output_type": "display_data"
    }
   ],
   "source": [
    "# Your plotting code here\n",
    "a, b = zip(*validations)\n",
    "plt.plot(losses, label=\"train\")\n",
    "plt.plot(a,b,label=\"val\")\n",
    "plt.xlabel(\"Batch\")\n",
    "plt.ylabel(\"Loss\")\n",
    "plt.legend()\n",
    "plt.show()\n"
   ]
  },
  {
   "cell_type": "code",
   "execution_count": 173,
   "metadata": {
    "colab": {
     "base_uri": "https://localhost:8080/",
     "height": 34
    },
    "id": "QjsFyShpuw5k",
    "outputId": "7f5a7ad0-23bc-4288-cc98-baceb91e3d71"
   },
   "outputs": [
    {
     "data": {
      "text/plain": [
       "<Figure size 432x288 with 0 Axes>"
      ]
     },
     "metadata": {},
     "output_type": "display_data"
    }
   ],
   "source": [
    "plt.savefig(\"test.png\")"
   ]
  },
  {
   "cell_type": "code",
   "execution_count": 108,
   "metadata": {
    "colab": {
     "base_uri": "https://localhost:8080/"
    },
    "id": "Ve-ZZG7TaWhy",
    "outputId": "e47a55f8-e433-44d1-811e-6dd3bfcb185c"
   },
   "outputs": [
    {
     "data": {
      "text/plain": [
       "0.17327271401882172"
      ]
     },
     "execution_count": 108,
     "metadata": {},
     "output_type": "execute_result"
    }
   ],
   "source": [
    "accuracies[0].item()"
   ]
  },
  {
   "cell_type": "code",
   "execution_count": 112,
   "metadata": {
    "colab": {
     "base_uri": "https://localhost:8080/",
     "height": 279
    },
    "id": "bP5ID18LaMUJ",
    "outputId": "3ad10047-865c-4936-bbd0-dc19a2e24b83"
   },
   "outputs": [
    {
     "data": {
      "image/png": "[encoded data removed]",
      "text/plain": [
       "<Figure size 432x288 with 1 Axes>"
      ]
     },
     "metadata": {
      "needs_background": "light"
     },
     "output_type": "display_data"
    }
   ],
   "source": [
    "a = [accuracies[i].item() for i in range(len(accuracies))]\n",
    "\n",
    "plt.plot(a,label=\"Accuracy\")\n",
    "plt.xlabel(\"Batch\")\n",
    "plt.ylabel(\"Accuracy\")\n",
    "# plt.legend()\n",
    "plt.show()"
   ]
  },
  {
   "cell_type": "markdown",
   "metadata": {
    "id": "PGmhKhAjkhOv",
    "nteract": {
     "transient": {
      "deleting": false
     }
    }
   },
   "source": [
    "**NOTE:**\n",
    "\n",
    "Guessing that the pixel is not cancerous every single time will give you an accuracy of ~ 85%.\n",
    "Your trained network should be able to do better than that (but you will not be graded on accuracy).\n",
    "This is the result I got after 1 hour or training.\n",
    "\n",
    "![](http://liftothers.org/dokuwiki/lib/exe/fetch.php?w=400&tok=d23e0b&media=cs501r_f2016:training_accuracy.png)\n",
    "![](http://liftothers.org/dokuwiki/lib/exe/fetch.php?w=400&tok=bb8e3c&media=cs501r_f2016:training_loss.png)"
   ]
  },
  {
   "cell_type": "markdown",
   "metadata": {
    "id": "S4s92S2_jQOG"
   },
   "source": [
    "___\n",
    "\n",
    "### Part 3\n",
    "\n",
    "Generate at least 5 predictions on the pos_test_000072.png image and display them as images. These predictions should be made at a reasonable interval (e.g. every epoch). \n",
    "\n",
    "You can load this image from the file pos_test_000072.png, or you can get it from the dataset object. It is item 172 of the validation dataset.\n",
    "You can print both the data instance (x) and the ground-truth label (y_hat) to see how well your network predicts on that instance.\n",
    "\n",
    "To do this, calculate the output of your trained network on the pos_test_000072.png image,\n",
    "then make a hard decision (cancerous/not-cancerous) for each pixel.\n",
    "The resulting image should be black-and-white, where white pixels represent areas\n",
    "the network considers cancerous.\n",
    "\n",
    "**TODO:**\n",
    "\n",
    "**DONE:**\n",
    "\n"
   ]
  },
  {
   "cell_type": "code",
   "execution_count": 176,
   "metadata": {
    "colab": {
     "base_uri": "https://localhost:8080/"
    },
    "id": "XXfG3wClh8an",
    "outputId": "ef3f5b0e-cd68-4b75-b82e-13b06408ae47",
    "pycharm": {
     "is_executing": false
    }
   },
   "outputs": [
    {
     "name": "stdout",
     "output_type": "stream",
     "text": [
      "(tensor([[[0.9647, 0.9647, 0.9647,  ..., 0.9647, 0.9647, 0.9647],\n",
      "         [0.9647, 0.9647, 0.9647,  ..., 0.9647, 0.9647, 0.9647],\n",
      "         [0.9647, 0.9647, 0.9647,  ..., 0.9647, 0.9647, 0.9647],\n",
      "         ...,\n",
      "         [0.8392, 0.8510, 0.8353,  ..., 0.9569, 0.9647, 0.9647],\n",
      "         [0.8392, 0.8588, 0.8549,  ..., 0.9647, 0.9647, 0.9647],\n",
      "         [0.8314, 0.8549, 0.8667,  ..., 0.9647, 0.9647, 0.9647]],\n",
      "\n",
      "        [[0.9647, 0.9647, 0.9647,  ..., 0.9647, 0.9647, 0.9647],\n",
      "         [0.9647, 0.9647, 0.9647,  ..., 0.9647, 0.9647, 0.9647],\n",
      "         [0.9647, 0.9647, 0.9647,  ..., 0.9647, 0.9647, 0.9647],\n",
      "         ...,\n",
      "         [0.8000, 0.8196, 0.8039,  ..., 0.9647, 0.9647, 0.9647],\n",
      "         [0.8000, 0.8235, 0.8196,  ..., 0.9647, 0.9647, 0.9647],\n",
      "         [0.8000, 0.8275, 0.8392,  ..., 0.9647, 0.9647, 0.9647]],\n",
      "\n",
      "        [[0.9569, 0.9569, 0.9647,  ..., 0.9647, 0.9569, 0.9569],\n",
      "         [0.9569, 0.9569, 0.9647,  ..., 0.9647, 0.9569, 0.9569],\n",
      "         [0.9647, 0.9647, 0.9647,  ..., 0.9647, 0.9569, 0.9569],\n",
      "         ...,\n",
      "         [0.7451, 0.7686, 0.7608,  ..., 0.9569, 0.9647, 0.9647],\n",
      "         [0.7412, 0.7725, 0.7725,  ..., 0.9569, 0.9647, 0.9647],\n",
      "         [0.7647, 0.7882, 0.7961,  ..., 0.9569, 0.9647, 0.9647]]]), tensor([[0., 0., 0.,  ..., 0., 0., 0.],\n",
      "        [0., 0., 0.,  ..., 0., 0., 0.],\n",
      "        [0., 0., 0.,  ..., 0., 0., 0.],\n",
      "        ...,\n",
      "        [0., 0., 0.,  ..., 1., 1., 1.],\n",
      "        [0., 0., 0.,  ..., 1., 1., 1.],\n",
      "        [0., 0., 0.,  ..., 1., 1., 1.]]))\n",
      "torch.Size([3, 256, 256])\n",
      "torch.Size([256, 256])\n"
     ]
    }
   ],
   "source": [
    "# Code for testing prediction on an image\n",
    "print(val_dataset[171])\n",
    "x, target = val_dataset[171]\n",
    "print(x.size())\n",
    "print(target.size())\n",
    "# pred = model(x)\n",
    "\n",
    "# print(pred, target)\n"
   ]
  },
  {
   "cell_type": "code",
   "execution_count": 177,
   "metadata": {
    "colab": {
     "base_uri": "https://localhost:8080/"
    },
    "id": "czzVJdFKchKg",
    "outputId": "cac7cc35-73f1-471f-fe0e-25cb17c45d9b"
   },
   "outputs": [
    {
     "data": {
      "text/plain": [
       "torch.Size([1, 3, 256, 256])"
      ]
     },
     "execution_count": 177,
     "metadata": {},
     "output_type": "execute_result"
    }
   ],
   "source": [
    "x.unsqueeze(dim=0).size()"
   ]
  },
  {
   "cell_type": "code",
   "execution_count": 178,
   "metadata": {
    "id": "ZXTG3c2DchMo"
   },
   "outputs": [],
   "source": [
    "output = model(x.unsqueeze(dim=0).cuda()).cpu()"
   ]
  },
  {
   "cell_type": "code",
   "execution_count": 191,
   "metadata": {
    "colab": {
     "base_uri": "https://localhost:8080/"
    },
    "id": "957GdClEO5A8",
    "outputId": "d6e0d540-3eb5-43a6-abc1-8732a66a3847"
   },
   "outputs": [
    {
     "name": "stdout",
     "output_type": "stream",
     "text": [
      "tensor([[[[0., 0., 0.,  ..., 0., 0., 0.],\n",
      "          [0., 0., 0.,  ..., 0., 0., 0.],\n",
      "          [0., 0., 0.,  ..., 0., 0., 0.],\n",
      "          ...,\n",
      "          [0., 0., 0.,  ..., 0., 0., 0.],\n",
      "          [0., 0., 0.,  ..., 0., 0., 0.],\n",
      "          [0., 0., 0.,  ..., 0., 0., 0.]],\n",
      "\n",
      "         [[0., 0., 0.,  ..., 0., 0., 0.],\n",
      "          [0., 0., 0.,  ..., 0., 0., 0.],\n",
      "          [0., 0., 0.,  ..., 0., 0., 0.],\n",
      "          ...,\n",
      "          [0., 0., 0.,  ..., 0., 0., 0.],\n",
      "          [0., 0., 0.,  ..., 0., 0., 0.],\n",
      "          [0., 0., 0.,  ..., 0., 0., 0.]]]], grad_fn=<CopyBackwards>)\n"
     ]
    }
   ],
   "source": [
    "print(output)\n",
    "im = output\n"
   ]
  },
  {
   "cell_type": "code",
   "execution_count": 192,
   "metadata": {
    "id": "egVg6mcDO1b9"
   },
   "outputs": [],
   "source": [
    "im = np.transpose(im.squeeze().detach().numpy())"
   ]
  },
  {
   "cell_type": "code",
   "execution_count": 195,
   "metadata": {
    "colab": {
     "base_uri": "https://localhost:8080/"
    },
    "id": "DUcxd-CaPS-q",
    "outputId": "cd272c31-ba0d-4e15-a9fb-a88abf9f626b"
   },
   "outputs": [
    {
     "data": {
      "text/plain": [
       "(256, 256, 2)"
      ]
     },
     "execution_count": 195,
     "metadata": {},
     "output_type": "execute_result"
    }
   ],
   "source": [
    "im.shape"
   ]
  },
  {
   "cell_type": "code",
   "execution_count": 197,
   "metadata": {
    "id": "ODm9pLzzY-dD"
   },
   "outputs": [],
   "source": [
    "im = np.argmax(im)"
   ]
  },
  {
   "cell_type": "code",
   "execution_count": 217,
   "metadata": {
    "colab": {
     "base_uri": "https://localhost:8080/",
     "height": 772
    },
    "id": "0fFCxeIRnVTN",
    "outputId": "c0e02ce6-38ef-4087-a957-a26cee0c6490"
   },
   "outputs": [
    {
     "ename": "ValueError",
     "evalue": "ignored",
     "output_type": "error",
     "traceback": [
      "\u001b[0;31m---------------------------------------------------------------------------\u001b[0m",
      "\u001b[0;31mTypeError\u001b[0m                                 Traceback (most recent call last)",
      "\u001b[0;32m/usr/local/lib/python3.7/dist-packages/numpy/core/fromnumeric.py\u001b[0m in \u001b[0;36m_wrapfunc\u001b[0;34m(obj, method, *args, **kwds)\u001b[0m\n\u001b[1;32m     57\u001b[0m     \u001b[0;32mtry\u001b[0m\u001b[0;34m:\u001b[0m\u001b[0;34m\u001b[0m\u001b[0;34m\u001b[0m\u001b[0m\n\u001b[0;32m---> 58\u001b[0;31m         \u001b[0;32mreturn\u001b[0m \u001b[0mbound\u001b[0m\u001b[0;34m(\u001b[0m\u001b[0;34m*\u001b[0m\u001b[0margs\u001b[0m\u001b[0;34m,\u001b[0m \u001b[0;34m**\u001b[0m\u001b[0mkwds\u001b[0m\u001b[0;34m)\u001b[0m\u001b[0;34m\u001b[0m\u001b[0;34m\u001b[0m\u001b[0m\n\u001b[0m\u001b[1;32m     59\u001b[0m     \u001b[0;32mexcept\u001b[0m \u001b[0mTypeError\u001b[0m\u001b[0;34m:\u001b[0m\u001b[0;34m\u001b[0m\u001b[0;34m\u001b[0m\u001b[0m\n",
      "\u001b[0;31mTypeError\u001b[0m: transpose() received an invalid combination of arguments - got (tuple), but expected one of:\n * (int dim0, int dim1)\n * (name dim0, name dim1)\n",
      "\nDuring handling of the above exception, another exception occurred:\n",
      "\u001b[0;31mValueError\u001b[0m                                Traceback (most recent call last)",
      "\u001b[0;32m<ipython-input-217-4efd01132cfb>\u001b[0m in \u001b[0;36m<module>\u001b[0;34m()\u001b[0m\n\u001b[1;32m      1\u001b[0m \u001b[0mplt\u001b[0m\u001b[0;34m.\u001b[0m\u001b[0mimshow\u001b[0m\u001b[0;34m(\u001b[0m\u001b[0mtarget\u001b[0m\u001b[0;34m)\u001b[0m\u001b[0;34m\u001b[0m\u001b[0;34m\u001b[0m\u001b[0m\n\u001b[0;32m----> 2\u001b[0;31m \u001b[0mplt\u001b[0m\u001b[0;34m.\u001b[0m\u001b[0mimshow\u001b[0m\u001b[0;34m(\u001b[0m\u001b[0mnp\u001b[0m\u001b[0;34m.\u001b[0m\u001b[0mtranspose\u001b[0m\u001b[0;34m(\u001b[0m\u001b[0mx\u001b[0m\u001b[0;34m,\u001b[0m\u001b[0;34m(\u001b[0m\u001b[0;36m1\u001b[0m\u001b[0;34m,\u001b[0m\u001b[0;36m2\u001b[0m\u001b[0;34m)\u001b[0m\u001b[0;34m)\u001b[0m\u001b[0;34m)\u001b[0m\u001b[0;34m\u001b[0m\u001b[0;34m\u001b[0m\u001b[0m\n\u001b[0m",
      "\u001b[0;32m<__array_function__ internals>\u001b[0m in \u001b[0;36mtranspose\u001b[0;34m(*args, **kwargs)\u001b[0m\n",
      "\u001b[0;32m/usr/local/lib/python3.7/dist-packages/numpy/core/fromnumeric.py\u001b[0m in \u001b[0;36mtranspose\u001b[0;34m(a, axes)\u001b[0m\n\u001b[1;32m    651\u001b[0m \u001b[0;34m\u001b[0m\u001b[0m\n\u001b[1;32m    652\u001b[0m     \"\"\"\n\u001b[0;32m--> 653\u001b[0;31m     \u001b[0;32mreturn\u001b[0m \u001b[0m_wrapfunc\u001b[0m\u001b[0;34m(\u001b[0m\u001b[0ma\u001b[0m\u001b[0;34m,\u001b[0m \u001b[0;34m'transpose'\u001b[0m\u001b[0;34m,\u001b[0m \u001b[0maxes\u001b[0m\u001b[0;34m)\u001b[0m\u001b[0;34m\u001b[0m\u001b[0;34m\u001b[0m\u001b[0m\n\u001b[0m\u001b[1;32m    654\u001b[0m \u001b[0;34m\u001b[0m\u001b[0m\n\u001b[1;32m    655\u001b[0m \u001b[0;34m\u001b[0m\u001b[0m\n",
      "\u001b[0;32m/usr/local/lib/python3.7/dist-packages/numpy/core/fromnumeric.py\u001b[0m in \u001b[0;36m_wrapfunc\u001b[0;34m(obj, method, *args, **kwds)\u001b[0m\n\u001b[1;32m     65\u001b[0m         \u001b[0;31m# Call _wrapit from within the except clause to ensure a potential\u001b[0m\u001b[0;34m\u001b[0m\u001b[0;34m\u001b[0m\u001b[0;34m\u001b[0m\u001b[0m\n\u001b[1;32m     66\u001b[0m         \u001b[0;31m# exception has a traceback chain.\u001b[0m\u001b[0;34m\u001b[0m\u001b[0;34m\u001b[0m\u001b[0;34m\u001b[0m\u001b[0m\n\u001b[0;32m---> 67\u001b[0;31m         \u001b[0;32mreturn\u001b[0m \u001b[0m_wrapit\u001b[0m\u001b[0;34m(\u001b[0m\u001b[0mobj\u001b[0m\u001b[0;34m,\u001b[0m \u001b[0mmethod\u001b[0m\u001b[0;34m,\u001b[0m \u001b[0;34m*\u001b[0m\u001b[0margs\u001b[0m\u001b[0;34m,\u001b[0m \u001b[0;34m**\u001b[0m\u001b[0mkwds\u001b[0m\u001b[0;34m)\u001b[0m\u001b[0;34m\u001b[0m\u001b[0;34m\u001b[0m\u001b[0m\n\u001b[0m\u001b[1;32m     68\u001b[0m \u001b[0;34m\u001b[0m\u001b[0m\n\u001b[1;32m     69\u001b[0m \u001b[0;34m\u001b[0m\u001b[0m\n",
      "\u001b[0;32m/usr/local/lib/python3.7/dist-packages/numpy/core/fromnumeric.py\u001b[0m in \u001b[0;36m_wrapit\u001b[0;34m(obj, method, *args, **kwds)\u001b[0m\n\u001b[1;32m     42\u001b[0m     \u001b[0;32mexcept\u001b[0m \u001b[0mAttributeError\u001b[0m\u001b[0;34m:\u001b[0m\u001b[0;34m\u001b[0m\u001b[0;34m\u001b[0m\u001b[0m\n\u001b[1;32m     43\u001b[0m         \u001b[0mwrap\u001b[0m \u001b[0;34m=\u001b[0m \u001b[0;32mNone\u001b[0m\u001b[0;34m\u001b[0m\u001b[0;34m\u001b[0m\u001b[0m\n\u001b[0;32m---> 44\u001b[0;31m     \u001b[0mresult\u001b[0m \u001b[0;34m=\u001b[0m \u001b[0mgetattr\u001b[0m\u001b[0;34m(\u001b[0m\u001b[0masarray\u001b[0m\u001b[0;34m(\u001b[0m\u001b[0mobj\u001b[0m\u001b[0;34m)\u001b[0m\u001b[0;34m,\u001b[0m \u001b[0mmethod\u001b[0m\u001b[0;34m)\u001b[0m\u001b[0;34m(\u001b[0m\u001b[0;34m*\u001b[0m\u001b[0margs\u001b[0m\u001b[0;34m,\u001b[0m \u001b[0;34m**\u001b[0m\u001b[0mkwds\u001b[0m\u001b[0;34m)\u001b[0m\u001b[0;34m\u001b[0m\u001b[0;34m\u001b[0m\u001b[0m\n\u001b[0m\u001b[1;32m     45\u001b[0m     \u001b[0;32mif\u001b[0m \u001b[0mwrap\u001b[0m\u001b[0;34m:\u001b[0m\u001b[0;34m\u001b[0m\u001b[0;34m\u001b[0m\u001b[0m\n\u001b[1;32m     46\u001b[0m         \u001b[0;32mif\u001b[0m \u001b[0;32mnot\u001b[0m \u001b[0misinstance\u001b[0m\u001b[0;34m(\u001b[0m\u001b[0mresult\u001b[0m\u001b[0;34m,\u001b[0m \u001b[0mmu\u001b[0m\u001b[0;34m.\u001b[0m\u001b[0mndarray\u001b[0m\u001b[0;34m)\u001b[0m\u001b[0;34m:\u001b[0m\u001b[0;34m\u001b[0m\u001b[0;34m\u001b[0m\u001b[0m\n",
      "\u001b[0;31mValueError\u001b[0m: axes don't match array"
     ]
    },
    {
     "data": {
      "image/png": "[encoded data removed]",
      "text/plain": [
       "<Figure size 432x288 with 1 Axes>"
      ]
     },
     "metadata": {
      "needs_background": "light"
     },
     "output_type": "display_data"
    }
   ],
   "source": [
    "plt.imshow(target)\n",
    "plt.imshow(np.transpose(x,(1,2)))"
   ]
  },
  {
   "cell_type": "code",
   "execution_count": 207,
   "metadata": {
    "colab": {
     "base_uri": "https://localhost:8080/",
     "height": 286
    },
    "id": "RvlBl35i2HLt",
    "outputId": "2660d677-1105-4faf-9c6d-91dff137401e"
   },
   "outputs": [
    {
     "data": {
      "text/plain": [
       "<matplotlib.image.AxesImage at 0x7f75785f4390>"
      ]
     },
     "execution_count": 207,
     "metadata": {},
     "output_type": "execute_result"
    },
    {
     "data": {
      "image/png": "[encoded data removed]",
      "text/plain": [
       "<Figure size 432x288 with 1 Axes>"
      ]
     },
     "metadata": {
      "needs_background": "light"
     },
     "output_type": "display_data"
    }
   ],
   "source": [
    "plt.imshow(target, cmap='gray')\n"
   ]
  },
  {
   "cell_type": "code",
   "execution_count": 202,
   "metadata": {
    "colab": {
     "base_uri": "https://localhost:8080/",
     "height": 34
    },
    "id": "Sm6vRqLf2Vhy",
    "outputId": "6aeb35b9-8ca1-4c3c-af37-f2d94daf5e03"
   },
   "outputs": [
    {
     "data": {
      "text/plain": [
       "<Figure size 432x288 with 0 Axes>"
      ]
     },
     "metadata": {},
     "output_type": "display_data"
    }
   ],
   "source": [
    "plt.savefig(\"test.png\")"
   ]
  },
  {
   "cell_type": "code",
   "execution_count": null,
   "metadata": {
    "id": "Pu8UJ0Qj2ZhC"
   },
   "outputs": [],
   "source": []
  }
 ],
 "metadata": {
  "accelerator": "GPU",
  "colab": {
   "collapsed_sections": [],
   "name": "DL_Lab4.ipynb",
   "provenance": []
  },
  "kernelspec": {
   "display_name": "Python 3",
   "language": "python",
   "name": "python3"
  },
  "language_info": {
   "codemirror_mode": {
    "name": "ipython",
    "version": 3
   },
   "file_extension": ".py",
   "mimetype": "text/x-python",
   "name": "python",
   "nbconvert_exporter": "python",
   "pygments_lexer": "ipython3",
   "version": "3.8.3"
  },
  "nteract": {
   "version": "0.28.0"
  },
  "pycharm": {
   "stem_cell": {
    "cell_type": "raw",
    "metadata": {
     "collapsed": false
    },
    "source": []
   }
  }
 },
 "nbformat": 4,
 "nbformat_minor": 1
}
